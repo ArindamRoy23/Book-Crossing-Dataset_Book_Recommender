{
  "cells": [
    {
      "cell_type": "code",
      "execution_count": 1,
      "id": "4414f6bd",
      "metadata": {
        "id": "4414f6bd"
      },
      "outputs": [],
      "source": [
        "import numpy as np\n",
        "import pandas as pd\n",
        "import re\n",
        "import seaborn as sns\n",
        "import matplotlib.pyplot as plt\n",
        "from sklearn.metrics.pairwise import cosine_similarity\n"
      ]
    },
    {
      "cell_type": "code",
      "source": [
        "from google.colab import drive\n",
        "drive.mount('/content/drive')"
      ],
      "metadata": {
        "colab": {
          "base_uri": "https://localhost:8080/"
        },
        "id": "T7CCJuqV2Mbj",
        "outputId": "ab7e5d25-3833-4389-c677-8548ef72a621"
      },
      "id": "T7CCJuqV2Mbj",
      "execution_count": 2,
      "outputs": [
        {
          "output_type": "stream",
          "name": "stdout",
          "text": [
            "Drive already mounted at /content/drive; to attempt to forcibly remount, call drive.mount(\"/content/drive\", force_remount=True).\n"
          ]
        }
      ]
    },
    {
      "cell_type": "code",
      "source": [
        "! pip install python-louvain"
      ],
      "metadata": {
        "colab": {
          "base_uri": "https://localhost:8080/"
        },
        "id": "yprBGkcs8SmJ",
        "outputId": "b5cd1e25-84e4-4d70-b379-1b3814c7a964"
      },
      "id": "yprBGkcs8SmJ",
      "execution_count": 3,
      "outputs": [
        {
          "output_type": "stream",
          "name": "stdout",
          "text": [
            "Looking in indexes: https://pypi.org/simple, https://us-python.pkg.dev/colab-wheels/public/simple/\n",
            "Requirement already satisfied: python-louvain in /usr/local/lib/python3.10/dist-packages (0.16)\n",
            "Requirement already satisfied: networkx in /usr/local/lib/python3.10/dist-packages (from python-louvain) (3.1)\n",
            "Requirement already satisfied: numpy in /usr/local/lib/python3.10/dist-packages (from python-louvain) (1.22.4)\n"
          ]
        }
      ]
    },
    {
      "cell_type": "markdown",
      "id": "e104843b",
      "metadata": {
        "id": "e104843b"
      },
      "source": [
        "# Functions "
      ]
    },
    {
      "cell_type": "code",
      "execution_count": 4,
      "id": "269b86e1",
      "metadata": {
        "id": "269b86e1"
      },
      "outputs": [],
      "source": [
        "def perform_eda(data):\n",
        "    # Summary statistics\n",
        "    summary = data.describe()\n",
        "    \n",
        "    # Missing values\n",
        "    missing_values = data.isnull().sum()\n",
        "    \n",
        "    # Data types\n",
        "    data_types = data.dtypes\n",
        "    \n",
        "    # Unique values\n",
        "    unique_values = data.nunique()\n",
        "    \n",
        "    \n",
        "    # Print results\n",
        "    print(\"Summary Statistics:\\n\", summary)\n",
        "    print(\"\\nMissing Values:\\n\", missing_values)\n",
        "    print(\"\\nData Types:\\n\", data_types)\n",
        "    print(\"\\nUnique Values:\\n\", unique_values)\n",
        "    print(\"\\nShape of data:\\n\", data.shape)\n",
        "    \n",
        "def remove_non_letters(text):\n",
        "    return re.sub('[^a-zA-Z]', '', text)\n",
        "\n",
        "\n"
      ]
    },
    {
      "cell_type": "markdown",
      "id": "c6a7d177",
      "metadata": {
        "id": "c6a7d177"
      },
      "source": [
        "# Primary Data Analysis"
      ]
    },
    {
      "cell_type": "code",
      "execution_count": 5,
      "id": "389dead8",
      "metadata": {
        "colab": {
          "base_uri": "https://localhost:8080/",
          "height": 206
        },
        "id": "389dead8",
        "outputId": "573437c8-e2bc-475a-d41e-3f8a9851e051"
      },
      "outputs": [
        {
          "output_type": "execute_result",
          "data": {
            "text/plain": [
              "   user_id                            location   age\n",
              "0        1                  nyc, new york, usa   NaN\n",
              "1        2           stockton, california, usa  18.0\n",
              "2        3     moscow, yukon territory, russia   NaN\n",
              "3        4           porto, v.n.gaia, portugal  17.0\n",
              "4        5  farnborough, hants, united kingdom   NaN"
            ],
            "text/html": [
              "\n",
              "  <div id=\"df-59a24b69-6faa-4396-a585-cf63cade65cc\">\n",
              "    <div class=\"colab-df-container\">\n",
              "      <div>\n",
              "<style scoped>\n",
              "    .dataframe tbody tr th:only-of-type {\n",
              "        vertical-align: middle;\n",
              "    }\n",
              "\n",
              "    .dataframe tbody tr th {\n",
              "        vertical-align: top;\n",
              "    }\n",
              "\n",
              "    .dataframe thead th {\n",
              "        text-align: right;\n",
              "    }\n",
              "</style>\n",
              "<table border=\"1\" class=\"dataframe\">\n",
              "  <thead>\n",
              "    <tr style=\"text-align: right;\">\n",
              "      <th></th>\n",
              "      <th>user_id</th>\n",
              "      <th>location</th>\n",
              "      <th>age</th>\n",
              "    </tr>\n",
              "  </thead>\n",
              "  <tbody>\n",
              "    <tr>\n",
              "      <th>0</th>\n",
              "      <td>1</td>\n",
              "      <td>nyc, new york, usa</td>\n",
              "      <td>NaN</td>\n",
              "    </tr>\n",
              "    <tr>\n",
              "      <th>1</th>\n",
              "      <td>2</td>\n",
              "      <td>stockton, california, usa</td>\n",
              "      <td>18.0</td>\n",
              "    </tr>\n",
              "    <tr>\n",
              "      <th>2</th>\n",
              "      <td>3</td>\n",
              "      <td>moscow, yukon territory, russia</td>\n",
              "      <td>NaN</td>\n",
              "    </tr>\n",
              "    <tr>\n",
              "      <th>3</th>\n",
              "      <td>4</td>\n",
              "      <td>porto, v.n.gaia, portugal</td>\n",
              "      <td>17.0</td>\n",
              "    </tr>\n",
              "    <tr>\n",
              "      <th>4</th>\n",
              "      <td>5</td>\n",
              "      <td>farnborough, hants, united kingdom</td>\n",
              "      <td>NaN</td>\n",
              "    </tr>\n",
              "  </tbody>\n",
              "</table>\n",
              "</div>\n",
              "      <button class=\"colab-df-convert\" onclick=\"convertToInteractive('df-59a24b69-6faa-4396-a585-cf63cade65cc')\"\n",
              "              title=\"Convert this dataframe to an interactive table.\"\n",
              "              style=\"display:none;\">\n",
              "        \n",
              "  <svg xmlns=\"http://www.w3.org/2000/svg\" height=\"24px\"viewBox=\"0 0 24 24\"\n",
              "       width=\"24px\">\n",
              "    <path d=\"M0 0h24v24H0V0z\" fill=\"none\"/>\n",
              "    <path d=\"M18.56 5.44l.94 2.06.94-2.06 2.06-.94-2.06-.94-.94-2.06-.94 2.06-2.06.94zm-11 1L8.5 8.5l.94-2.06 2.06-.94-2.06-.94L8.5 2.5l-.94 2.06-2.06.94zm10 10l.94 2.06.94-2.06 2.06-.94-2.06-.94-.94-2.06-.94 2.06-2.06.94z\"/><path d=\"M17.41 7.96l-1.37-1.37c-.4-.4-.92-.59-1.43-.59-.52 0-1.04.2-1.43.59L10.3 9.45l-7.72 7.72c-.78.78-.78 2.05 0 2.83L4 21.41c.39.39.9.59 1.41.59.51 0 1.02-.2 1.41-.59l7.78-7.78 2.81-2.81c.8-.78.8-2.07 0-2.86zM5.41 20L4 18.59l7.72-7.72 1.47 1.35L5.41 20z\"/>\n",
              "  </svg>\n",
              "      </button>\n",
              "      \n",
              "  <style>\n",
              "    .colab-df-container {\n",
              "      display:flex;\n",
              "      flex-wrap:wrap;\n",
              "      gap: 12px;\n",
              "    }\n",
              "\n",
              "    .colab-df-convert {\n",
              "      background-color: #E8F0FE;\n",
              "      border: none;\n",
              "      border-radius: 50%;\n",
              "      cursor: pointer;\n",
              "      display: none;\n",
              "      fill: #1967D2;\n",
              "      height: 32px;\n",
              "      padding: 0 0 0 0;\n",
              "      width: 32px;\n",
              "    }\n",
              "\n",
              "    .colab-df-convert:hover {\n",
              "      background-color: #E2EBFA;\n",
              "      box-shadow: 0px 1px 2px rgba(60, 64, 67, 0.3), 0px 1px 3px 1px rgba(60, 64, 67, 0.15);\n",
              "      fill: #174EA6;\n",
              "    }\n",
              "\n",
              "    [theme=dark] .colab-df-convert {\n",
              "      background-color: #3B4455;\n",
              "      fill: #D2E3FC;\n",
              "    }\n",
              "\n",
              "    [theme=dark] .colab-df-convert:hover {\n",
              "      background-color: #434B5C;\n",
              "      box-shadow: 0px 1px 3px 1px rgba(0, 0, 0, 0.15);\n",
              "      filter: drop-shadow(0px 1px 2px rgba(0, 0, 0, 0.3));\n",
              "      fill: #FFFFFF;\n",
              "    }\n",
              "  </style>\n",
              "\n",
              "      <script>\n",
              "        const buttonEl =\n",
              "          document.querySelector('#df-59a24b69-6faa-4396-a585-cf63cade65cc button.colab-df-convert');\n",
              "        buttonEl.style.display =\n",
              "          google.colab.kernel.accessAllowed ? 'block' : 'none';\n",
              "\n",
              "        async function convertToInteractive(key) {\n",
              "          const element = document.querySelector('#df-59a24b69-6faa-4396-a585-cf63cade65cc');\n",
              "          const dataTable =\n",
              "            await google.colab.kernel.invokeFunction('convertToInteractive',\n",
              "                                                     [key], {});\n",
              "          if (!dataTable) return;\n",
              "\n",
              "          const docLinkHtml = 'Like what you see? Visit the ' +\n",
              "            '<a target=\"_blank\" href=https://colab.research.google.com/notebooks/data_table.ipynb>data table notebook</a>'\n",
              "            + ' to learn more about interactive tables.';\n",
              "          element.innerHTML = '';\n",
              "          dataTable['output_type'] = 'display_data';\n",
              "          await google.colab.output.renderOutput(dataTable, element);\n",
              "          const docLink = document.createElement('div');\n",
              "          docLink.innerHTML = docLinkHtml;\n",
              "          element.appendChild(docLink);\n",
              "        }\n",
              "      </script>\n",
              "    </div>\n",
              "  </div>\n",
              "  "
            ]
          },
          "metadata": {},
          "execution_count": 5
        }
      ],
      "source": [
        "u_cols = ['user_id', 'location', 'age']\n",
        "users = pd.read_csv('/content/drive/MyDrive/DS Interview/BX-Users.csv', sep=';',skiprows=1, names=u_cols, encoding='latin-1',low_memory=False)\n",
        "users.head()"
      ]
    },
    {
      "cell_type": "code",
      "execution_count": 6,
      "id": "eda3fb22",
      "metadata": {
        "scrolled": true,
        "colab": {
          "base_uri": "https://localhost:8080/",
          "height": 773
        },
        "id": "eda3fb22",
        "outputId": "67769625-b56d-4f3e-f755-f8499cb95efe"
      },
      "outputs": [
        {
          "output_type": "stream",
          "name": "stderr",
          "text": [
            "Skipping line 6452: expected 8 fields, saw 9\n",
            "Skipping line 43667: expected 8 fields, saw 10\n",
            "Skipping line 51751: expected 8 fields, saw 9\n",
            "Skipping line 92038: expected 8 fields, saw 9\n",
            "Skipping line 104319: expected 8 fields, saw 9\n",
            "Skipping line 121768: expected 8 fields, saw 9\n",
            "Skipping line 144058: expected 8 fields, saw 9\n",
            "Skipping line 150789: expected 8 fields, saw 9\n",
            "Skipping line 157128: expected 8 fields, saw 9\n",
            "Skipping line 180189: expected 8 fields, saw 9\n",
            "Skipping line 185738: expected 8 fields, saw 9\n",
            "Skipping line 209388: expected 8 fields, saw 9\n",
            "Skipping line 220626: expected 8 fields, saw 9\n",
            "Skipping line 227933: expected 8 fields, saw 11\n",
            "Skipping line 228957: expected 8 fields, saw 10\n",
            "Skipping line 245933: expected 8 fields, saw 9\n",
            "Skipping line 251296: expected 8 fields, saw 9\n",
            "Skipping line 259941: expected 8 fields, saw 9\n",
            "Skipping line 261529: expected 8 fields, saw 9\n",
            "\n"
          ]
        },
        {
          "output_type": "execute_result",
          "data": {
            "text/plain": [
              "         isbn                                         book_title  \\\n",
              "0  0195153448                                Classical Mythology   \n",
              "1  0002005018                                       Clara Callan   \n",
              "2  0060973129                               Decision in Normandy   \n",
              "3  0374157065  Flu: The Story of the Great Influenza Pandemic...   \n",
              "4  0393045218                             The Mummies of Urumchi   \n",
              "\n",
              "            book_author year_of_publication                   publisher  \\\n",
              "0    Mark P. O. Morford                2002     Oxford University Press   \n",
              "1  Richard Bruce Wright                2001       HarperFlamingo Canada   \n",
              "2          Carlo D'Este                1991             HarperPerennial   \n",
              "3      Gina Bari Kolata                1999        Farrar Straus Giroux   \n",
              "4       E. J. W. Barber                1999  W. W. Norton &amp; Company   \n",
              "\n",
              "                                               img_s  \\\n",
              "0  http://images.amazon.com/images/P/0195153448.0...   \n",
              "1  http://images.amazon.com/images/P/0002005018.0...   \n",
              "2  http://images.amazon.com/images/P/0060973129.0...   \n",
              "3  http://images.amazon.com/images/P/0374157065.0...   \n",
              "4  http://images.amazon.com/images/P/0393045218.0...   \n",
              "\n",
              "                                               img_m  \\\n",
              "0  http://images.amazon.com/images/P/0195153448.0...   \n",
              "1  http://images.amazon.com/images/P/0002005018.0...   \n",
              "2  http://images.amazon.com/images/P/0060973129.0...   \n",
              "3  http://images.amazon.com/images/P/0374157065.0...   \n",
              "4  http://images.amazon.com/images/P/0393045218.0...   \n",
              "\n",
              "                                               img_l  \n",
              "0  http://images.amazon.com/images/P/0195153448.0...  \n",
              "1  http://images.amazon.com/images/P/0002005018.0...  \n",
              "2  http://images.amazon.com/images/P/0060973129.0...  \n",
              "3  http://images.amazon.com/images/P/0374157065.0...  \n",
              "4  http://images.amazon.com/images/P/0393045218.0...  "
            ],
            "text/html": [
              "\n",
              "  <div id=\"df-57f28f48-2445-42c0-af5a-2d72fa94dd3f\">\n",
              "    <div class=\"colab-df-container\">\n",
              "      <div>\n",
              "<style scoped>\n",
              "    .dataframe tbody tr th:only-of-type {\n",
              "        vertical-align: middle;\n",
              "    }\n",
              "\n",
              "    .dataframe tbody tr th {\n",
              "        vertical-align: top;\n",
              "    }\n",
              "\n",
              "    .dataframe thead th {\n",
              "        text-align: right;\n",
              "    }\n",
              "</style>\n",
              "<table border=\"1\" class=\"dataframe\">\n",
              "  <thead>\n",
              "    <tr style=\"text-align: right;\">\n",
              "      <th></th>\n",
              "      <th>isbn</th>\n",
              "      <th>book_title</th>\n",
              "      <th>book_author</th>\n",
              "      <th>year_of_publication</th>\n",
              "      <th>publisher</th>\n",
              "      <th>img_s</th>\n",
              "      <th>img_m</th>\n",
              "      <th>img_l</th>\n",
              "    </tr>\n",
              "  </thead>\n",
              "  <tbody>\n",
              "    <tr>\n",
              "      <th>0</th>\n",
              "      <td>0195153448</td>\n",
              "      <td>Classical Mythology</td>\n",
              "      <td>Mark P. O. Morford</td>\n",
              "      <td>2002</td>\n",
              "      <td>Oxford University Press</td>\n",
              "      <td>http://images.amazon.com/images/P/0195153448.0...</td>\n",
              "      <td>http://images.amazon.com/images/P/0195153448.0...</td>\n",
              "      <td>http://images.amazon.com/images/P/0195153448.0...</td>\n",
              "    </tr>\n",
              "    <tr>\n",
              "      <th>1</th>\n",
              "      <td>0002005018</td>\n",
              "      <td>Clara Callan</td>\n",
              "      <td>Richard Bruce Wright</td>\n",
              "      <td>2001</td>\n",
              "      <td>HarperFlamingo Canada</td>\n",
              "      <td>http://images.amazon.com/images/P/0002005018.0...</td>\n",
              "      <td>http://images.amazon.com/images/P/0002005018.0...</td>\n",
              "      <td>http://images.amazon.com/images/P/0002005018.0...</td>\n",
              "    </tr>\n",
              "    <tr>\n",
              "      <th>2</th>\n",
              "      <td>0060973129</td>\n",
              "      <td>Decision in Normandy</td>\n",
              "      <td>Carlo D'Este</td>\n",
              "      <td>1991</td>\n",
              "      <td>HarperPerennial</td>\n",
              "      <td>http://images.amazon.com/images/P/0060973129.0...</td>\n",
              "      <td>http://images.amazon.com/images/P/0060973129.0...</td>\n",
              "      <td>http://images.amazon.com/images/P/0060973129.0...</td>\n",
              "    </tr>\n",
              "    <tr>\n",
              "      <th>3</th>\n",
              "      <td>0374157065</td>\n",
              "      <td>Flu: The Story of the Great Influenza Pandemic...</td>\n",
              "      <td>Gina Bari Kolata</td>\n",
              "      <td>1999</td>\n",
              "      <td>Farrar Straus Giroux</td>\n",
              "      <td>http://images.amazon.com/images/P/0374157065.0...</td>\n",
              "      <td>http://images.amazon.com/images/P/0374157065.0...</td>\n",
              "      <td>http://images.amazon.com/images/P/0374157065.0...</td>\n",
              "    </tr>\n",
              "    <tr>\n",
              "      <th>4</th>\n",
              "      <td>0393045218</td>\n",
              "      <td>The Mummies of Urumchi</td>\n",
              "      <td>E. J. W. Barber</td>\n",
              "      <td>1999</td>\n",
              "      <td>W. W. Norton &amp;amp; Company</td>\n",
              "      <td>http://images.amazon.com/images/P/0393045218.0...</td>\n",
              "      <td>http://images.amazon.com/images/P/0393045218.0...</td>\n",
              "      <td>http://images.amazon.com/images/P/0393045218.0...</td>\n",
              "    </tr>\n",
              "  </tbody>\n",
              "</table>\n",
              "</div>\n",
              "      <button class=\"colab-df-convert\" onclick=\"convertToInteractive('df-57f28f48-2445-42c0-af5a-2d72fa94dd3f')\"\n",
              "              title=\"Convert this dataframe to an interactive table.\"\n",
              "              style=\"display:none;\">\n",
              "        \n",
              "  <svg xmlns=\"http://www.w3.org/2000/svg\" height=\"24px\"viewBox=\"0 0 24 24\"\n",
              "       width=\"24px\">\n",
              "    <path d=\"M0 0h24v24H0V0z\" fill=\"none\"/>\n",
              "    <path d=\"M18.56 5.44l.94 2.06.94-2.06 2.06-.94-2.06-.94-.94-2.06-.94 2.06-2.06.94zm-11 1L8.5 8.5l.94-2.06 2.06-.94-2.06-.94L8.5 2.5l-.94 2.06-2.06.94zm10 10l.94 2.06.94-2.06 2.06-.94-2.06-.94-.94-2.06-.94 2.06-2.06.94z\"/><path d=\"M17.41 7.96l-1.37-1.37c-.4-.4-.92-.59-1.43-.59-.52 0-1.04.2-1.43.59L10.3 9.45l-7.72 7.72c-.78.78-.78 2.05 0 2.83L4 21.41c.39.39.9.59 1.41.59.51 0 1.02-.2 1.41-.59l7.78-7.78 2.81-2.81c.8-.78.8-2.07 0-2.86zM5.41 20L4 18.59l7.72-7.72 1.47 1.35L5.41 20z\"/>\n",
              "  </svg>\n",
              "      </button>\n",
              "      \n",
              "  <style>\n",
              "    .colab-df-container {\n",
              "      display:flex;\n",
              "      flex-wrap:wrap;\n",
              "      gap: 12px;\n",
              "    }\n",
              "\n",
              "    .colab-df-convert {\n",
              "      background-color: #E8F0FE;\n",
              "      border: none;\n",
              "      border-radius: 50%;\n",
              "      cursor: pointer;\n",
              "      display: none;\n",
              "      fill: #1967D2;\n",
              "      height: 32px;\n",
              "      padding: 0 0 0 0;\n",
              "      width: 32px;\n",
              "    }\n",
              "\n",
              "    .colab-df-convert:hover {\n",
              "      background-color: #E2EBFA;\n",
              "      box-shadow: 0px 1px 2px rgba(60, 64, 67, 0.3), 0px 1px 3px 1px rgba(60, 64, 67, 0.15);\n",
              "      fill: #174EA6;\n",
              "    }\n",
              "\n",
              "    [theme=dark] .colab-df-convert {\n",
              "      background-color: #3B4455;\n",
              "      fill: #D2E3FC;\n",
              "    }\n",
              "\n",
              "    [theme=dark] .colab-df-convert:hover {\n",
              "      background-color: #434B5C;\n",
              "      box-shadow: 0px 1px 3px 1px rgba(0, 0, 0, 0.15);\n",
              "      filter: drop-shadow(0px 1px 2px rgba(0, 0, 0, 0.3));\n",
              "      fill: #FFFFFF;\n",
              "    }\n",
              "  </style>\n",
              "\n",
              "      <script>\n",
              "        const buttonEl =\n",
              "          document.querySelector('#df-57f28f48-2445-42c0-af5a-2d72fa94dd3f button.colab-df-convert');\n",
              "        buttonEl.style.display =\n",
              "          google.colab.kernel.accessAllowed ? 'block' : 'none';\n",
              "\n",
              "        async function convertToInteractive(key) {\n",
              "          const element = document.querySelector('#df-57f28f48-2445-42c0-af5a-2d72fa94dd3f');\n",
              "          const dataTable =\n",
              "            await google.colab.kernel.invokeFunction('convertToInteractive',\n",
              "                                                     [key], {});\n",
              "          if (!dataTable) return;\n",
              "\n",
              "          const docLinkHtml = 'Like what you see? Visit the ' +\n",
              "            '<a target=\"_blank\" href=https://colab.research.google.com/notebooks/data_table.ipynb>data table notebook</a>'\n",
              "            + ' to learn more about interactive tables.';\n",
              "          element.innerHTML = '';\n",
              "          dataTable['output_type'] = 'display_data';\n",
              "          await google.colab.output.renderOutput(dataTable, element);\n",
              "          const docLink = document.createElement('div');\n",
              "          docLink.innerHTML = docLinkHtml;\n",
              "          element.appendChild(docLink);\n",
              "        }\n",
              "      </script>\n",
              "    </div>\n",
              "  </div>\n",
              "  "
            ]
          },
          "metadata": {},
          "execution_count": 6
        }
      ],
      "source": [
        "b_cols = ['isbn', 'book_title' ,'book_author','year_of_publication', 'publisher', 'img_s', 'img_m', 'img_l']\n",
        "books = pd.read_csv('/content/drive/MyDrive/DS Interview/BX-Books.csv', sep=';',skiprows=1, names=b_cols, encoding='latin-1',low_memory=False,on_bad_lines='warn')\n",
        "books.head()\n",
        "# 19 books not in data frame"
      ]
    },
    {
      "cell_type": "code",
      "execution_count": 7,
      "id": "94923046",
      "metadata": {
        "colab": {
          "base_uri": "https://localhost:8080/",
          "height": 206
        },
        "id": "94923046",
        "outputId": "a28a8218-f7ad-4c2b-86b8-5070453821cc"
      },
      "outputs": [
        {
          "output_type": "execute_result",
          "data": {
            "text/plain": [
              "   user_id        isbn  rating\n",
              "0   276725  034545104X       0\n",
              "1   276726  0155061224       5\n",
              "2   276727  0446520802       0\n",
              "3   276729  052165615X       3\n",
              "4   276729  0521795028       6"
            ],
            "text/html": [
              "\n",
              "  <div id=\"df-010ba909-25c1-4b15-b8ca-2f61012262d8\">\n",
              "    <div class=\"colab-df-container\">\n",
              "      <div>\n",
              "<style scoped>\n",
              "    .dataframe tbody tr th:only-of-type {\n",
              "        vertical-align: middle;\n",
              "    }\n",
              "\n",
              "    .dataframe tbody tr th {\n",
              "        vertical-align: top;\n",
              "    }\n",
              "\n",
              "    .dataframe thead th {\n",
              "        text-align: right;\n",
              "    }\n",
              "</style>\n",
              "<table border=\"1\" class=\"dataframe\">\n",
              "  <thead>\n",
              "    <tr style=\"text-align: right;\">\n",
              "      <th></th>\n",
              "      <th>user_id</th>\n",
              "      <th>isbn</th>\n",
              "      <th>rating</th>\n",
              "    </tr>\n",
              "  </thead>\n",
              "  <tbody>\n",
              "    <tr>\n",
              "      <th>0</th>\n",
              "      <td>276725</td>\n",
              "      <td>034545104X</td>\n",
              "      <td>0</td>\n",
              "    </tr>\n",
              "    <tr>\n",
              "      <th>1</th>\n",
              "      <td>276726</td>\n",
              "      <td>0155061224</td>\n",
              "      <td>5</td>\n",
              "    </tr>\n",
              "    <tr>\n",
              "      <th>2</th>\n",
              "      <td>276727</td>\n",
              "      <td>0446520802</td>\n",
              "      <td>0</td>\n",
              "    </tr>\n",
              "    <tr>\n",
              "      <th>3</th>\n",
              "      <td>276729</td>\n",
              "      <td>052165615X</td>\n",
              "      <td>3</td>\n",
              "    </tr>\n",
              "    <tr>\n",
              "      <th>4</th>\n",
              "      <td>276729</td>\n",
              "      <td>0521795028</td>\n",
              "      <td>6</td>\n",
              "    </tr>\n",
              "  </tbody>\n",
              "</table>\n",
              "</div>\n",
              "      <button class=\"colab-df-convert\" onclick=\"convertToInteractive('df-010ba909-25c1-4b15-b8ca-2f61012262d8')\"\n",
              "              title=\"Convert this dataframe to an interactive table.\"\n",
              "              style=\"display:none;\">\n",
              "        \n",
              "  <svg xmlns=\"http://www.w3.org/2000/svg\" height=\"24px\"viewBox=\"0 0 24 24\"\n",
              "       width=\"24px\">\n",
              "    <path d=\"M0 0h24v24H0V0z\" fill=\"none\"/>\n",
              "    <path d=\"M18.56 5.44l.94 2.06.94-2.06 2.06-.94-2.06-.94-.94-2.06-.94 2.06-2.06.94zm-11 1L8.5 8.5l.94-2.06 2.06-.94-2.06-.94L8.5 2.5l-.94 2.06-2.06.94zm10 10l.94 2.06.94-2.06 2.06-.94-2.06-.94-.94-2.06-.94 2.06-2.06.94z\"/><path d=\"M17.41 7.96l-1.37-1.37c-.4-.4-.92-.59-1.43-.59-.52 0-1.04.2-1.43.59L10.3 9.45l-7.72 7.72c-.78.78-.78 2.05 0 2.83L4 21.41c.39.39.9.59 1.41.59.51 0 1.02-.2 1.41-.59l7.78-7.78 2.81-2.81c.8-.78.8-2.07 0-2.86zM5.41 20L4 18.59l7.72-7.72 1.47 1.35L5.41 20z\"/>\n",
              "  </svg>\n",
              "      </button>\n",
              "      \n",
              "  <style>\n",
              "    .colab-df-container {\n",
              "      display:flex;\n",
              "      flex-wrap:wrap;\n",
              "      gap: 12px;\n",
              "    }\n",
              "\n",
              "    .colab-df-convert {\n",
              "      background-color: #E8F0FE;\n",
              "      border: none;\n",
              "      border-radius: 50%;\n",
              "      cursor: pointer;\n",
              "      display: none;\n",
              "      fill: #1967D2;\n",
              "      height: 32px;\n",
              "      padding: 0 0 0 0;\n",
              "      width: 32px;\n",
              "    }\n",
              "\n",
              "    .colab-df-convert:hover {\n",
              "      background-color: #E2EBFA;\n",
              "      box-shadow: 0px 1px 2px rgba(60, 64, 67, 0.3), 0px 1px 3px 1px rgba(60, 64, 67, 0.15);\n",
              "      fill: #174EA6;\n",
              "    }\n",
              "\n",
              "    [theme=dark] .colab-df-convert {\n",
              "      background-color: #3B4455;\n",
              "      fill: #D2E3FC;\n",
              "    }\n",
              "\n",
              "    [theme=dark] .colab-df-convert:hover {\n",
              "      background-color: #434B5C;\n",
              "      box-shadow: 0px 1px 3px 1px rgba(0, 0, 0, 0.15);\n",
              "      filter: drop-shadow(0px 1px 2px rgba(0, 0, 0, 0.3));\n",
              "      fill: #FFFFFF;\n",
              "    }\n",
              "  </style>\n",
              "\n",
              "      <script>\n",
              "        const buttonEl =\n",
              "          document.querySelector('#df-010ba909-25c1-4b15-b8ca-2f61012262d8 button.colab-df-convert');\n",
              "        buttonEl.style.display =\n",
              "          google.colab.kernel.accessAllowed ? 'block' : 'none';\n",
              "\n",
              "        async function convertToInteractive(key) {\n",
              "          const element = document.querySelector('#df-010ba909-25c1-4b15-b8ca-2f61012262d8');\n",
              "          const dataTable =\n",
              "            await google.colab.kernel.invokeFunction('convertToInteractive',\n",
              "                                                     [key], {});\n",
              "          if (!dataTable) return;\n",
              "\n",
              "          const docLinkHtml = 'Like what you see? Visit the ' +\n",
              "            '<a target=\"_blank\" href=https://colab.research.google.com/notebooks/data_table.ipynb>data table notebook</a>'\n",
              "            + ' to learn more about interactive tables.';\n",
              "          element.innerHTML = '';\n",
              "          dataTable['output_type'] = 'display_data';\n",
              "          await google.colab.output.renderOutput(dataTable, element);\n",
              "          const docLink = document.createElement('div');\n",
              "          docLink.innerHTML = docLinkHtml;\n",
              "          element.appendChild(docLink);\n",
              "        }\n",
              "      </script>\n",
              "    </div>\n",
              "  </div>\n",
              "  "
            ]
          },
          "metadata": {},
          "execution_count": 7
        }
      ],
      "source": [
        "r_cols = ['user_id', 'isbn', 'rating']\n",
        "ratings = pd.read_csv('/content/drive/MyDrive/DS Interview/BX-Book-Ratings.csv',skiprows=1, sep=';', names=r_cols, encoding='latin-1',low_memory=False)\n",
        "ratings.head()"
      ]
    },
    {
      "cell_type": "code",
      "execution_count": 8,
      "id": "fafa4928",
      "metadata": {
        "scrolled": true,
        "colab": {
          "base_uri": "https://localhost:8080/"
        },
        "id": "fafa4928",
        "outputId": "23f5358e-9088-48f0-8b4b-7dfc377a9eda"
      },
      "outputs": [
        {
          "output_type": "stream",
          "name": "stdout",
          "text": [
            "----------\n",
            "Stats for users df \n",
            "\n",
            "----------\n",
            "Summary Statistics:\n",
            "             user_id            age\n",
            "count  278858.00000  168096.000000\n",
            "mean   139429.50000      34.751434\n",
            "std     80499.51502      14.428097\n",
            "min         1.00000       0.000000\n",
            "25%     69715.25000      24.000000\n",
            "50%    139429.50000      32.000000\n",
            "75%    209143.75000      44.000000\n",
            "max    278858.00000     244.000000\n",
            "\n",
            "Missing Values:\n",
            " user_id          0\n",
            "location         0\n",
            "age         110762\n",
            "dtype: int64\n",
            "\n",
            "Data Types:\n",
            " user_id       int64\n",
            "location     object\n",
            "age         float64\n",
            "dtype: object\n",
            "\n",
            "Unique Values:\n",
            " user_id     278858\n",
            "location     57339\n",
            "age            165\n",
            "dtype: int64\n",
            "\n",
            "Shape of data:\n",
            " (278858, 3)\n",
            "----------\n",
            "Stats for books df\n",
            "----------\n",
            "Summary Statistics:\n",
            "               isbn      book_title      book_author year_of_publication  \\\n",
            "count       271360          271360           271359              271360   \n",
            "unique      271360          242135           102023                 118   \n",
            "top     0195153448  Selected Poems  Agatha Christie                2002   \n",
            "freq             1              27              632               17627   \n",
            "\n",
            "        publisher                                              img_s  \\\n",
            "count      271358                                             271360   \n",
            "unique      16807                                             271044   \n",
            "top     Harlequin  http://images.amazon.com/images/P/185326119X.0...   \n",
            "freq         7535                                                  2   \n",
            "\n",
            "                                                    img_m  \\\n",
            "count                                              271360   \n",
            "unique                                             271044   \n",
            "top     http://images.amazon.com/images/P/185326119X.0...   \n",
            "freq                                                    2   \n",
            "\n",
            "                                                    img_l  \n",
            "count                                              271357  \n",
            "unique                                             271041  \n",
            "top     http://images.amazon.com/images/P/225307649X.0...  \n",
            "freq                                                    2  \n",
            "\n",
            "Missing Values:\n",
            " isbn                   0\n",
            "book_title             0\n",
            "book_author            1\n",
            "year_of_publication    0\n",
            "publisher              2\n",
            "img_s                  0\n",
            "img_m                  0\n",
            "img_l                  3\n",
            "dtype: int64\n",
            "\n",
            "Data Types:\n",
            " isbn                   object\n",
            "book_title             object\n",
            "book_author            object\n",
            "year_of_publication    object\n",
            "publisher              object\n",
            "img_s                  object\n",
            "img_m                  object\n",
            "img_l                  object\n",
            "dtype: object\n",
            "\n",
            "Unique Values:\n",
            " isbn                   271360\n",
            "book_title             242135\n",
            "book_author            102023\n",
            "year_of_publication       118\n",
            "publisher               16807\n",
            "img_s                  271044\n",
            "img_m                  271044\n",
            "img_l                  271041\n",
            "dtype: int64\n",
            "\n",
            "Shape of data:\n",
            " (271360, 8)\n",
            "----------\n",
            "Stats for ratings df\n",
            "----------\n",
            "Summary Statistics:\n",
            "             user_id        rating\n",
            "count  1.149780e+06  1.149780e+06\n",
            "mean   1.403864e+05  2.866950e+00\n",
            "std    8.056228e+04  3.854184e+00\n",
            "min    2.000000e+00  0.000000e+00\n",
            "25%    7.034500e+04  0.000000e+00\n",
            "50%    1.410100e+05  0.000000e+00\n",
            "75%    2.110280e+05  7.000000e+00\n",
            "max    2.788540e+05  1.000000e+01\n",
            "\n",
            "Missing Values:\n",
            " user_id    0\n",
            "isbn       0\n",
            "rating     0\n",
            "dtype: int64\n",
            "\n",
            "Data Types:\n",
            " user_id     int64\n",
            "isbn       object\n",
            "rating      int64\n",
            "dtype: object\n",
            "\n",
            "Unique Values:\n",
            " user_id    105283\n",
            "isbn       340556\n",
            "rating         11\n",
            "dtype: int64\n",
            "\n",
            "Shape of data:\n",
            " (1149780, 3)\n",
            "----------\n"
          ]
        }
      ],
      "source": [
        "print('-'*10)\n",
        "print( 'Stats for users df \\n')\n",
        "print('-'*10)\n",
        "\n",
        "perform_eda(users)\n",
        "print('-'*10)\n",
        "print( 'Stats for books df')\n",
        "print('-'*10)\n",
        "\n",
        "\n",
        "perform_eda(books)\n",
        "print('-'*10)\n",
        "print( 'Stats for ratings df')\n",
        "print('-'*10)\n",
        "\n",
        "perform_eda(ratings)\n",
        "print('-'*10)\n"
      ]
    },
    {
      "cell_type": "markdown",
      "id": "19e0ffd9",
      "metadata": {
        "id": "19e0ffd9"
      },
      "source": [
        "# Data Cleanup"
      ]
    },
    {
      "cell_type": "code",
      "execution_count": 9,
      "id": "c8afc553",
      "metadata": {
        "colab": {
          "base_uri": "https://localhost:8080/"
        },
        "id": "c8afc553",
        "outputId": "c6c46284-2071-49b2-bb2a-5f8540b4ed40"
      },
      "outputs": [
        {
          "output_type": "stream",
          "name": "stdout",
          "text": [
            "Orignal book count 271360\n",
            "Actual book count 242505\n",
            "Orignal ratings count 1149780\n",
            "Actual ratings count 1144516\n"
          ]
        }
      ],
      "source": [
        "users['age'] = users['age'].astype(float)\n",
        "users['user_id'] = users['user_id'].astype(int)\n",
        "users['location'] = users['location'].apply(lambda x: x.split(',') if len(x.split(','))==3 else ['n/a', 'n/a', 'n/a'])\n",
        "users['city'] = users['location'].apply(lambda x: x[0].lower())\n",
        "users['state'] = users['location'].apply(lambda x: x[1].lower())\n",
        "users['country'] = users['location'].apply(lambda x: x[2].lower())\n",
        "users.drop(['location', 'age'], axis = 1, inplace=True)\n",
        "\n",
        "\n",
        "\n",
        "ratings['user_id'] = ratings['user_id'].astype(int)\n",
        "ratings['rating'] = ratings['rating'].astype(int)\n",
        "\n",
        "\n",
        "books['year_of_publication'] = books['year_of_publication'].apply(lambda s: int(s) if s.isdigit() else 2000)\n",
        "books['book_title_identifier'] = books['book_title'].apply(lambda x: remove_non_letters(x).lower()) + books['book_author'].apply(lambda x: str(x).lower().split(' ')[-1])\n",
        "print('Orignal book count', books.shape[0])\n",
        "print('Actual book count', len(books['book_title_identifier'].unique()))\n",
        "duplicates = books[books.duplicated(subset='book_title_identifier', keep=False)].groupby('book_title_identifier').apply(lambda x: x['isbn'].tolist()).to_dict()\n",
        "books.drop_duplicates(subset='book_title_identifier', inplace=True)\n",
        "\n",
        "\n",
        "correction_dict = {}  #{Incorrect ISBN: Correct ISBN}\n",
        "for li in duplicates.values():\n",
        "    correct_isbn = li[0]\n",
        "    for incorrect_isbn in li[1:]:\n",
        "        correction_dict[incorrect_isbn] = correct_isbn\n",
        "\n",
        "print('Orignal ratings count', ratings.shape[0])\n",
        "ratings['isbn'] = ratings['isbn'].map(correction_dict).fillna(ratings['isbn'])\n",
        "ratings = ratings.groupby(['isbn', 'user_id']).max().reset_index()\n",
        "print('Actual ratings count', ratings.shape[0])       \n"
      ]
    },
    {
      "cell_type": "code",
      "execution_count": 10,
      "id": "6641350c",
      "metadata": {
        "id": "6641350c"
      },
      "outputs": [],
      "source": [
        "ratings = ratings[ratings['rating']!=0]"
      ]
    },
    {
      "cell_type": "code",
      "source": [
        "ratings_copy = ratings.copy()"
      ],
      "metadata": {
        "id": "FhtJXOdm7HhG"
      },
      "id": "FhtJXOdm7HhG",
      "execution_count": 11,
      "outputs": []
    },
    {
      "cell_type": "markdown",
      "id": "bd1b1056",
      "metadata": {
        "id": "bd1b1056"
      },
      "source": [
        "## Clustering Based Recommender System"
      ]
    },
    {
      "cell_type": "code",
      "execution_count": 12,
      "id": "c827f496",
      "metadata": {
        "id": "c827f496"
      },
      "outputs": [],
      "source": [
        "# Config\n",
        "\n",
        "threshold_count_for_rating_scaling = 3 # Only scale if user has rated more than this\n",
        "graph_threshold_rating = 8 # Only considered if score over this rating\n",
        "user_rating_count_threshold = 10 # Minimum number of ratings a user should have given \n",
        "book_rating_count_threshold = 5 # Minimum number of ratings a book should have reviewed\n",
        "minimum_intersection_set_count = 1 # Minimum count of intersection to make an edge\n",
        "\n",
        "# Debug\n",
        "plot = 1"
      ]
    },
    {
      "cell_type": "code",
      "execution_count": 13,
      "id": "056814f8",
      "metadata": {
        "colab": {
          "base_uri": "https://localhost:8080/"
        },
        "id": "056814f8",
        "outputId": "3c46dfff-462d-48e7-f9f1-89e20281f449"
      },
      "outputs": [
        {
          "output_type": "stream",
          "name": "stdout",
          "text": [
            "Final book count before graph ---------- 8821\n",
            "---------- Completed 0/8821\n",
            "---------- Completed 1000/8821\n",
            "---------- Completed 2000/8821\n",
            "---------- Completed 3000/8821\n",
            "---------- Completed 4000/8821\n",
            "---------- Completed 5000/8821\n",
            "---------- Completed 6000/8821\n",
            "---------- Completed 7000/8821\n",
            "---------- Completed 8000/8821\n"
          ]
        }
      ],
      "source": [
        "ratings = ratings_copy.copy()\n",
        "x = ratings.groupby('user_id').count()['rating'] > user_rating_count_threshold\n",
        "above_threshold_users = x[x].index\n",
        "ratings = ratings[ratings['user_id'].isin(above_threshold_users)]\n",
        "y = ratings.groupby('isbn').count()['rating']>= book_rating_count_threshold\n",
        "relevant_books = y[y].index\n",
        "ratings = ratings[ratings['isbn'].isin(relevant_books)]\n",
        "\n",
        "# Scaling \n",
        "count_of_ratings = ratings.groupby('user_id').size().to_frame('count')\n",
        "to_be_scales_id = count_of_ratings[count_of_ratings['count']>threshold_count_for_rating_scaling].index\n",
        "scale_users_df = ratings[ratings['user_id'].isin(to_be_scales_id)]\n",
        "scale_users_df = scale_users_df[['user_id', 'rating']].groupby('user_id').max().reset_index().rename(columns={'rating': 'max_rating'})\n",
        "scale_users_df.set_index('user_id', inplace=True)\n",
        "ratings = ratings.merge(scale_users_df, on = 'user_id', how='left').sort_values('user_id')\n",
        "ratings['max_rating'] = ratings['max_rating'].fillna(-1)\n",
        "ratings['rating'] = (ratings['rating']/ratings['max_rating'])\n",
        "ratings.drop('max_rating', axis = 1, inplace=True)\n",
        "ratings['rating'] = ratings['rating'].apply(lambda x: abs(x))\n",
        "ratings['rating'] = ratings['rating'].apply(lambda x:int(x*10) if x<=1 else int(x))\n",
        "ratings_graph_df = ratings[ratings['rating']>graph_threshold_rating]\n",
        "\n",
        "# ISBN replacement \n",
        "place_holder_isbn = pd.DataFrame()\n",
        "place_holder_isbn['isbn'] = list(set(ratings_graph_df['isbn']))\n",
        "place_holder_isbn_df = ratings_graph_df[['isbn']].drop_duplicates().reset_index().drop('index', axis = 1).reset_index().rename(columns = {'index': 'place_holder_isbn'}).set_index('isbn')\n",
        "ratings_graph_df = ratings_graph_df.merge(place_holder_isbn_df, on = 'isbn', how='left').sort_values('place_holder_isbn').drop('isbn', axis = 1)\n",
        "\n",
        "# Edge_list_creation\n",
        "map_dict = ratings_graph_df[['place_holder_isbn','user_id']].groupby('place_holder_isbn')['user_id'].unique().to_dict()\n",
        "map_dict = {k:set(v) for k,v in map_dict.items()}\n",
        "k_li = list(map_dict.keys())\n",
        "print('Final book count before graph','-'*10, ratings_graph_df['place_holder_isbn'].nunique())\n",
        "final_edges = []\n",
        "for itteration, k in enumerate(k_li):\n",
        "    if itteration%1000 == 0: print ('-'*10 , f\"Completed {itteration}/{len(k_li)}\")\n",
        "    for following_k in k_li[itteration+1:]:\n",
        "        if map_dict[k].intersection(map_dict[following_k])!=set():\n",
        "            if len(map_dict[k].intersection(map_dict[following_k]))>=minimum_intersection_set_count:\n",
        "                final_edges.append((k,following_k))"
      ]
    },
    {
      "cell_type": "code",
      "source": [
        "import pickle\n",
        "with open(f'final_edges_gtr-{graph_threshold_rating}_scale-{threshold_count_for_rating_scaling}_user_th-{user_rating_count_threshold}.pickle', 'wb') as file:\n",
        "    pickle.dump(final_edges, file)"
      ],
      "metadata": {
        "id": "lqGIYEz2Mn8j"
      },
      "id": "lqGIYEz2Mn8j",
      "execution_count": 14,
      "outputs": []
    },
    {
      "cell_type": "code",
      "execution_count": 15,
      "id": "9a004b3c",
      "metadata": {
        "id": "9a004b3c",
        "colab": {
          "base_uri": "https://localhost:8080/"
        },
        "outputId": "589d38b6-e29c-43ef-ad65-0ae5ec2331d2"
      },
      "outputs": [
        {
          "output_type": "stream",
          "name": "stderr",
          "text": [
            "IOPub data rate exceeded.\n",
            "The notebook server will temporarily stop sending output\n",
            "to the client in order to avoid crashing it.\n",
            "To change this limit, set the config variable\n",
            "`--NotebookApp.iopub_data_rate_limit`.\n",
            "\n",
            "Current values:\n",
            "NotebookApp.iopub_data_rate_limit=1000000.0 (bytes/sec)\n",
            "NotebookApp.rate_limit_window=3.0 (secs)\n",
            "\n"
          ]
        }
      ],
      "source": [
        "# Load the pickle file\n",
        "with open(f'final_edges_gtr-{graph_threshold_rating}_scale-{threshold_count_for_rating_scaling}_user_th-{user_rating_count_threshold}.pickle', 'rb') as file:\n",
        "    final_edges = pickle.load(file)\n",
        "\n",
        "# Print the loaded data\n",
        "print(final_edges)"
      ]
    },
    {
      "cell_type": "code",
      "execution_count": 16,
      "id": "29278f5c",
      "metadata": {
        "id": "29278f5c"
      },
      "outputs": [],
      "source": [
        "import networkx as nx\n",
        "import networkx as nx\n",
        "import numpy as np\n",
        "from sklearn.cluster import KMeans"
      ]
    },
    {
      "cell_type": "code",
      "source": [
        "G = nx.Graph() \n",
        "G.add_edges_from(final_edges)\n",
        "if plot == 1:\n",
        "  # Plot the graph\n",
        "  nx.draw(G,  node_color='lightblue', edge_color='gray')\n",
        "\n",
        "  # Display the plot\n",
        "  plt.show()"
      ],
      "metadata": {
        "id": "jLqt8Q_8xnAN",
        "colab": {
          "base_uri": "https://localhost:8080/",
          "height": 516
        },
        "outputId": "5b031842-35e6-40a7-d089-96b0a0f1c301"
      },
      "id": "jLqt8Q_8xnAN",
      "execution_count": 17,
      "outputs": [
        {
          "output_type": "display_data",
          "data": {
            "text/plain": [
              "<Figure size 640x480 with 1 Axes>"
            ],
            "image/png": "[encoded data removed]"
          },
          "metadata": {}
        }
      ]
    },
    {
      "cell_type": "markdown",
      "source": [
        "## Predefined Clustering "
      ],
      "metadata": {
        "id": "WO9HFo-09GIB"
      },
      "id": "WO9HFo-09GIB"
    },
    {
      "cell_type": "code",
      "source": [
        "\n",
        "\n",
        "node_features = np.array(list(dict(G.degree()).values())).reshape(-1, 1)\n",
        "\n",
        "k = 40  # Number of clusters\n",
        "kmeans = KMeans(n_clusters=k)\n",
        "kmeans.fit(node_features)\n",
        "cluster_labels = kmeans.labels_\n",
        "node_cluster_mapping = {node: label for node, label in zip(G.nodes(), cluster_labels)}\n",
        "\n",
        "\n",
        "if plot == 1:\n",
        "  # Step 6: Visualize the clusters\n",
        "  import matplotlib.pyplot as plt\n",
        "\n",
        "  pos = nx.spring_layout(G)  # Define the layout for visualization\n",
        "  nx.draw(G, pos=pos, node_color=cluster_labels, cmap='viridis')\n",
        "  plt.show()"
      ],
      "metadata": {
        "colab": {
          "base_uri": "https://localhost:8080/",
          "height": 0
        },
        "id": "CUR5l-ly775Q",
        "outputId": "c8274caf-f5fe-499a-a701-03b52135136f"
      },
      "id": "CUR5l-ly775Q",
      "execution_count": 18,
      "outputs": [
        {
          "output_type": "stream",
          "name": "stderr",
          "text": [
            "/usr/local/lib/python3.10/dist-packages/sklearn/cluster/_kmeans.py:870: FutureWarning: The default value of `n_init` will change from 10 to 'auto' in 1.4. Set the value of `n_init` explicitly to suppress the warning\n",
            "  warnings.warn(\n"
          ]
        },
        {
          "output_type": "display_data",
          "data": {
            "text/plain": [
              "<Figure size 640x480 with 1 Axes>"
            ],
            "image/png": "[encoded data removed]"
          },
          "metadata": {}
        }
      ]
    },
    {
      "cell_type": "code",
      "source": [
        "from collections import Counter\n",
        "Counter(node_cluster_mapping.values())"
      ],
      "metadata": {
        "colab": {
          "base_uri": "https://localhost:8080/"
        },
        "id": "TG7DlUOL8uYm",
        "outputId": "920b6c6c-62a9-4e14-ffbd-c3f1755134ea"
      },
      "id": "TG7DlUOL8uYm",
      "execution_count": 19,
      "outputs": [
        {
          "output_type": "execute_result",
          "data": {
            "text/plain": [
              "Counter({3: 47,\n",
              "         18: 146,\n",
              "         30: 725,\n",
              "         6: 18,\n",
              "         14: 92,\n",
              "         10: 39,\n",
              "         13: 24,\n",
              "         33: 3,\n",
              "         23: 243,\n",
              "         12: 84,\n",
              "         25: 155,\n",
              "         0: 326,\n",
              "         26: 370,\n",
              "         22: 50,\n",
              "         19: 167,\n",
              "         21: 59,\n",
              "         39: 2,\n",
              "         27: 22,\n",
              "         35: 40,\n",
              "         5: 2,\n",
              "         16: 608,\n",
              "         34: 157,\n",
              "         37: 415,\n",
              "         31: 133,\n",
              "         17: 550,\n",
              "         11: 205,\n",
              "         24: 87,\n",
              "         38: 743,\n",
              "         7: 132,\n",
              "         15: 152,\n",
              "         32: 121,\n",
              "         8: 591,\n",
              "         4: 144,\n",
              "         9: 91,\n",
              "         28: 141,\n",
              "         20: 12,\n",
              "         1: 207,\n",
              "         36: 50,\n",
              "         2: 759,\n",
              "         29: 859})"
            ]
          },
          "metadata": {},
          "execution_count": 19
        }
      ]
    },
    {
      "cell_type": "code",
      "source": [
        "place_holder_isbn_df = place_holder_isbn_df.merge(books[['isbn', 'book_title']].set_index('isbn'), how = 'left',on = 'isbn')\n",
        "community_df =  pd.DataFrame()\n",
        "community_df['Community of Book'] = node_cluster_mapping.values()\n",
        "community_df['place_holder_isbn'] = node_cluster_mapping.keys()\n",
        "community_df = community_df.set_index('place_holder_isbn')\n",
        "pd_place_holder_isbn_df = place_holder_isbn_df.merge(community_df, on='place_holder_isbn', how='left')\n",
        "pd_place_holder_isbn_df.groupby('Community of Book').size().plot.bar()\n",
        "plt.show()"
      ],
      "metadata": {
        "colab": {
          "base_uri": "https://localhost:8080/",
          "height": 0
        },
        "id": "eqvOKKI7Fi7d",
        "outputId": "6e8b342f-25b8-4c9d-d126-3f1dd21348ae"
      },
      "id": "eqvOKKI7Fi7d",
      "execution_count": 20,
      "outputs": [
        {
          "output_type": "display_data",
          "data": {
            "text/plain": [
              "<Figure size 640x480 with 1 Axes>"
            ],
            "image/png": "[encoded data removed]"
          },
          "metadata": {}
        }
      ]
    },
    {
      "cell_type": "code",
      "source": [
        "pd_place_holder_isbn_df"
      ],
      "metadata": {
        "colab": {
          "base_uri": "https://localhost:8080/",
          "height": 0
        },
        "id": "1nPX7C3EF2e8",
        "outputId": "e061b61a-89d2-487e-8ce8-045972bc1f0b"
      },
      "id": "1nPX7C3EF2e8",
      "execution_count": 21,
      "outputs": [
        {
          "output_type": "execute_result",
          "data": {
            "text/plain": [
              "      place_holder_isbn                                         book_title  \\\n",
              "0                     0                                     Fahrenheit 451   \n",
              "1                     1                             The Martian Chronicles   \n",
              "2                     2  Veronika Deschliesst Zu Sterben / Vernika Deci...   \n",
              "3                     3                                Memoirs of a Geisha   \n",
              "4                     4                                     The Bean Trees   \n",
              "...                 ...                                                ...   \n",
              "8816               8816                                  The Gripping Hand   \n",
              "8817               8817                                        Bush at War   \n",
              "8818               8818          A Woman Named Damaris (Women of the West)   \n",
              "8819               8819                                 Search the Shadows   \n",
              "8820               8820                                                Cut   \n",
              "\n",
              "      Community of Book  \n",
              "0                   3.0  \n",
              "1                  18.0  \n",
              "2                   1.0  \n",
              "3                  24.0  \n",
              "4                  36.0  \n",
              "...                 ...  \n",
              "8816               29.0  \n",
              "8817               29.0  \n",
              "8818               29.0  \n",
              "8819               29.0  \n",
              "8820               29.0  \n",
              "\n",
              "[8821 rows x 3 columns]"
            ],
            "text/html": [
              "\n",
              "  <div id=\"df-530190ce-22f6-4fe0-8d0f-73c7bc2eebec\">\n",
              "    <div class=\"colab-df-container\">\n",
              "      <div>\n",
              "<style scoped>\n",
              "    .dataframe tbody tr th:only-of-type {\n",
              "        vertical-align: middle;\n",
              "    }\n",
              "\n",
              "    .dataframe tbody tr th {\n",
              "        vertical-align: top;\n",
              "    }\n",
              "\n",
              "    .dataframe thead th {\n",
              "        text-align: right;\n",
              "    }\n",
              "</style>\n",
              "<table border=\"1\" class=\"dataframe\">\n",
              "  <thead>\n",
              "    <tr style=\"text-align: right;\">\n",
              "      <th></th>\n",
              "      <th>place_holder_isbn</th>\n",
              "      <th>book_title</th>\n",
              "      <th>Community of Book</th>\n",
              "    </tr>\n",
              "  </thead>\n",
              "  <tbody>\n",
              "    <tr>\n",
              "      <th>0</th>\n",
              "      <td>0</td>\n",
              "      <td>Fahrenheit 451</td>\n",
              "      <td>3.0</td>\n",
              "    </tr>\n",
              "    <tr>\n",
              "      <th>1</th>\n",
              "      <td>1</td>\n",
              "      <td>The Martian Chronicles</td>\n",
              "      <td>18.0</td>\n",
              "    </tr>\n",
              "    <tr>\n",
              "      <th>2</th>\n",
              "      <td>2</td>\n",
              "      <td>Veronika Deschliesst Zu Sterben / Vernika Deci...</td>\n",
              "      <td>1.0</td>\n",
              "    </tr>\n",
              "    <tr>\n",
              "      <th>3</th>\n",
              "      <td>3</td>\n",
              "      <td>Memoirs of a Geisha</td>\n",
              "      <td>24.0</td>\n",
              "    </tr>\n",
              "    <tr>\n",
              "      <th>4</th>\n",
              "      <td>4</td>\n",
              "      <td>The Bean Trees</td>\n",
              "      <td>36.0</td>\n",
              "    </tr>\n",
              "    <tr>\n",
              "      <th>...</th>\n",
              "      <td>...</td>\n",
              "      <td>...</td>\n",
              "      <td>...</td>\n",
              "    </tr>\n",
              "    <tr>\n",
              "      <th>8816</th>\n",
              "      <td>8816</td>\n",
              "      <td>The Gripping Hand</td>\n",
              "      <td>29.0</td>\n",
              "    </tr>\n",
              "    <tr>\n",
              "      <th>8817</th>\n",
              "      <td>8817</td>\n",
              "      <td>Bush at War</td>\n",
              "      <td>29.0</td>\n",
              "    </tr>\n",
              "    <tr>\n",
              "      <th>8818</th>\n",
              "      <td>8818</td>\n",
              "      <td>A Woman Named Damaris (Women of the West)</td>\n",
              "      <td>29.0</td>\n",
              "    </tr>\n",
              "    <tr>\n",
              "      <th>8819</th>\n",
              "      <td>8819</td>\n",
              "      <td>Search the Shadows</td>\n",
              "      <td>29.0</td>\n",
              "    </tr>\n",
              "    <tr>\n",
              "      <th>8820</th>\n",
              "      <td>8820</td>\n",
              "      <td>Cut</td>\n",
              "      <td>29.0</td>\n",
              "    </tr>\n",
              "  </tbody>\n",
              "</table>\n",
              "<p>8821 rows × 3 columns</p>\n",
              "</div>\n",
              "      <button class=\"colab-df-convert\" onclick=\"convertToInteractive('df-530190ce-22f6-4fe0-8d0f-73c7bc2eebec')\"\n",
              "              title=\"Convert this dataframe to an interactive table.\"\n",
              "              style=\"display:none;\">\n",
              "        \n",
              "  <svg xmlns=\"http://www.w3.org/2000/svg\" height=\"24px\"viewBox=\"0 0 24 24\"\n",
              "       width=\"24px\">\n",
              "    <path d=\"M0 0h24v24H0V0z\" fill=\"none\"/>\n",
              "    <path d=\"M18.56 5.44l.94 2.06.94-2.06 2.06-.94-2.06-.94-.94-2.06-.94 2.06-2.06.94zm-11 1L8.5 8.5l.94-2.06 2.06-.94-2.06-.94L8.5 2.5l-.94 2.06-2.06.94zm10 10l.94 2.06.94-2.06 2.06-.94-2.06-.94-.94-2.06-.94 2.06-2.06.94z\"/><path d=\"M17.41 7.96l-1.37-1.37c-.4-.4-.92-.59-1.43-.59-.52 0-1.04.2-1.43.59L10.3 9.45l-7.72 7.72c-.78.78-.78 2.05 0 2.83L4 21.41c.39.39.9.59 1.41.59.51 0 1.02-.2 1.41-.59l7.78-7.78 2.81-2.81c.8-.78.8-2.07 0-2.86zM5.41 20L4 18.59l7.72-7.72 1.47 1.35L5.41 20z\"/>\n",
              "  </svg>\n",
              "      </button>\n",
              "      \n",
              "  <style>\n",
              "    .colab-df-container {\n",
              "      display:flex;\n",
              "      flex-wrap:wrap;\n",
              "      gap: 12px;\n",
              "    }\n",
              "\n",
              "    .colab-df-convert {\n",
              "      background-color: #E8F0FE;\n",
              "      border: none;\n",
              "      border-radius: 50%;\n",
              "      cursor: pointer;\n",
              "      display: none;\n",
              "      fill: #1967D2;\n",
              "      height: 32px;\n",
              "      padding: 0 0 0 0;\n",
              "      width: 32px;\n",
              "    }\n",
              "\n",
              "    .colab-df-convert:hover {\n",
              "      background-color: #E2EBFA;\n",
              "      box-shadow: 0px 1px 2px rgba(60, 64, 67, 0.3), 0px 1px 3px 1px rgba(60, 64, 67, 0.15);\n",
              "      fill: #174EA6;\n",
              "    }\n",
              "\n",
              "    [theme=dark] .colab-df-convert {\n",
              "      background-color: #3B4455;\n",
              "      fill: #D2E3FC;\n",
              "    }\n",
              "\n",
              "    [theme=dark] .colab-df-convert:hover {\n",
              "      background-color: #434B5C;\n",
              "      box-shadow: 0px 1px 3px 1px rgba(0, 0, 0, 0.15);\n",
              "      filter: drop-shadow(0px 1px 2px rgba(0, 0, 0, 0.3));\n",
              "      fill: #FFFFFF;\n",
              "    }\n",
              "  </style>\n",
              "\n",
              "      <script>\n",
              "        const buttonEl =\n",
              "          document.querySelector('#df-530190ce-22f6-4fe0-8d0f-73c7bc2eebec button.colab-df-convert');\n",
              "        buttonEl.style.display =\n",
              "          google.colab.kernel.accessAllowed ? 'block' : 'none';\n",
              "\n",
              "        async function convertToInteractive(key) {\n",
              "          const element = document.querySelector('#df-530190ce-22f6-4fe0-8d0f-73c7bc2eebec');\n",
              "          const dataTable =\n",
              "            await google.colab.kernel.invokeFunction('convertToInteractive',\n",
              "                                                     [key], {});\n",
              "          if (!dataTable) return;\n",
              "\n",
              "          const docLinkHtml = 'Like what you see? Visit the ' +\n",
              "            '<a target=\"_blank\" href=https://colab.research.google.com/notebooks/data_table.ipynb>data table notebook</a>'\n",
              "            + ' to learn more about interactive tables.';\n",
              "          element.innerHTML = '';\n",
              "          dataTable['output_type'] = 'display_data';\n",
              "          await google.colab.output.renderOutput(dataTable, element);\n",
              "          const docLink = document.createElement('div');\n",
              "          docLink.innerHTML = docLinkHtml;\n",
              "          element.appendChild(docLink);\n",
              "        }\n",
              "      </script>\n",
              "    </div>\n",
              "  </div>\n",
              "  "
            ]
          },
          "metadata": {},
          "execution_count": 21
        }
      ]
    },
    {
      "cell_type": "markdown",
      "source": [
        "## Undefined Clustering"
      ],
      "metadata": {
        "id": "0Jbqrh4e-R8O"
      },
      "id": "0Jbqrh4e-R8O"
    },
    {
      "cell_type": "code",
      "source": [
        "from community import community_louvain\n",
        "partition = community_louvain.best_partition(G)"
      ],
      "metadata": {
        "id": "CVBPpvFA0fec"
      },
      "id": "CVBPpvFA0fec",
      "execution_count": 22,
      "outputs": []
    },
    {
      "cell_type": "code",
      "source": [
        "print(f'Numbers of books in the graph: {len(partition)}')\n",
        "\n",
        "print(f'Numbers of communities:{len(set(partition.values()))}')"
      ],
      "metadata": {
        "id": "6qjm5qVg8o8w",
        "colab": {
          "base_uri": "https://localhost:8080/"
        },
        "outputId": "ef58028a-a49b-4aa1-a39c-30e210a69783"
      },
      "id": "6qjm5qVg8o8w",
      "execution_count": 23,
      "outputs": [
        {
          "output_type": "stream",
          "name": "stdout",
          "text": [
            "Numbers of books in the graph: 8771\n",
            "Numbers of communities:7\n"
          ]
        }
      ]
    },
    {
      "cell_type": "code",
      "source": [
        "if plot == 1: \n",
        "  # Create a layout for the graph\n",
        "  pos = nx.spring_layout(G)\n",
        "\n",
        "  # Assign a color to each community\n",
        "  cmap = plt.cm.get_cmap('viridis', max(partition.values()) + 1)\n",
        "\n",
        "  # Draw the nodes with their community colors\n",
        "  nx.draw_networkx_nodes(G, pos, node_color=list(partition.values()), cmap=cmap)\n",
        "  nx.draw_networkx_edges(G, pos, alpha=0.5)\n",
        "  # Show the plot without node labels\n",
        "  plt.axis('off')\n",
        "\n",
        "  # Show the plot\n",
        "  plt.show()"
      ],
      "metadata": {
        "id": "wY5Yp3eQ04Lh",
        "colab": {
          "base_uri": "https://localhost:8080/",
          "height": 461
        },
        "outputId": "5a730eaa-7881-4e73-82e7-e3ac9de137bf"
      },
      "id": "wY5Yp3eQ04Lh",
      "execution_count": 24,
      "outputs": [
        {
          "output_type": "stream",
          "name": "stderr",
          "text": [
            "<ipython-input-24-1c633014edab>:6: MatplotlibDeprecationWarning: The get_cmap function was deprecated in Matplotlib 3.7 and will be removed two minor releases later. Use ``matplotlib.colormaps[name]`` or ``matplotlib.colormaps.get_cmap(obj)`` instead.\n",
            "  cmap = plt.cm.get_cmap('viridis', max(partition.values()) + 1)\n"
          ]
        },
        {
          "output_type": "display_data",
          "data": {
            "text/plain": [
              "<Figure size 640x480 with 1 Axes>"
            ],
            "image/png": "[encoded data removed]"
          },
          "metadata": {}
        }
      ]
    },
    {
      "cell_type": "code",
      "source": [
        "books.shape"
      ],
      "metadata": {
        "id": "Es08p0Jo1mrM",
        "colab": {
          "base_uri": "https://localhost:8080/"
        },
        "outputId": "9b28baae-4c15-4fe9-fccd-49eeb0d0cfa8"
      },
      "id": "Es08p0Jo1mrM",
      "execution_count": 25,
      "outputs": [
        {
          "output_type": "execute_result",
          "data": {
            "text/plain": [
              "(242505, 9)"
            ]
          },
          "metadata": {},
          "execution_count": 25
        }
      ]
    },
    {
      "cell_type": "code",
      "source": [
        "place_holder_isbn_df = place_holder_isbn_df.merge(books[['isbn', 'book_title']].set_index('isbn'), how = 'left',on = 'isbn')"
      ],
      "metadata": {
        "id": "OjWjZifg3CRC"
      },
      "id": "OjWjZifg3CRC",
      "execution_count": 26,
      "outputs": []
    },
    {
      "cell_type": "code",
      "source": [
        "community_df =  pd.DataFrame()\n",
        "community_df['Community of Book'] = partition.values()\n",
        "community_df['place_holder_isbn'] = partition.keys()\n",
        "community_df = community_df.set_index('place_holder_isbn')\n",
        "popularity_df = ratings.merge(place_holder_isbn_df, on='isbn', how = 'left').groupby('place_holder_isbn').size().to_frame('popularity')"
      ],
      "metadata": {
        "id": "0rQiTQGd5B2Q"
      },
      "id": "0rQiTQGd5B2Q",
      "execution_count": 41,
      "outputs": []
    },
    {
      "cell_type": "code",
      "source": [
        "final_community_df = community_df.merge(popularity_df, on= 'place_holder_isbn').reset_index().merge(place_holder_isbn_df.set_index('place_holder_isbn') , on= 'place_holder_isbn')"
      ],
      "metadata": {
        "id": "XoR73DWE6oL1"
      },
      "id": "XoR73DWE6oL1",
      "execution_count": 39,
      "outputs": []
    },
    {
      "cell_type": "code",
      "source": [
        "final_community_df.rename(columns={'book_title_x':\t'book_title'}, inplace = True)"
      ],
      "metadata": {
        "id": "1rPE3unwMlP6"
      },
      "id": "1rPE3unwMlP6",
      "execution_count": 48,
      "outputs": []
    },
    {
      "cell_type": "code",
      "source": [
        "n_com = final_community_df['Community of Book'].nunique()\n",
        "print(f'Number of communities: {n_com}')"
      ],
      "metadata": {
        "id": "4dWNDZ0B6elZ",
        "colab": {
          "base_uri": "https://localhost:8080/"
        },
        "outputId": "730ffc5d-79fb-4b1f-f445-2ad4d6e841c2"
      },
      "id": "4dWNDZ0B6elZ",
      "execution_count": 55,
      "outputs": [
        {
          "output_type": "stream",
          "name": "stdout",
          "text": [
            "Number of communities: 7\n"
          ]
        }
      ]
    },
    {
      "cell_type": "code",
      "source": [
        "def return_best(book, final_community_df):\n",
        "  try:\n",
        "    i = int(final_community_df[final_community_df['book_title'] == book]['Community of Book'])\n",
        "    r = final_community_df[final_community_df['Community of Book'] == i].sort_values('popularity', ascending = False)['book_title'][:10]        \n",
        "    return(list(r))\n",
        "  except:print('Book not in DB')"
      ],
      "metadata": {
        "id": "OJoG2AArxhWS"
      },
      "id": "OJoG2AArxhWS",
      "execution_count": 49,
      "outputs": []
    },
    {
      "cell_type": "code",
      "source": [
        "return_best('The Secret Life of Bees', final_community_df)"
      ],
      "metadata": {
        "colab": {
          "base_uri": "https://localhost:8080/"
        },
        "id": "fj3puYE8y2CP",
        "outputId": "43c41ea6-8e7b-4903-f320-85e6ad100bf7"
      },
      "id": "fj3puYE8y2CP",
      "execution_count": 50,
      "outputs": [
        {
          "output_type": "execute_result",
          "data": {
            "text/plain": [
              "['The Lovely Bones: A Novel',\n",
              " 'The Da Vinci Code',\n",
              " 'The Secret Life of Bees',\n",
              " \"Bridget Jones's Diary\",\n",
              " 'Harry Potter and the Chamber of Secrets (Book 2)',\n",
              " 'Life of Pi',\n",
              " 'Harry Potter and the Prisoner of Azkaban (Book 3)',\n",
              " 'Divine Secrets of the Ya-Ya Sisterhood : A Novel',\n",
              " 'The Red Tent (Bestselling Backlist)',\n",
              " 'Wild Animus']"
            ]
          },
          "metadata": {},
          "execution_count": 50
        }
      ]
    }
  ],
  "metadata": {
    "kernelspec": {
      "display_name": "Python 3",
      "name": "python3"
    },
    "language_info": {
      "codemirror_mode": {
        "name": "ipython",
        "version": 3
      },
      "file_extension": ".py",
      "mimetype": "text/x-python",
      "name": "python",
      "nbconvert_exporter": "python",
      "pygments_lexer": "ipython3",
      "version": "3.9.12"
    },
    "colab": {
      "provenance": []
    }
  },
  "nbformat": 4,
  "nbformat_minor": 5
}