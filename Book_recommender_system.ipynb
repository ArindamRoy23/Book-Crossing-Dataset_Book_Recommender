{
  "nbformat": 4,
  "nbformat_minor": 0,
  "metadata": {
    "colab": {
      "provenance": [],
      "collapsed_sections": [
        "8snwVrsxaq03",
        "5smbIkpybX-6",
        "aDSw4YI6bnFn",
        "MRNwcRrybfEK",
        "bH2kxlzkpabH",
        "ZSh027cCkHC6",
        "mmpcHyxDkUaS",
        "LjXeD42_l4Rq",
        "k_krx26zlduV",
        "9ZQkDlb6sWB5",
        "YoFZsR9o5Qnh",
        "oRlI7lgCsaYh",
        "VGnmNqjSvCQe",
        "KslqCbI9eXXJ",
        "4eaLZ6P5eg-z",
        "iysXz6-uiwks"
      ],
      "toc_visible": true
    },
    "kernelspec": {
      "name": "python3",
      "display_name": "Python 3"
    },
    "language_info": {
      "name": "python"
    }
  },
  "cells": [
    {
      "cell_type": "markdown",
      "source": [
        "# Book Recommendation System\n",
        "\n",
        "This notebook is a collection of recommender systems for books. This was initially built on colab. Please read readme for further details"
      ],
      "metadata": {
        "id": "BE1C45oSGLIz"
      }
    },
    {
      "cell_type": "markdown",
      "source": [
        "## Data Loading"
      ],
      "metadata": {
        "id": "8snwVrsxaq03"
      }
    },
    {
      "cell_type": "code",
      "source": [
        "!pip install ipython-autotime\n",
        "%load_ext autotime"
      ],
      "metadata": {
        "colab": {
          "base_uri": "https://localhost:8080/"
        },
        "id": "hhvwt18UBjFS",
        "outputId": "a36731e5-025b-4d61-a8bc-d53534ca7c69"
      },
      "execution_count": null,
      "outputs": [
        {
          "output_type": "stream",
          "name": "stdout",
          "text": [
            "Collecting ipython-autotime\n",
            "  Downloading ipython_autotime-0.3.1-py2.py3-none-any.whl (6.8 kB)\n",
            "Requirement already satisfied: ipython in /usr/local/lib/python3.10/dist-packages (from ipython-autotime) (7.34.0)\n",
            "Requirement already satisfied: setuptools>=18.5 in /usr/local/lib/python3.10/dist-packages (from ipython->ipython-autotime) (67.7.2)\n",
            "Collecting jedi>=0.16 (from ipython->ipython-autotime)\n",
            "  Downloading jedi-0.19.1-py2.py3-none-any.whl (1.6 MB)\n",
            "\u001b[2K     \u001b[90m━━━━━━━━━━━━━━━━━━━━━━━━━━━━━━━━━━━━━━━━\u001b[0m \u001b[32m1.6/1.6 MB\u001b[0m \u001b[31m14.4 MB/s\u001b[0m eta \u001b[36m0:00:00\u001b[0m\n",
            "\u001b[?25hRequirement already satisfied: decorator in /usr/local/lib/python3.10/dist-packages (from ipython->ipython-autotime) (4.4.2)\n",
            "Requirement already satisfied: pickleshare in /usr/local/lib/python3.10/dist-packages (from ipython->ipython-autotime) (0.7.5)\n",
            "Requirement already satisfied: traitlets>=4.2 in /usr/local/lib/python3.10/dist-packages (from ipython->ipython-autotime) (5.7.1)\n",
            "Requirement already satisfied: prompt-toolkit!=3.0.0,!=3.0.1,<3.1.0,>=2.0.0 in /usr/local/lib/python3.10/dist-packages (from ipython->ipython-autotime) (3.0.39)\n",
            "Requirement already satisfied: pygments in /usr/local/lib/python3.10/dist-packages (from ipython->ipython-autotime) (2.16.1)\n",
            "Requirement already satisfied: backcall in /usr/local/lib/python3.10/dist-packages (from ipython->ipython-autotime) (0.2.0)\n",
            "Requirement already satisfied: matplotlib-inline in /usr/local/lib/python3.10/dist-packages (from ipython->ipython-autotime) (0.1.6)\n",
            "Requirement already satisfied: pexpect>4.3 in /usr/local/lib/python3.10/dist-packages (from ipython->ipython-autotime) (4.8.0)\n",
            "Requirement already satisfied: parso<0.9.0,>=0.8.3 in /usr/local/lib/python3.10/dist-packages (from jedi>=0.16->ipython->ipython-autotime) (0.8.3)\n",
            "Requirement already satisfied: ptyprocess>=0.5 in /usr/local/lib/python3.10/dist-packages (from pexpect>4.3->ipython->ipython-autotime) (0.7.0)\n",
            "Requirement already satisfied: wcwidth in /usr/local/lib/python3.10/dist-packages (from prompt-toolkit!=3.0.0,!=3.0.1,<3.1.0,>=2.0.0->ipython->ipython-autotime) (0.2.8)\n",
            "Installing collected packages: jedi, ipython-autotime\n",
            "Successfully installed ipython-autotime-0.3.1 jedi-0.19.1\n",
            "time: 337 µs (started: 2023-10-31 09:18:01 +00:00)\n"
          ]
        }
      ]
    },
    {
      "cell_type": "code",
      "source": [
        "import time\n",
        "time_list = []\n",
        "tic = time.time()\n",
        "from google.colab import drive\n",
        "drive.mount('/content/drive')\n",
        "\n",
        "import numpy as np\n",
        "import pandas as pd\n",
        "import re\n",
        "import seaborn as sns\n",
        "import matplotlib.pyplot as plt\n",
        "from sklearn.metrics.pairwise import cosine_similarity\n",
        "\n",
        "\n",
        "u_cols = ['user_id', 'location', 'age']\n",
        "users = pd.read_csv('/content/drive/Shareddrives/Books_Challenge/BX-Users.csv', sep=';',skiprows=1, names=u_cols, encoding='latin-1',low_memory=False)\n",
        "users.head()\n",
        "\n",
        "b_cols = ['isbn', 'book_title' ,'book_author','year_of_publication', 'publisher', 'img_s', 'img_m', 'img_l']\n",
        "books = pd.read_csv('/content/drive/Shareddrives/Books_Challenge/BX-Books.csv', sep=';',skiprows=1, names=b_cols, encoding='latin-1',low_memory=False,on_bad_lines='warn')\n",
        "books.head()\n",
        "\n",
        "r_cols = ['user_id', 'isbn', 'rating']\n",
        "ratings = pd.read_csv('/content/drive/Shareddrives/Books_Challenge/BX-Book-Ratings.csv',skiprows=1, sep=';', names=r_cols, encoding='latin-1',low_memory=False)\n",
        "ratings.head()"
      ],
      "metadata": {
        "colab": {
          "base_uri": "https://localhost:8080/",
          "height": 606
        },
        "id": "cDIU0kqfZ9Vb",
        "outputId": "0cc80f07-e41f-49d1-f73a-f13c74119fe5"
      },
      "execution_count": null,
      "outputs": [
        {
          "output_type": "stream",
          "name": "stdout",
          "text": [
            "Drive already mounted at /content/drive; to attempt to forcibly remount, call drive.mount(\"/content/drive\", force_remount=True).\n"
          ]
        },
        {
          "output_type": "stream",
          "name": "stderr",
          "text": [
            "Skipping line 6452: expected 8 fields, saw 9\n",
            "Skipping line 43667: expected 8 fields, saw 10\n",
            "Skipping line 51751: expected 8 fields, saw 9\n",
            "Skipping line 92038: expected 8 fields, saw 9\n",
            "Skipping line 104319: expected 8 fields, saw 9\n",
            "Skipping line 121768: expected 8 fields, saw 9\n",
            "Skipping line 144058: expected 8 fields, saw 9\n",
            "Skipping line 150789: expected 8 fields, saw 9\n",
            "Skipping line 157128: expected 8 fields, saw 9\n",
            "Skipping line 180189: expected 8 fields, saw 9\n",
            "Skipping line 185738: expected 8 fields, saw 9\n",
            "Skipping line 209388: expected 8 fields, saw 9\n",
            "Skipping line 220626: expected 8 fields, saw 9\n",
            "Skipping line 227933: expected 8 fields, saw 11\n",
            "Skipping line 228957: expected 8 fields, saw 10\n",
            "Skipping line 245933: expected 8 fields, saw 9\n",
            "Skipping line 251296: expected 8 fields, saw 9\n",
            "Skipping line 259941: expected 8 fields, saw 9\n",
            "Skipping line 261529: expected 8 fields, saw 9\n",
            "\n"
          ]
        },
        {
          "output_type": "execute_result",
          "data": {
            "text/plain": [
              "   user_id        isbn  rating\n",
              "0   276725  034545104X       0\n",
              "1   276726  0155061224       5\n",
              "2   276727  0446520802       0\n",
              "3   276729  052165615X       3\n",
              "4   276729  0521795028       6"
            ],
            "text/html": [
              "\n",
              "  <div id=\"df-82232da1-e421-46f8-9b7b-7318bfd572bb\" class=\"colab-df-container\">\n",
              "    <div>\n",
              "<style scoped>\n",
              "    .dataframe tbody tr th:only-of-type {\n",
              "        vertical-align: middle;\n",
              "    }\n",
              "\n",
              "    .dataframe tbody tr th {\n",
              "        vertical-align: top;\n",
              "    }\n",
              "\n",
              "    .dataframe thead th {\n",
              "        text-align: right;\n",
              "    }\n",
              "</style>\n",
              "<table border=\"1\" class=\"dataframe\">\n",
              "  <thead>\n",
              "    <tr style=\"text-align: right;\">\n",
              "      <th></th>\n",
              "      <th>user_id</th>\n",
              "      <th>isbn</th>\n",
              "      <th>rating</th>\n",
              "    </tr>\n",
              "  </thead>\n",
              "  <tbody>\n",
              "    <tr>\n",
              "      <th>0</th>\n",
              "      <td>276725</td>\n",
              "      <td>034545104X</td>\n",
              "      <td>0</td>\n",
              "    </tr>\n",
              "    <tr>\n",
              "      <th>1</th>\n",
              "      <td>276726</td>\n",
              "      <td>0155061224</td>\n",
              "      <td>5</td>\n",
              "    </tr>\n",
              "    <tr>\n",
              "      <th>2</th>\n",
              "      <td>276727</td>\n",
              "      <td>0446520802</td>\n",
              "      <td>0</td>\n",
              "    </tr>\n",
              "    <tr>\n",
              "      <th>3</th>\n",
              "      <td>276729</td>\n",
              "      <td>052165615X</td>\n",
              "      <td>3</td>\n",
              "    </tr>\n",
              "    <tr>\n",
              "      <th>4</th>\n",
              "      <td>276729</td>\n",
              "      <td>0521795028</td>\n",
              "      <td>6</td>\n",
              "    </tr>\n",
              "  </tbody>\n",
              "</table>\n",
              "</div>\n",
              "    <div class=\"colab-df-buttons\">\n",
              "\n",
              "  <div class=\"colab-df-container\">\n",
              "    <button class=\"colab-df-convert\" onclick=\"convertToInteractive('df-82232da1-e421-46f8-9b7b-7318bfd572bb')\"\n",
              "            title=\"Convert this dataframe to an interactive table.\"\n",
              "            style=\"display:none;\">\n",
              "\n",
              "  <svg xmlns=\"http://www.w3.org/2000/svg\" height=\"24px\" viewBox=\"0 -960 960 960\">\n",
              "    <path d=\"M120-120v-720h720v720H120Zm60-500h600v-160H180v160Zm220 220h160v-160H400v160Zm0 220h160v-160H400v160ZM180-400h160v-160H180v160Zm440 0h160v-160H620v160ZM180-180h160v-160H180v160Zm440 0h160v-160H620v160Z\"/>\n",
              "  </svg>\n",
              "    </button>\n",
              "\n",
              "  <style>\n",
              "    .colab-df-container {\n",
              "      display:flex;\n",
              "      gap: 12px;\n",
              "    }\n",
              "\n",
              "    .colab-df-convert {\n",
              "      background-color: #E8F0FE;\n",
              "      border: none;\n",
              "      border-radius: 50%;\n",
              "      cursor: pointer;\n",
              "      display: none;\n",
              "      fill: #1967D2;\n",
              "      height: 32px;\n",
              "      padding: 0 0 0 0;\n",
              "      width: 32px;\n",
              "    }\n",
              "\n",
              "    .colab-df-convert:hover {\n",
              "      background-color: #E2EBFA;\n",
              "      box-shadow: 0px 1px 2px rgba(60, 64, 67, 0.3), 0px 1px 3px 1px rgba(60, 64, 67, 0.15);\n",
              "      fill: #174EA6;\n",
              "    }\n",
              "\n",
              "    .colab-df-buttons div {\n",
              "      margin-bottom: 4px;\n",
              "    }\n",
              "\n",
              "    [theme=dark] .colab-df-convert {\n",
              "      background-color: #3B4455;\n",
              "      fill: #D2E3FC;\n",
              "    }\n",
              "\n",
              "    [theme=dark] .colab-df-convert:hover {\n",
              "      background-color: #434B5C;\n",
              "      box-shadow: 0px 1px 3px 1px rgba(0, 0, 0, 0.15);\n",
              "      filter: drop-shadow(0px 1px 2px rgba(0, 0, 0, 0.3));\n",
              "      fill: #FFFFFF;\n",
              "    }\n",
              "  </style>\n",
              "\n",
              "    <script>\n",
              "      const buttonEl =\n",
              "        document.querySelector('#df-82232da1-e421-46f8-9b7b-7318bfd572bb button.colab-df-convert');\n",
              "      buttonEl.style.display =\n",
              "        google.colab.kernel.accessAllowed ? 'block' : 'none';\n",
              "\n",
              "      async function convertToInteractive(key) {\n",
              "        const element = document.querySelector('#df-82232da1-e421-46f8-9b7b-7318bfd572bb');\n",
              "        const dataTable =\n",
              "          await google.colab.kernel.invokeFunction('convertToInteractive',\n",
              "                                                    [key], {});\n",
              "        if (!dataTable) return;\n",
              "\n",
              "        const docLinkHtml = 'Like what you see? Visit the ' +\n",
              "          '<a target=\"_blank\" href=https://colab.research.google.com/notebooks/data_table.ipynb>data table notebook</a>'\n",
              "          + ' to learn more about interactive tables.';\n",
              "        element.innerHTML = '';\n",
              "        dataTable['output_type'] = 'display_data';\n",
              "        await google.colab.output.renderOutput(dataTable, element);\n",
              "        const docLink = document.createElement('div');\n",
              "        docLink.innerHTML = docLinkHtml;\n",
              "        element.appendChild(docLink);\n",
              "      }\n",
              "    </script>\n",
              "  </div>\n",
              "\n",
              "\n",
              "<div id=\"df-65be275f-e66c-462f-94ef-e3ef3369f02c\">\n",
              "  <button class=\"colab-df-quickchart\" onclick=\"quickchart('df-65be275f-e66c-462f-94ef-e3ef3369f02c')\"\n",
              "            title=\"Suggest charts.\"\n",
              "            style=\"display:none;\">\n",
              "\n",
              "<svg xmlns=\"http://www.w3.org/2000/svg\" height=\"24px\"viewBox=\"0 0 24 24\"\n",
              "     width=\"24px\">\n",
              "    <g>\n",
              "        <path d=\"M19 3H5c-1.1 0-2 .9-2 2v14c0 1.1.9 2 2 2h14c1.1 0 2-.9 2-2V5c0-1.1-.9-2-2-2zM9 17H7v-7h2v7zm4 0h-2V7h2v10zm4 0h-2v-4h2v4z\"/>\n",
              "    </g>\n",
              "</svg>\n",
              "  </button>\n",
              "\n",
              "<style>\n",
              "  .colab-df-quickchart {\n",
              "      --bg-color: #E8F0FE;\n",
              "      --fill-color: #1967D2;\n",
              "      --hover-bg-color: #E2EBFA;\n",
              "      --hover-fill-color: #174EA6;\n",
              "      --disabled-fill-color: #AAA;\n",
              "      --disabled-bg-color: #DDD;\n",
              "  }\n",
              "\n",
              "  [theme=dark] .colab-df-quickchart {\n",
              "      --bg-color: #3B4455;\n",
              "      --fill-color: #D2E3FC;\n",
              "      --hover-bg-color: #434B5C;\n",
              "      --hover-fill-color: #FFFFFF;\n",
              "      --disabled-bg-color: #3B4455;\n",
              "      --disabled-fill-color: #666;\n",
              "  }\n",
              "\n",
              "  .colab-df-quickchart {\n",
              "    background-color: var(--bg-color);\n",
              "    border: none;\n",
              "    border-radius: 50%;\n",
              "    cursor: pointer;\n",
              "    display: none;\n",
              "    fill: var(--fill-color);\n",
              "    height: 32px;\n",
              "    padding: 0;\n",
              "    width: 32px;\n",
              "  }\n",
              "\n",
              "  .colab-df-quickchart:hover {\n",
              "    background-color: var(--hover-bg-color);\n",
              "    box-shadow: 0 1px 2px rgba(60, 64, 67, 0.3), 0 1px 3px 1px rgba(60, 64, 67, 0.15);\n",
              "    fill: var(--button-hover-fill-color);\n",
              "  }\n",
              "\n",
              "  .colab-df-quickchart-complete:disabled,\n",
              "  .colab-df-quickchart-complete:disabled:hover {\n",
              "    background-color: var(--disabled-bg-color);\n",
              "    fill: var(--disabled-fill-color);\n",
              "    box-shadow: none;\n",
              "  }\n",
              "\n",
              "  .colab-df-spinner {\n",
              "    border: 2px solid var(--fill-color);\n",
              "    border-color: transparent;\n",
              "    border-bottom-color: var(--fill-color);\n",
              "    animation:\n",
              "      spin 1s steps(1) infinite;\n",
              "  }\n",
              "\n",
              "  @keyframes spin {\n",
              "    0% {\n",
              "      border-color: transparent;\n",
              "      border-bottom-color: var(--fill-color);\n",
              "      border-left-color: var(--fill-color);\n",
              "    }\n",
              "    20% {\n",
              "      border-color: transparent;\n",
              "      border-left-color: var(--fill-color);\n",
              "      border-top-color: var(--fill-color);\n",
              "    }\n",
              "    30% {\n",
              "      border-color: transparent;\n",
              "      border-left-color: var(--fill-color);\n",
              "      border-top-color: var(--fill-color);\n",
              "      border-right-color: var(--fill-color);\n",
              "    }\n",
              "    40% {\n",
              "      border-color: transparent;\n",
              "      border-right-color: var(--fill-color);\n",
              "      border-top-color: var(--fill-color);\n",
              "    }\n",
              "    60% {\n",
              "      border-color: transparent;\n",
              "      border-right-color: var(--fill-color);\n",
              "    }\n",
              "    80% {\n",
              "      border-color: transparent;\n",
              "      border-right-color: var(--fill-color);\n",
              "      border-bottom-color: var(--fill-color);\n",
              "    }\n",
              "    90% {\n",
              "      border-color: transparent;\n",
              "      border-bottom-color: var(--fill-color);\n",
              "    }\n",
              "  }\n",
              "</style>\n",
              "\n",
              "  <script>\n",
              "    async function quickchart(key) {\n",
              "      const quickchartButtonEl =\n",
              "        document.querySelector('#' + key + ' button');\n",
              "      quickchartButtonEl.disabled = true;  // To prevent multiple clicks.\n",
              "      quickchartButtonEl.classList.add('colab-df-spinner');\n",
              "      try {\n",
              "        const charts = await google.colab.kernel.invokeFunction(\n",
              "            'suggestCharts', [key], {});\n",
              "      } catch (error) {\n",
              "        console.error('Error during call to suggestCharts:', error);\n",
              "      }\n",
              "      quickchartButtonEl.classList.remove('colab-df-spinner');\n",
              "      quickchartButtonEl.classList.add('colab-df-quickchart-complete');\n",
              "    }\n",
              "    (() => {\n",
              "      let quickchartButtonEl =\n",
              "        document.querySelector('#df-65be275f-e66c-462f-94ef-e3ef3369f02c button');\n",
              "      quickchartButtonEl.style.display =\n",
              "        google.colab.kernel.accessAllowed ? 'block' : 'none';\n",
              "    })();\n",
              "  </script>\n",
              "</div>\n",
              "    </div>\n",
              "  </div>\n"
            ]
          },
          "metadata": {},
          "execution_count": 40
        }
      ]
    },
    {
      "cell_type": "markdown",
      "source": [
        "## Utils"
      ],
      "metadata": {
        "id": "5smbIkpybX-6"
      }
    },
    {
      "cell_type": "code",
      "source": [
        "def perform_eda(data):\n",
        "    # Summary statistics\n",
        "    summary = data.describe()\n",
        "    # Missing values\n",
        "    missing_values = data.isnull().sum()\n",
        "    # Data types\n",
        "    data_types = data.dtypes\n",
        "    # Unique values\n",
        "    unique_values = data.nunique()\n",
        "\n",
        "\n",
        "    # Print results\n",
        "    print(\"Summary Statistics:\\n\", summary)\n",
        "    print(\"\\nMissing Values:\\n\", missing_values)\n",
        "    print(\"\\nData Types:\\n\", data_types)\n",
        "    print(\"\\nUnique Values:\\n\", unique_values)\n",
        "    print(\"\\nShape of data:\\n\", data.shape)\n",
        "\n",
        "def remove_non_letters(text):\n",
        "    return re.sub('[^a-zA-Z]', '', text)\n",
        "\n",
        "def recommend_isbn(book_name):\n",
        "    book_isbn = books[books['book_title'] == book_name]['isbn'].iloc[0]\n",
        "    return_list = []\n",
        "    index = np.where(pt.index==book_isbn)[0][0]\n",
        "    similar_items = sorted(list(enumerate(similarity_scores[index])),key=lambda x:x[1],reverse=True)[1:10]\n",
        "    for item in similar_items:\n",
        "        isbn = pt.index[item[0]]\n",
        "        return_list.append(books[books['isbn'] == isbn]['book_title'].iloc[0])\n",
        "\n",
        "    return return_list\n",
        "\n",
        "def get_best_book_cosine_colab(query ):\n",
        "  try:\n",
        "    series = similarity_scores[title_isbn_map[query]]\n",
        "    return(isbn_title_map[series.sort_values().index[-2]])\n",
        "  except:\n",
        "    return ''\n",
        "\n",
        "def get_all_book_cosine_colab(query ):\n",
        "  try:\n",
        "    series = similarity_scores[title_isbn_map[query]]\n",
        "    return(series.sort_values())\n",
        "  except:\n",
        "    return ''\n",
        "\n",
        "def get_best_book_graph_with_cosine_colab(query ):\n",
        "  try:\n",
        "    community = int(final_community_df[final_community_df.book_title==query][\t'Community of Book'])\n",
        "    community_book_list = final_community_df[final_community_df['Community of Book'] == community].book_title.to_list()\n",
        "    similarity_list_ascending = get_all_book_cosine_colab(query).index.to_list()\n",
        "\n",
        "    for i in [isbn_title_map[x] for x in list(reversed(similarity_list_ascending))[1:]]:\n",
        "      if i in community_book_list:\n",
        "        return(i)\n",
        "        break\n",
        "  except: return''\n",
        "\n"
      ],
      "metadata": {
        "colab": {
          "base_uri": "https://localhost:8080/"
        },
        "id": "QJ0nBWHwaI0p",
        "outputId": "da3781f2-94fe-4550-da9e-25bc2811371b"
      },
      "execution_count": null,
      "outputs": [
        {
          "output_type": "stream",
          "name": "stdout",
          "text": [
            "time: 1.51 ms (started: 2023-10-31 09:18:01 +00:00)\n"
          ]
        }
      ]
    },
    {
      "cell_type": "markdown",
      "source": [
        "## Data Cleaning Pipeline"
      ],
      "metadata": {
        "id": "aDSw4YI6bnFn"
      }
    },
    {
      "cell_type": "code",
      "source": [
        "users['age'] = users['age'].astype(float)\n",
        "users['user_id'] = users['user_id'].astype(int)\n",
        "users['location'] = users['location'].apply(lambda x: x.split(',') if len(x.split(','))==3 else ['n/a', 'n/a', 'n/a'])\n",
        "users['city'] = users['location'].apply(lambda x: x[0].lower())\n",
        "users['state'] = users['location'].apply(lambda x: x[1].lower())\n",
        "users['country'] = users['location'].apply(lambda x: x[2].lower())\n",
        "users.drop(['location', 'age'], axis = 1, inplace=True)\n",
        "\n",
        "\n",
        "\n",
        "ratings['user_id'] = ratings['user_id'].astype(int)\n",
        "ratings['rating'] = ratings['rating'].astype(int)\n",
        "\n",
        "\n",
        "books['year_of_publication'] = books['year_of_publication'].apply(lambda s: int(s) if s.isdigit() else 2000)\n",
        "books['book_title_identifier'] = books['book_title'].apply(lambda x: remove_non_letters(x).lower()) + books['book_author'].apply(lambda x: str(x).lower().split(' ')[-1])\n",
        "print('Orignal book count', books.shape[0])\n",
        "print('Actual book count', len(books['book_title_identifier'].unique()))\n",
        "duplicates = books[books.duplicated(subset='book_title_identifier', keep=False)].groupby('book_title_identifier').apply(lambda x: x['isbn'].tolist()).to_dict()\n",
        "books.drop_duplicates(subset='book_title_identifier', inplace=True)\n",
        "\n",
        "\n",
        "correction_dict = {}  #{Incorrect ISBN: Correct ISBN}\n",
        "for li in duplicates.values():\n",
        "    correct_isbn = li[0]\n",
        "    for incorrect_isbn in li[1:]:\n",
        "        correction_dict[incorrect_isbn] = correct_isbn\n",
        "\n",
        "print('Orignal ratings count', ratings.shape[0])\n",
        "ratings['isbn'] = ratings['isbn'].map(correction_dict).fillna(ratings['isbn'])\n",
        "ratings = ratings.groupby(['isbn', 'user_id']).max().reset_index()\n",
        "print('Actual ratings count', ratings.shape[0])\n"
      ],
      "metadata": {
        "colab": {
          "base_uri": "https://localhost:8080/"
        },
        "id": "KK7AWhG9bqgf",
        "outputId": "bf0f6fc0-ed4d-45de-f124-38ba7619eb19"
      },
      "execution_count": null,
      "outputs": [
        {
          "output_type": "stream",
          "name": "stdout",
          "text": [
            "Orignal book count 271360\n",
            "Actual book count 242505\n",
            "Orignal ratings count 1149780\n",
            "Actual ratings count 1144516\n",
            "time: 11.5 s (started: 2023-10-31 09:18:01 +00:00)\n"
          ]
        }
      ]
    },
    {
      "cell_type": "code",
      "source": [
        "isbn_filter = ratings.groupby('isbn').size().to_frame('Count').reset_index()\n",
        "isbn_filter = isbn_filter[isbn_filter.Count > 10]['isbn']\n",
        "big_reference_books_df = books[books['isbn'].isin( isbn_filter)].reset_index(drop = 1)\n"
      ],
      "metadata": {
        "colab": {
          "base_uri": "https://localhost:8080/"
        },
        "id": "MLR2Eryy0V04",
        "outputId": "489102df-79f7-4f9e-87e0-58223e81299c"
      },
      "execution_count": null,
      "outputs": [
        {
          "output_type": "stream",
          "name": "stdout",
          "text": [
            "time: 1.46 s (started: 2023-10-31 09:18:12 +00:00)\n"
          ]
        }
      ]
    },
    {
      "cell_type": "markdown",
      "source": [
        "# EDA"
      ],
      "metadata": {
        "id": "MRNwcRrybfEK"
      }
    },
    {
      "cell_type": "code",
      "source": [
        "print('-'*10)\n",
        "print( 'Stats for users df \\n')\n",
        "print('-'*10)\n",
        "\n",
        "perform_eda(users)\n",
        "print('-'*10)\n",
        "print( 'Stats for books df')\n",
        "print('-'*10)\n",
        "\n",
        "\n",
        "perform_eda(books)\n",
        "print('-'*10)\n",
        "print( 'Stats for ratings df')\n",
        "print('-'*10)\n",
        "\n",
        "perform_eda(ratings)\n",
        "print('-'*10)\n"
      ],
      "metadata": {
        "colab": {
          "base_uri": "https://localhost:8080/"
        },
        "id": "44iXPwK0bg2X",
        "outputId": "eb898b63-3bd1-419c-8f51-f5d96d2fdd7c"
      },
      "execution_count": null,
      "outputs": [
        {
          "output_type": "stream",
          "name": "stdout",
          "text": [
            "----------\n",
            "Stats for users df \n",
            "\n",
            "----------\n",
            "Summary Statistics:\n",
            "             user_id\n",
            "count  278858.00000\n",
            "mean   139429.50000\n",
            "std     80499.51502\n",
            "min         1.00000\n",
            "25%     69715.25000\n",
            "50%    139429.50000\n",
            "75%    209143.75000\n",
            "max    278858.00000\n",
            "\n",
            "Missing Values:\n",
            " user_id    0\n",
            "city       0\n",
            "state      0\n",
            "country    0\n",
            "dtype: int64\n",
            "\n",
            "Data Types:\n",
            " user_id     int64\n",
            "city       object\n",
            "state      object\n",
            "country    object\n",
            "dtype: object\n",
            "\n",
            "Unique Values:\n",
            " user_id    278858\n",
            "city        32482\n",
            "state        5948\n",
            "country       697\n",
            "dtype: int64\n",
            "\n",
            "Shape of data:\n",
            " (278858, 4)\n",
            "----------\n",
            "Stats for books df\n",
            "----------\n",
            "Summary Statistics:\n",
            "        year_of_publication\n",
            "count        242505.000000\n",
            "mean           1961.960945\n",
            "std             249.886597\n",
            "min               0.000000\n",
            "25%            1989.000000\n",
            "50%            1995.000000\n",
            "75%            2000.000000\n",
            "max            2050.000000\n",
            "\n",
            "Missing Values:\n",
            " isbn                     0\n",
            "book_title               0\n",
            "book_author              1\n",
            "year_of_publication      0\n",
            "publisher                2\n",
            "img_s                    0\n",
            "img_m                    0\n",
            "img_l                    3\n",
            "book_title_identifier    0\n",
            "dtype: int64\n",
            "\n",
            "Data Types:\n",
            " isbn                     object\n",
            "book_title               object\n",
            "book_author              object\n",
            "year_of_publication       int64\n",
            "publisher                object\n",
            "img_s                    object\n",
            "img_m                    object\n",
            "img_l                    object\n",
            "book_title_identifier    object\n",
            "dtype: object\n",
            "\n",
            "Unique Values:\n",
            " isbn                     242505\n",
            "book_title               236297\n",
            "book_author              100884\n",
            "year_of_publication         110\n",
            "publisher                 16478\n",
            "img_s                    242504\n",
            "img_m                    242504\n",
            "img_l                    242501\n",
            "book_title_identifier    242505\n",
            "dtype: int64\n",
            "\n",
            "Shape of data:\n",
            " (242505, 9)\n",
            "----------\n",
            "Stats for ratings df\n",
            "----------\n",
            "Summary Statistics:\n",
            "             user_id        rating\n",
            "count  1.144516e+06  1.144516e+06\n",
            "mean   1.404758e+05  2.870752e+00\n",
            "std    8.053102e+04  3.854902e+00\n",
            "min    2.000000e+00  0.000000e+00\n",
            "25%    7.045700e+04  0.000000e+00\n",
            "50%    1.411280e+05  0.000000e+00\n",
            "75%    2.111520e+05  7.000000e+00\n",
            "max    2.788540e+05  1.000000e+01\n",
            "\n",
            "Missing Values:\n",
            " isbn       0\n",
            "user_id    0\n",
            "rating     0\n",
            "dtype: int64\n",
            "\n",
            "Data Types:\n",
            " isbn       object\n",
            "user_id     int64\n",
            "rating      int64\n",
            "dtype: object\n",
            "\n",
            "Unique Values:\n",
            " isbn       311845\n",
            "user_id    105283\n",
            "rating         11\n",
            "dtype: int64\n",
            "\n",
            "Shape of data:\n",
            " (1144516, 3)\n",
            "----------\n",
            "time: 1.79 s (started: 2023-10-31 09:18:14 +00:00)\n"
          ]
        }
      ]
    },
    {
      "cell_type": "markdown",
      "source": [
        "### User Location EDA"
      ],
      "metadata": {
        "id": "4E6oWLvBgUCf"
      }
    },
    {
      "cell_type": "code",
      "source": [
        "users_EDA = users[~((users['city'] == 'n/a' ) | (users['city'] == '' ) |(users['state'] == 'n/a' ) | (users['country'] == 'n/a' )| (users['country'] == '' ))]\n",
        "users_EDA_cities = users_EDA.groupby('city').size().to_frame('count').sort_values('count', ascending=False)\n",
        "most_active_cities = users_EDA_cities[users_EDA_cities['count']>1000]\n",
        "\n",
        "plt.figure(figsize=(10, 6))\n",
        "n, bins, patches = plt.hist(users_EDA_cities['count'][:2000],log=True,edgecolor='black',bins=50)\n",
        "plt.xlabel('Count of ratings in cities in top 2000 cities')\n",
        "plt.xticks(bins, rotation=90)\n",
        "plt.ylabel('Number of cities')\n",
        "plt.title('City User Discription')\n",
        "plt.show()\n",
        "\n",
        "print('most_active_cities: ',most_active_cities)\n",
        "\n",
        "users_EDA_countries = users_EDA.groupby('country').size().to_frame('count').sort_values('count', ascending=False)\n",
        "most_active_countries = users_EDA_countries[users_EDA_countries['count']>500]\n",
        "\n",
        "plt.figure(figsize=(10, 6))\n",
        "n, bins, patches = plt.hist(users_EDA_countries['count'][:50], bins = 40,edgecolor='black')\n",
        "plt.xlabel('Count of ratings in countries in top 50 countries')\n",
        "plt.xticks(bins, rotation=90)\n",
        "plt.ylabel('Number of country')\n",
        "plt.title('Country User Discription')\n",
        "plt.show()\n",
        "\n",
        "print('most_active_countries: ',most_active_countries)"
      ],
      "metadata": {
        "colab": {
          "base_uri": "https://localhost:8080/",
          "height": 1000
        },
        "id": "QOk8FNVSfi7N",
        "outputId": "69504be0-ef4e-4ef5-8548-f3043615ae4a"
      },
      "execution_count": null,
      "outputs": [
        {
          "output_type": "display_data",
          "data": {
            "text/plain": [
              "<Figure size 1000x600 with 1 Axes>"
            ],
            "image/png": "[encoded data removed]"
          },
          "metadata": {}
        },
        {
          "output_type": "stream",
          "name": "stdout",
          "text": [
            "most_active_cities:                 count\n",
            "city                \n",
            "london          4054\n",
            "barcelona       2645\n",
            "toronto         2282\n",
            "madrid          1912\n",
            "sydney          1863\n",
            "melbourne       1843\n",
            "portland        1816\n",
            "vancouver       1632\n",
            "chicago         1537\n",
            "seattle         1500\n",
            "new york        1433\n",
            "milano          1332\n",
            "san diego       1300\n",
            "berlin          1290\n",
            "san francisco   1282\n",
            "ottawa          1266\n",
            "houston         1212\n",
            "paris           1169\n",
            "los angeles     1018\n",
            "austin          1013\n",
            "roma            1001\n"
          ]
        },
        {
          "output_type": "display_data",
          "data": {
            "text/plain": [
              "<Figure size 1000x600 with 1 Axes>"
            ],
            "image/png": "[encoded data removed]"
          },
          "metadata": {}
        },
        {
          "output_type": "stream",
          "name": "stdout",
          "text": [
            "most_active_countries:                    count\n",
            "country                \n",
            " usa             139105\n",
            " canada           21528\n",
            " united kingdom   18225\n",
            " germany          17002\n",
            " spain            13078\n",
            " australia        11702\n",
            " italy            11222\n",
            " france            3435\n",
            " portugal          3300\n",
            " new zealand       3056\n",
            " netherlands       2997\n",
            " switzerland       1732\n",
            " brazil            1667\n",
            " china             1455\n",
            " sweden            1398\n",
            " india             1262\n",
            " austria           1128\n",
            " malaysia          1084\n",
            " argentina         1074\n",
            " finland            917\n",
            " singapore          863\n",
            " belgium            814\n",
            " mexico             800\n",
            " denmark            797\n",
            " ireland            733\n",
            " philippines        696\n",
            "time: 1.68 s (started: 2023-10-31 09:18:15 +00:00)\n"
          ]
        }
      ]
    },
    {
      "cell_type": "markdown",
      "source": [
        "### Review EDA"
      ],
      "metadata": {
        "id": "C0tLX3b2gelw"
      }
    },
    {
      "cell_type": "code",
      "source": [
        "user_rating_count =  ratings.groupby('user_id').size().to_frame('count').sort_values('count', ascending=False)\n",
        "plt.figure(figsize=(10, 6))\n",
        "n, bins, patches = plt.hist(user_rating_count['count'], log=True,bins=50,edgecolor='black')\n",
        "plt.xlabel('Count of reviews by user')\n",
        "\n",
        "plt.xticks(bins, rotation=90)\n",
        "plt.ylabel('Number of users')\n",
        "plt.title('Books Statistic')\n",
        "plt.show()\n",
        "\n",
        "grouped_be_isbn_df= ratings[['isbn']].groupby('isbn')\n",
        "\n",
        "\n",
        "print('Total count of rated books: ',grouped_be_isbn_df.size().shape[0])\n",
        "print('Maximum count of ratings on a book: ', grouped_be_isbn_df.size().max())\n",
        "print('Minimum count of ratings on a book: ', grouped_be_isbn_df.size().min())\n",
        "print('Median count of ratings on a book: ',grouped_be_isbn_df.size().median())\n",
        "print('Count of books with higher than or equal to 10 ratings: ',len(grouped_be_isbn_df.size()[grouped_be_isbn_df.size()>=10]))\n",
        "print('Count of books with higher than or equal to 5 ratings: ',len(grouped_be_isbn_df.size()[grouped_be_isbn_df.size()>=5]))\n",
        "print('Count of books with higher than or equal to 2 ratings: ',len(grouped_be_isbn_df.size()[grouped_be_isbn_df.size()>=2]))"
      ],
      "metadata": {
        "colab": {
          "base_uri": "https://localhost:8080/",
          "height": 715
        },
        "id": "9aO6Y-RRgcjV",
        "outputId": "d5693b89-932f-4223-febb-c90ce5ed920e"
      },
      "execution_count": null,
      "outputs": [
        {
          "output_type": "display_data",
          "data": {
            "text/plain": [
              "<Figure size 1000x600 with 1 Axes>"
            ],
            "image/png": "[encoded data removed]"
          },
          "metadata": {}
        },
        {
          "output_type": "stream",
          "name": "stdout",
          "text": [
            "Total count of rated books:  311845\n",
            "Maximum count of ratings on a book:  2502\n",
            "Minimum count of ratings on a book:  1\n",
            "Median count of ratings on a book:  1.0\n",
            "Count of books with higher than or equal to 10 ratings:  18077\n",
            "Count of books with higher than or equal to 5 ratings:  41983\n",
            "Count of books with higher than or equal to 2 ratings:  132801\n",
            "time: 3.12 s (started: 2023-10-31 09:18:17 +00:00)\n"
          ]
        }
      ]
    },
    {
      "cell_type": "code",
      "source": [
        "grouped_by_user_id_df= ratings[['user_id']].groupby('user_id')\n",
        "\n",
        "\n",
        "unique_rating_count = ratings.groupby('rating').size().to_frame('count').sort_values('count', ascending=False)\n",
        "plt.figure(figsize=(10, 6))\n",
        "plt.bar(unique_rating_count.index, unique_rating_count['count'], edgecolor='black')\n",
        "plt.xlabel('Rating')\n",
        "plt.ylabel('Count of rating choice')\n",
        "plt.title('Reviewer Statistic (with 0 reviews)')\n",
        "plt.show()\n",
        "\n",
        "\n",
        "unique_rating_count = unique_rating_count[unique_rating_count.index!=0]\n",
        "plt.figure(figsize=(10, 6))\n",
        "plt.bar(unique_rating_count.index, unique_rating_count['count'], edgecolor='black')\n",
        "plt.xlabel('Rating')\n",
        "plt.ylabel('Count of rating choice')\n",
        "plt.title('Reviewer Statistic (without 0 reviews)')\n",
        "plt.show()\n",
        "\n",
        "print('Total count of reviewers: ',grouped_by_user_id_df.size().shape[0])\n",
        "print('Maximum count of reviews by a reviewer: ', grouped_by_user_id_df.size().max())\n",
        "print('Minimum count of reviews by a reviewer: ', grouped_by_user_id_df.size().min())\n",
        "print('Median count of ratings on a book: ',grouped_by_user_id_df.size().median())\n",
        "print('Count of reviewers with higher than or equal to 10 ratings: ',len(grouped_by_user_id_df.size()[grouped_by_user_id_df.size()>=10]))\n",
        "print('Count of reviewers with higher than or equal to 5 ratings: ',len(grouped_by_user_id_df.size()[grouped_by_user_id_df.size()>=5]))\n",
        "print('Count of reviewers with higher than or equal to 2 ratings: ',len(grouped_by_user_id_df.size()[grouped_by_user_id_df.size()>=2]))\n",
        "\n",
        "ratio_zero = ratings[ratings['rating']==0].shape[0]/ratings.shape[0]\n",
        "print(f'Ratio of zero ratings: {ratio_zero}')\n",
        "non_zero_median = ratings[ratings['rating']!=0]['rating'].median()\n",
        "non_zero_mean = ratings[ratings['rating']!=0]['rating'].mean()\n",
        "non_zero_std = ratings[ratings['rating']!=0]['rating'].std()\n",
        "\n",
        "print(f'Median, mean and std of the non zero ratings: {non_zero_median, non_zero_mean, non_zero_std}')\n",
        "\n",
        "\n",
        "zero_reviewer_id = ratings[ratings['rating'] == 0]['user_id']\n",
        "zero_reviewer_unique_rating_count = ratings[ratings['user_id'].isin(zero_reviewer_id)].groupby(['user_id'])['rating'].nunique().to_frame('unique_count')\n",
        "print('Users with only 0 ratings ever:', zero_reviewer_unique_rating_count.groupby('unique_count').size()[1])\n",
        "not_useful_users = zero_reviewer_unique_rating_count[zero_reviewer_unique_rating_count['unique_count'] ==1].index\n",
        "ratings = ratings[ratings['user_id'].isin(zero_reviewer_id)][~ratings['user_id'].isin(not_useful_users)]"
      ],
      "metadata": {
        "colab": {
          "base_uri": "https://localhost:8080/",
          "height": 1000
        },
        "id": "Y8DFBZUFhJ38",
        "outputId": "49eff923-1b78-4d0e-f2df-5e59e06e2df5"
      },
      "execution_count": null,
      "outputs": [
        {
          "output_type": "display_data",
          "data": {
            "text/plain": [
              "<Figure size 1000x600 with 1 Axes>"
            ],
            "image/png": "[encoded data removed]"
          },
          "metadata": {}
        },
        {
          "output_type": "display_data",
          "data": {
            "text/plain": [
              "<Figure size 1000x600 with 1 Axes>"
            ],
            "image/png": "[encoded data removed]"
          },
          "metadata": {}
        },
        {
          "output_type": "stream",
          "name": "stdout",
          "text": [
            "Total count of reviewers:  105283\n",
            "Maximum count of reviews by a reviewer:  12993\n",
            "Minimum count of reviews by a reviewer:  1\n",
            "Median count of ratings on a book:  1.0\n",
            "Count of reviewers with higher than or equal to 10 ratings:  13092\n",
            "Count of reviewers with higher than or equal to 5 ratings:  22813\n",
            "Count of reviewers with higher than or equal to 2 ratings:  46104\n",
            "Ratio of zero ratings: 0.6222674038632924\n",
            "Median, mean and std of the non zero ratings: (8.0, 7.599959289509416, 1.8436094031022943)\n",
            "Users with only 0 ratings ever: 27478\n"
          ]
        },
        {
          "output_type": "stream",
          "name": "stderr",
          "text": [
            "<ipython-input-48-29f2e9915200>:42: UserWarning: Boolean Series key will be reindexed to match DataFrame index.\n",
            "  ratings = ratings[ratings['user_id'].isin(zero_reviewer_id)][~ratings['user_id'].isin(not_useful_users)]\n"
          ]
        },
        {
          "output_type": "stream",
          "name": "stdout",
          "text": [
            "time: 3.25 s (started: 2023-10-31 09:18:20 +00:00)\n"
          ]
        }
      ]
    },
    {
      "cell_type": "markdown",
      "source": [
        "## Post EDA Cleanup"
      ],
      "metadata": {
        "id": "uK28pEzhiy1z"
      }
    },
    {
      "cell_type": "code",
      "source": [
        "ratings = ratings[ratings['rating']!=0]\n",
        "isbn_title_map = dict(zip(books['isbn'], books['book_title']))\n",
        "title_isbn_map = {v:k for k,v in isbn_title_map.items()}"
      ],
      "metadata": {
        "colab": {
          "base_uri": "https://localhost:8080/"
        },
        "id": "ZVE0WULAixKS",
        "outputId": "6c0ece92-5d36-435a-a46c-7800617cda1d"
      },
      "execution_count": null,
      "outputs": [
        {
          "output_type": "stream",
          "name": "stdout",
          "text": [
            "time: 960 ms (started: 2023-10-31 09:18:24 +00:00)\n"
          ]
        }
      ]
    },
    {
      "cell_type": "markdown",
      "source": [
        "# Colaberative Methods"
      ],
      "metadata": {
        "id": "bH2kxlzkpabH"
      }
    },
    {
      "cell_type": "markdown",
      "source": [
        "## Colaborative Filtering"
      ],
      "metadata": {
        "id": "N3B9G0Isi-OW"
      }
    },
    {
      "cell_type": "markdown",
      "source": [
        "### Training Design"
      ],
      "metadata": {
        "id": "ZSh027cCkHC6"
      }
    },
    {
      "cell_type": "code",
      "source": [
        "train_similarity_matrix = 0\n",
        "\n",
        "if train_similarity_matrix == 1:\n",
        "  # Configs\n",
        "  user_rating_threshold = 3\n",
        "  book_rating_threshold = 3\n",
        "\n",
        "  # Fetch Name\n",
        "  ratings_with_name = ratings.merge(books,on='isbn')\n",
        "  ratings_with_name.head()\n",
        "  ratings_with_name = ratings_with_name[['isbn','user_id','rating', 'book_title']]\n",
        "\n",
        "\n",
        "  x = ratings_with_name.groupby('user_id').count()['rating'] > user_rating_threshold\n",
        "  above_threshold_users = x[x].index\n",
        "  filtered_rating = ratings_with_name[ratings_with_name['user_id'].isin(above_threshold_users)]\n",
        "\n",
        "  y = filtered_rating.groupby('isbn').count()['rating']>= book_rating_threshold\n",
        "  famous_books = y[y].index\n",
        "  final_ratings = filtered_rating[filtered_rating['isbn'].isin(famous_books)]\n",
        "\n",
        "  pt = final_ratings.pivot_table(index='isbn',columns='user_id',values='rating')\n",
        "  pt.fillna(0,inplace=True)\n",
        "\n",
        "  similarity_scores = cosine_similarity(pt)\n",
        "  similarity_scores.shape\n",
        "\n",
        "\n",
        "  file_name = \"similarity_scores.pkl\"\n",
        "  import pickle\n",
        "  with open(file_name, 'wb') as file:\n",
        "      pickle.dump(similarity_scores, file)"
      ],
      "metadata": {
        "colab": {
          "base_uri": "https://localhost:8080/"
        },
        "id": "PaHOf_HOjC8G",
        "outputId": "1f34f75f-3516-4943-b71f-81c11b9f74c5"
      },
      "execution_count": null,
      "outputs": [
        {
          "output_type": "stream",
          "name": "stdout",
          "text": [
            "time: 1.34 ms (started: 2023-10-31 09:18:25 +00:00)\n"
          ]
        }
      ]
    },
    {
      "cell_type": "code",
      "source": [
        "import pickle\n",
        "file_name = \"/content/drive/Shareddrives/Books_Challenge/similarity_scores.pkl\"\n",
        "with open(file_name, 'rb') as file:\n",
        "    similarity_scores = pickle.load(file)\n",
        "file_name = \"/content/drive/Shareddrives/Books_Challenge/pt.pkl\"\n",
        "with open(file_name, 'rb') as file:\n",
        "    pt = pickle.load(file)"
      ],
      "metadata": {
        "colab": {
          "base_uri": "https://localhost:8080/"
        },
        "id": "Jsqi7y5pHoCG",
        "outputId": "18edab04-0a2e-4d0c-bd77-b09ba46edbbd"
      },
      "execution_count": null,
      "outputs": [
        {
          "output_type": "stream",
          "name": "stdout",
          "text": [
            "time: 29 s (started: 2023-10-31 09:18:25 +00:00)\n"
          ]
        }
      ]
    },
    {
      "cell_type": "markdown",
      "source": [
        "### Sample Colaborative Filtering API"
      ],
      "metadata": {
        "id": "mmpcHyxDkUaS"
      }
    },
    {
      "cell_type": "code",
      "source": [
        "get_best_book_cosine_colab(\"Animal Farm\")"
      ],
      "metadata": {
        "colab": {
          "base_uri": "https://localhost:8080/",
          "height": 36
        },
        "id": "pWh8dRmSkdhD",
        "outputId": "c610a332-31be-4b42-8694-fad74c0890f8"
      },
      "execution_count": null,
      "outputs": [
        {
          "output_type": "execute_result",
          "data": {
            "text/plain": [
              "\"Harry Potter and the Philosopher's Stone\""
            ],
            "application/vnd.google.colaboratory.intrinsic+json": {
              "type": "string"
            }
          },
          "metadata": {},
          "execution_count": 90
        },
        {
          "output_type": "stream",
          "name": "stdout",
          "text": [
            "time: 16.9 ms (started: 2023-10-31 10:08:30 +00:00)\n"
          ]
        }
      ]
    },
    {
      "cell_type": "markdown",
      "source": [
        "## Graph with Colaberative Filtering"
      ],
      "metadata": {
        "id": "qYS7z-nFk2WT"
      }
    },
    {
      "cell_type": "markdown",
      "source": [
        "### Community Data Load"
      ],
      "metadata": {
        "id": "LjXeD42_l4Rq"
      }
    },
    {
      "cell_type": "code",
      "source": [
        "final_community_df = pd.read_csv('/content/drive/Shareddrives/Books_Challenge/Community.csv').drop('Unnamed: 0', axis = 1)"
      ],
      "metadata": {
        "colab": {
          "base_uri": "https://localhost:8080/"
        },
        "id": "X3-hur5rk6TV",
        "outputId": "f4425d3c-315c-48b8-9b37-1dfcfeea6e5d"
      },
      "execution_count": null,
      "outputs": [
        {
          "output_type": "stream",
          "name": "stdout",
          "text": [
            "time: 246 ms (started: 2023-10-31 09:18:54 +00:00)\n"
          ]
        }
      ]
    },
    {
      "cell_type": "markdown",
      "source": [
        "### Sample Graph with Colaberative Filtering API"
      ],
      "metadata": {
        "id": "NQp5yB3-mGCF"
      }
    },
    {
      "cell_type": "code",
      "source": [
        "get_best_book_graph_with_cosine_colab('Animal Farm')"
      ],
      "metadata": {
        "colab": {
          "base_uri": "https://localhost:8080/",
          "height": 36
        },
        "id": "MWr6Gcn_lod8",
        "outputId": "a323b0e2-ad93-44b8-b859-629e7ce53e8f"
      },
      "execution_count": null,
      "outputs": [
        {
          "output_type": "execute_result",
          "data": {
            "text/plain": [
              "'1984'"
            ],
            "application/vnd.google.colaboratory.intrinsic+json": {
              "type": "string"
            }
          },
          "metadata": {},
          "execution_count": 54
        },
        {
          "output_type": "stream",
          "name": "stdout",
          "text": [
            "time: 54.9 ms (started: 2023-10-31 09:18:54 +00:00)\n"
          ]
        }
      ]
    },
    {
      "cell_type": "markdown",
      "source": [
        "# Content Based Methods (BERT Implementation)"
      ],
      "metadata": {
        "id": "3DXyctSifVJp"
      }
    },
    {
      "cell_type": "markdown",
      "source": [
        "### Filtering Condition"
      ],
      "metadata": {
        "id": "k_krx26zlduV"
      }
    },
    {
      "cell_type": "code",
      "source": [
        "isbn_filter = ratings.groupby('isbn').size().to_frame('Count').reset_index()\n",
        "isbn_filter = isbn_filter[isbn_filter.Count > 10]['isbn']\n",
        "reference_books_df = books[books['isbn'].isin( isbn_filter)].reset_index(drop = 1)\n",
        "reference_books_df"
      ],
      "metadata": {
        "colab": {
          "base_uri": "https://localhost:8080/"
        },
        "id": "2H-6ZCBONctY",
        "outputId": "93827f42-ad3f-401f-fd1a-8aeeedf91262"
      },
      "execution_count": null,
      "outputs": [
        {
          "output_type": "execute_result",
          "data": {
            "text/plain": [
              "            isbn                                         book_title  \\\n",
              "0     0399135782                             The Kitchen God's Wife   \n",
              "1     0671870432                                    PLEADING GUILTY   \n",
              "2     1558746218  A Second Chicken Soup for the Woman's Soul (Ch...   \n",
              "3     0440234743                                      The Testament   \n",
              "4     0452264464               Beloved (Plume Contemporary Fiction)   \n",
              "...          ...                                                ...   \n",
              "4054  0786889780        First Person Plural : My Life as a Multiple   \n",
              "4055  3522128001             Die unendliche Geschichte: Von A bis Z   \n",
              "4056  0330349678           With Nails the Film Diaries of Richard E   \n",
              "4057  0892967811                                      Cyanide Wells   \n",
              "4058  0310205719  The Purpose-Driven Life: What on Earth Am I He...   \n",
              "\n",
              "          book_author  year_of_publication                     publisher  \\\n",
              "0             Amy Tan                 1991              Putnam Pub Group   \n",
              "1         Scott Turow                 1993                    Audioworks   \n",
              "2       Jack Canfield                 1998         Health Communications   \n",
              "3        John Grisham                 1999                          Dell   \n",
              "4       Toni Morrison                 1994                         Plume   \n",
              "...               ...                  ...                           ...   \n",
              "4054     Cameron West                 1999                      Hyperion   \n",
              "4055     Michael Ende                 1979                    Thienemann   \n",
              "4056  Richard E Grant                    0                 Pan Books Ltd   \n",
              "4057    Marcia Muller                 2003              Mysterious Press   \n",
              "4058      Rick Warren                 2002  Zondervan Publishing Company   \n",
              "\n",
              "                                                  img_s  \\\n",
              "0     http://images.amazon.com/images/P/0399135782.0...   \n",
              "1     http://images.amazon.com/images/P/0671870432.0...   \n",
              "2     http://images.amazon.com/images/P/1558746218.0...   \n",
              "3     http://images.amazon.com/images/P/0440234743.0...   \n",
              "4     http://images.amazon.com/images/P/0452264464.0...   \n",
              "...                                                 ...   \n",
              "4054  http://images.amazon.com/images/P/0786889780.0...   \n",
              "4055  http://images.amazon.com/images/P/3522128001.0...   \n",
              "4056  http://images.amazon.com/images/P/0330349678.0...   \n",
              "4057  http://images.amazon.com/images/P/0892967811.0...   \n",
              "4058  http://images.amazon.com/images/P/0310205719.0...   \n",
              "\n",
              "                                                  img_m  \\\n",
              "0     http://images.amazon.com/images/P/0399135782.0...   \n",
              "1     http://images.amazon.com/images/P/0671870432.0...   \n",
              "2     http://images.amazon.com/images/P/1558746218.0...   \n",
              "3     http://images.amazon.com/images/P/0440234743.0...   \n",
              "4     http://images.amazon.com/images/P/0452264464.0...   \n",
              "...                                                 ...   \n",
              "4054  http://images.amazon.com/images/P/0786889780.0...   \n",
              "4055  http://images.amazon.com/images/P/3522128001.0...   \n",
              "4056  http://images.amazon.com/images/P/0330349678.0...   \n",
              "4057  http://images.amazon.com/images/P/0892967811.0...   \n",
              "4058  http://images.amazon.com/images/P/0310205719.0...   \n",
              "\n",
              "                                                  img_l  \\\n",
              "0     http://images.amazon.com/images/P/0399135782.0...   \n",
              "1     http://images.amazon.com/images/P/0671870432.0...   \n",
              "2     http://images.amazon.com/images/P/1558746218.0...   \n",
              "3     http://images.amazon.com/images/P/0440234743.0...   \n",
              "4     http://images.amazon.com/images/P/0452264464.0...   \n",
              "...                                                 ...   \n",
              "4054  http://images.amazon.com/images/P/0786889780.0...   \n",
              "4055  http://images.amazon.com/images/P/3522128001.0...   \n",
              "4056  http://images.amazon.com/images/P/0330349678.0...   \n",
              "4057  http://images.amazon.com/images/P/0892967811.0...   \n",
              "4058  http://images.amazon.com/images/P/0310205719.0...   \n",
              "\n",
              "                                  book_title_identifier  \n",
              "0                                 thekitchengodswifetan  \n",
              "1                                   pleadingguiltyturow  \n",
              "2     asecondchickensoupforthewomanssoulchickensoupf...  \n",
              "3                                   thetestamentgrisham  \n",
              "4               belovedplumecontemporaryfictionmorrison  \n",
              "...                                                 ...  \n",
              "4054             firstpersonpluralmylifeasamultiplewest  \n",
              "4055                dieunendlichegeschichtevonabiszende  \n",
              "4056             withnailsthefilmdiariesofrichardegrant  \n",
              "4057                                 cyanidewellsmuller  \n",
              "4058    thepurposedrivenlifewhatonearthamihereforwarren  \n",
              "\n",
              "[4059 rows x 9 columns]"
            ],
            "text/html": [
              "\n",
              "  <div id=\"df-dc30999c-01a6-403f-a723-9529bc2b9f82\" class=\"colab-df-container\">\n",
              "    <div>\n",
              "<style scoped>\n",
              "    .dataframe tbody tr th:only-of-type {\n",
              "        vertical-align: middle;\n",
              "    }\n",
              "\n",
              "    .dataframe tbody tr th {\n",
              "        vertical-align: top;\n",
              "    }\n",
              "\n",
              "    .dataframe thead th {\n",
              "        text-align: right;\n",
              "    }\n",
              "</style>\n",
              "<table border=\"1\" class=\"dataframe\">\n",
              "  <thead>\n",
              "    <tr style=\"text-align: right;\">\n",
              "      <th></th>\n",
              "      <th>isbn</th>\n",
              "      <th>book_title</th>\n",
              "      <th>book_author</th>\n",
              "      <th>year_of_publication</th>\n",
              "      <th>publisher</th>\n",
              "      <th>img_s</th>\n",
              "      <th>img_m</th>\n",
              "      <th>img_l</th>\n",
              "      <th>book_title_identifier</th>\n",
              "    </tr>\n",
              "  </thead>\n",
              "  <tbody>\n",
              "    <tr>\n",
              "      <th>0</th>\n",
              "      <td>0399135782</td>\n",
              "      <td>The Kitchen God's Wife</td>\n",
              "      <td>Amy Tan</td>\n",
              "      <td>1991</td>\n",
              "      <td>Putnam Pub Group</td>\n",
              "      <td>http://images.amazon.com/images/P/0399135782.0...</td>\n",
              "      <td>http://images.amazon.com/images/P/0399135782.0...</td>\n",
              "      <td>http://images.amazon.com/images/P/0399135782.0...</td>\n",
              "      <td>thekitchengodswifetan</td>\n",
              "    </tr>\n",
              "    <tr>\n",
              "      <th>1</th>\n",
              "      <td>0671870432</td>\n",
              "      <td>PLEADING GUILTY</td>\n",
              "      <td>Scott Turow</td>\n",
              "      <td>1993</td>\n",
              "      <td>Audioworks</td>\n",
              "      <td>http://images.amazon.com/images/P/0671870432.0...</td>\n",
              "      <td>http://images.amazon.com/images/P/0671870432.0...</td>\n",
              "      <td>http://images.amazon.com/images/P/0671870432.0...</td>\n",
              "      <td>pleadingguiltyturow</td>\n",
              "    </tr>\n",
              "    <tr>\n",
              "      <th>2</th>\n",
              "      <td>1558746218</td>\n",
              "      <td>A Second Chicken Soup for the Woman's Soul (Ch...</td>\n",
              "      <td>Jack Canfield</td>\n",
              "      <td>1998</td>\n",
              "      <td>Health Communications</td>\n",
              "      <td>http://images.amazon.com/images/P/1558746218.0...</td>\n",
              "      <td>http://images.amazon.com/images/P/1558746218.0...</td>\n",
              "      <td>http://images.amazon.com/images/P/1558746218.0...</td>\n",
              "      <td>asecondchickensoupforthewomanssoulchickensoupf...</td>\n",
              "    </tr>\n",
              "    <tr>\n",
              "      <th>3</th>\n",
              "      <td>0440234743</td>\n",
              "      <td>The Testament</td>\n",
              "      <td>John Grisham</td>\n",
              "      <td>1999</td>\n",
              "      <td>Dell</td>\n",
              "      <td>http://images.amazon.com/images/P/0440234743.0...</td>\n",
              "      <td>http://images.amazon.com/images/P/0440234743.0...</td>\n",
              "      <td>http://images.amazon.com/images/P/0440234743.0...</td>\n",
              "      <td>thetestamentgrisham</td>\n",
              "    </tr>\n",
              "    <tr>\n",
              "      <th>4</th>\n",
              "      <td>0452264464</td>\n",
              "      <td>Beloved (Plume Contemporary Fiction)</td>\n",
              "      <td>Toni Morrison</td>\n",
              "      <td>1994</td>\n",
              "      <td>Plume</td>\n",
              "      <td>http://images.amazon.com/images/P/0452264464.0...</td>\n",
              "      <td>http://images.amazon.com/images/P/0452264464.0...</td>\n",
              "      <td>http://images.amazon.com/images/P/0452264464.0...</td>\n",
              "      <td>belovedplumecontemporaryfictionmorrison</td>\n",
              "    </tr>\n",
              "    <tr>\n",
              "      <th>...</th>\n",
              "      <td>...</td>\n",
              "      <td>...</td>\n",
              "      <td>...</td>\n",
              "      <td>...</td>\n",
              "      <td>...</td>\n",
              "      <td>...</td>\n",
              "      <td>...</td>\n",
              "      <td>...</td>\n",
              "      <td>...</td>\n",
              "    </tr>\n",
              "    <tr>\n",
              "      <th>4054</th>\n",
              "      <td>0786889780</td>\n",
              "      <td>First Person Plural : My Life as a Multiple</td>\n",
              "      <td>Cameron West</td>\n",
              "      <td>1999</td>\n",
              "      <td>Hyperion</td>\n",
              "      <td>http://images.amazon.com/images/P/0786889780.0...</td>\n",
              "      <td>http://images.amazon.com/images/P/0786889780.0...</td>\n",
              "      <td>http://images.amazon.com/images/P/0786889780.0...</td>\n",
              "      <td>firstpersonpluralmylifeasamultiplewest</td>\n",
              "    </tr>\n",
              "    <tr>\n",
              "      <th>4055</th>\n",
              "      <td>3522128001</td>\n",
              "      <td>Die unendliche Geschichte: Von A bis Z</td>\n",
              "      <td>Michael Ende</td>\n",
              "      <td>1979</td>\n",
              "      <td>Thienemann</td>\n",
              "      <td>http://images.amazon.com/images/P/3522128001.0...</td>\n",
              "      <td>http://images.amazon.com/images/P/3522128001.0...</td>\n",
              "      <td>http://images.amazon.com/images/P/3522128001.0...</td>\n",
              "      <td>dieunendlichegeschichtevonabiszende</td>\n",
              "    </tr>\n",
              "    <tr>\n",
              "      <th>4056</th>\n",
              "      <td>0330349678</td>\n",
              "      <td>With Nails the Film Diaries of Richard E</td>\n",
              "      <td>Richard E Grant</td>\n",
              "      <td>0</td>\n",
              "      <td>Pan Books Ltd</td>\n",
              "      <td>http://images.amazon.com/images/P/0330349678.0...</td>\n",
              "      <td>http://images.amazon.com/images/P/0330349678.0...</td>\n",
              "      <td>http://images.amazon.com/images/P/0330349678.0...</td>\n",
              "      <td>withnailsthefilmdiariesofrichardegrant</td>\n",
              "    </tr>\n",
              "    <tr>\n",
              "      <th>4057</th>\n",
              "      <td>0892967811</td>\n",
              "      <td>Cyanide Wells</td>\n",
              "      <td>Marcia Muller</td>\n",
              "      <td>2003</td>\n",
              "      <td>Mysterious Press</td>\n",
              "      <td>http://images.amazon.com/images/P/0892967811.0...</td>\n",
              "      <td>http://images.amazon.com/images/P/0892967811.0...</td>\n",
              "      <td>http://images.amazon.com/images/P/0892967811.0...</td>\n",
              "      <td>cyanidewellsmuller</td>\n",
              "    </tr>\n",
              "    <tr>\n",
              "      <th>4058</th>\n",
              "      <td>0310205719</td>\n",
              "      <td>The Purpose-Driven Life: What on Earth Am I He...</td>\n",
              "      <td>Rick Warren</td>\n",
              "      <td>2002</td>\n",
              "      <td>Zondervan Publishing Company</td>\n",
              "      <td>http://images.amazon.com/images/P/0310205719.0...</td>\n",
              "      <td>http://images.amazon.com/images/P/0310205719.0...</td>\n",
              "      <td>http://images.amazon.com/images/P/0310205719.0...</td>\n",
              "      <td>thepurposedrivenlifewhatonearthamihereforwarren</td>\n",
              "    </tr>\n",
              "  </tbody>\n",
              "</table>\n",
              "<p>4059 rows × 9 columns</p>\n",
              "</div>\n",
              "    <div class=\"colab-df-buttons\">\n",
              "\n",
              "  <div class=\"colab-df-container\">\n",
              "    <button class=\"colab-df-convert\" onclick=\"convertToInteractive('df-dc30999c-01a6-403f-a723-9529bc2b9f82')\"\n",
              "            title=\"Convert this dataframe to an interactive table.\"\n",
              "            style=\"display:none;\">\n",
              "\n",
              "  <svg xmlns=\"http://www.w3.org/2000/svg\" height=\"24px\" viewBox=\"0 -960 960 960\">\n",
              "    <path d=\"M120-120v-720h720v720H120Zm60-500h600v-160H180v160Zm220 220h160v-160H400v160Zm0 220h160v-160H400v160ZM180-400h160v-160H180v160Zm440 0h160v-160H620v160ZM180-180h160v-160H180v160Zm440 0h160v-160H620v160Z\"/>\n",
              "  </svg>\n",
              "    </button>\n",
              "\n",
              "  <style>\n",
              "    .colab-df-container {\n",
              "      display:flex;\n",
              "      gap: 12px;\n",
              "    }\n",
              "\n",
              "    .colab-df-convert {\n",
              "      background-color: #E8F0FE;\n",
              "      border: none;\n",
              "      border-radius: 50%;\n",
              "      cursor: pointer;\n",
              "      display: none;\n",
              "      fill: #1967D2;\n",
              "      height: 32px;\n",
              "      padding: 0 0 0 0;\n",
              "      width: 32px;\n",
              "    }\n",
              "\n",
              "    .colab-df-convert:hover {\n",
              "      background-color: #E2EBFA;\n",
              "      box-shadow: 0px 1px 2px rgba(60, 64, 67, 0.3), 0px 1px 3px 1px rgba(60, 64, 67, 0.15);\n",
              "      fill: #174EA6;\n",
              "    }\n",
              "\n",
              "    .colab-df-buttons div {\n",
              "      margin-bottom: 4px;\n",
              "    }\n",
              "\n",
              "    [theme=dark] .colab-df-convert {\n",
              "      background-color: #3B4455;\n",
              "      fill: #D2E3FC;\n",
              "    }\n",
              "\n",
              "    [theme=dark] .colab-df-convert:hover {\n",
              "      background-color: #434B5C;\n",
              "      box-shadow: 0px 1px 3px 1px rgba(0, 0, 0, 0.15);\n",
              "      filter: drop-shadow(0px 1px 2px rgba(0, 0, 0, 0.3));\n",
              "      fill: #FFFFFF;\n",
              "    }\n",
              "  </style>\n",
              "\n",
              "    <script>\n",
              "      const buttonEl =\n",
              "        document.querySelector('#df-dc30999c-01a6-403f-a723-9529bc2b9f82 button.colab-df-convert');\n",
              "      buttonEl.style.display =\n",
              "        google.colab.kernel.accessAllowed ? 'block' : 'none';\n",
              "\n",
              "      async function convertToInteractive(key) {\n",
              "        const element = document.querySelector('#df-dc30999c-01a6-403f-a723-9529bc2b9f82');\n",
              "        const dataTable =\n",
              "          await google.colab.kernel.invokeFunction('convertToInteractive',\n",
              "                                                    [key], {});\n",
              "        if (!dataTable) return;\n",
              "\n",
              "        const docLinkHtml = 'Like what you see? Visit the ' +\n",
              "          '<a target=\"_blank\" href=https://colab.research.google.com/notebooks/data_table.ipynb>data table notebook</a>'\n",
              "          + ' to learn more about interactive tables.';\n",
              "        element.innerHTML = '';\n",
              "        dataTable['output_type'] = 'display_data';\n",
              "        await google.colab.output.renderOutput(dataTable, element);\n",
              "        const docLink = document.createElement('div');\n",
              "        docLink.innerHTML = docLinkHtml;\n",
              "        element.appendChild(docLink);\n",
              "      }\n",
              "    </script>\n",
              "  </div>\n",
              "\n",
              "\n",
              "<div id=\"df-66a07e47-66a9-44b3-ac0d-d7e533c3e8d8\">\n",
              "  <button class=\"colab-df-quickchart\" onclick=\"quickchart('df-66a07e47-66a9-44b3-ac0d-d7e533c3e8d8')\"\n",
              "            title=\"Suggest charts.\"\n",
              "            style=\"display:none;\">\n",
              "\n",
              "<svg xmlns=\"http://www.w3.org/2000/svg\" height=\"24px\"viewBox=\"0 0 24 24\"\n",
              "     width=\"24px\">\n",
              "    <g>\n",
              "        <path d=\"M19 3H5c-1.1 0-2 .9-2 2v14c0 1.1.9 2 2 2h14c1.1 0 2-.9 2-2V5c0-1.1-.9-2-2-2zM9 17H7v-7h2v7zm4 0h-2V7h2v10zm4 0h-2v-4h2v4z\"/>\n",
              "    </g>\n",
              "</svg>\n",
              "  </button>\n",
              "\n",
              "<style>\n",
              "  .colab-df-quickchart {\n",
              "      --bg-color: #E8F0FE;\n",
              "      --fill-color: #1967D2;\n",
              "      --hover-bg-color: #E2EBFA;\n",
              "      --hover-fill-color: #174EA6;\n",
              "      --disabled-fill-color: #AAA;\n",
              "      --disabled-bg-color: #DDD;\n",
              "  }\n",
              "\n",
              "  [theme=dark] .colab-df-quickchart {\n",
              "      --bg-color: #3B4455;\n",
              "      --fill-color: #D2E3FC;\n",
              "      --hover-bg-color: #434B5C;\n",
              "      --hover-fill-color: #FFFFFF;\n",
              "      --disabled-bg-color: #3B4455;\n",
              "      --disabled-fill-color: #666;\n",
              "  }\n",
              "\n",
              "  .colab-df-quickchart {\n",
              "    background-color: var(--bg-color);\n",
              "    border: none;\n",
              "    border-radius: 50%;\n",
              "    cursor: pointer;\n",
              "    display: none;\n",
              "    fill: var(--fill-color);\n",
              "    height: 32px;\n",
              "    padding: 0;\n",
              "    width: 32px;\n",
              "  }\n",
              "\n",
              "  .colab-df-quickchart:hover {\n",
              "    background-color: var(--hover-bg-color);\n",
              "    box-shadow: 0 1px 2px rgba(60, 64, 67, 0.3), 0 1px 3px 1px rgba(60, 64, 67, 0.15);\n",
              "    fill: var(--button-hover-fill-color);\n",
              "  }\n",
              "\n",
              "  .colab-df-quickchart-complete:disabled,\n",
              "  .colab-df-quickchart-complete:disabled:hover {\n",
              "    background-color: var(--disabled-bg-color);\n",
              "    fill: var(--disabled-fill-color);\n",
              "    box-shadow: none;\n",
              "  }\n",
              "\n",
              "  .colab-df-spinner {\n",
              "    border: 2px solid var(--fill-color);\n",
              "    border-color: transparent;\n",
              "    border-bottom-color: var(--fill-color);\n",
              "    animation:\n",
              "      spin 1s steps(1) infinite;\n",
              "  }\n",
              "\n",
              "  @keyframes spin {\n",
              "    0% {\n",
              "      border-color: transparent;\n",
              "      border-bottom-color: var(--fill-color);\n",
              "      border-left-color: var(--fill-color);\n",
              "    }\n",
              "    20% {\n",
              "      border-color: transparent;\n",
              "      border-left-color: var(--fill-color);\n",
              "      border-top-color: var(--fill-color);\n",
              "    }\n",
              "    30% {\n",
              "      border-color: transparent;\n",
              "      border-left-color: var(--fill-color);\n",
              "      border-top-color: var(--fill-color);\n",
              "      border-right-color: var(--fill-color);\n",
              "    }\n",
              "    40% {\n",
              "      border-color: transparent;\n",
              "      border-right-color: var(--fill-color);\n",
              "      border-top-color: var(--fill-color);\n",
              "    }\n",
              "    60% {\n",
              "      border-color: transparent;\n",
              "      border-right-color: var(--fill-color);\n",
              "    }\n",
              "    80% {\n",
              "      border-color: transparent;\n",
              "      border-right-color: var(--fill-color);\n",
              "      border-bottom-color: var(--fill-color);\n",
              "    }\n",
              "    90% {\n",
              "      border-color: transparent;\n",
              "      border-bottom-color: var(--fill-color);\n",
              "    }\n",
              "  }\n",
              "</style>\n",
              "\n",
              "  <script>\n",
              "    async function quickchart(key) {\n",
              "      const quickchartButtonEl =\n",
              "        document.querySelector('#' + key + ' button');\n",
              "      quickchartButtonEl.disabled = true;  // To prevent multiple clicks.\n",
              "      quickchartButtonEl.classList.add('colab-df-spinner');\n",
              "      try {\n",
              "        const charts = await google.colab.kernel.invokeFunction(\n",
              "            'suggestCharts', [key], {});\n",
              "      } catch (error) {\n",
              "        console.error('Error during call to suggestCharts:', error);\n",
              "      }\n",
              "      quickchartButtonEl.classList.remove('colab-df-spinner');\n",
              "      quickchartButtonEl.classList.add('colab-df-quickchart-complete');\n",
              "    }\n",
              "    (() => {\n",
              "      let quickchartButtonEl =\n",
              "        document.querySelector('#df-66a07e47-66a9-44b3-ac0d-d7e533c3e8d8 button');\n",
              "      quickchartButtonEl.style.display =\n",
              "        google.colab.kernel.accessAllowed ? 'block' : 'none';\n",
              "    })();\n",
              "  </script>\n",
              "</div>\n",
              "    </div>\n",
              "  </div>\n"
            ]
          },
          "metadata": {},
          "execution_count": 55
        },
        {
          "output_type": "stream",
          "name": "stdout",
          "text": [
            "time: 865 ms (started: 2023-10-31 09:18:54 +00:00)\n"
          ]
        }
      ]
    },
    {
      "cell_type": "markdown",
      "source": [
        "### Pretrain Initialization"
      ],
      "metadata": {
        "id": "9ZQkDlb6sWB5"
      }
    },
    {
      "cell_type": "code",
      "execution_count": null,
      "metadata": {
        "id": "8phYZ16NxNRu",
        "colab": {
          "base_uri": "https://localhost:8080/"
        },
        "outputId": "378a4672-ad6a-44c2-e84d-1f9c6822a865"
      },
      "outputs": [
        {
          "output_type": "stream",
          "name": "stdout",
          "text": [
            "Requirement already satisfied: transformers in /usr/local/lib/python3.10/dist-packages (4.34.1)\n",
            "Requirement already satisfied: filelock in /usr/local/lib/python3.10/dist-packages (from transformers) (3.12.4)\n",
            "Requirement already satisfied: huggingface-hub<1.0,>=0.16.4 in /usr/local/lib/python3.10/dist-packages (from transformers) (0.17.3)\n",
            "Requirement already satisfied: numpy>=1.17 in /usr/local/lib/python3.10/dist-packages (from transformers) (1.23.5)\n",
            "Requirement already satisfied: packaging>=20.0 in /usr/local/lib/python3.10/dist-packages (from transformers) (23.2)\n",
            "Requirement already satisfied: pyyaml>=5.1 in /usr/local/lib/python3.10/dist-packages (from transformers) (6.0.1)\n",
            "Requirement already satisfied: regex!=2019.12.17 in /usr/local/lib/python3.10/dist-packages (from transformers) (2023.6.3)\n",
            "Requirement already satisfied: requests in /usr/local/lib/python3.10/dist-packages (from transformers) (2.31.0)\n",
            "Requirement already satisfied: tokenizers<0.15,>=0.14 in /usr/local/lib/python3.10/dist-packages (from transformers) (0.14.1)\n",
            "Requirement already satisfied: safetensors>=0.3.1 in /usr/local/lib/python3.10/dist-packages (from transformers) (0.4.0)\n",
            "Requirement already satisfied: tqdm>=4.27 in /usr/local/lib/python3.10/dist-packages (from transformers) (4.66.1)\n",
            "Requirement already satisfied: fsspec in /usr/local/lib/python3.10/dist-packages (from huggingface-hub<1.0,>=0.16.4->transformers) (2023.6.0)\n",
            "Requirement already satisfied: typing-extensions>=3.7.4.3 in /usr/local/lib/python3.10/dist-packages (from huggingface-hub<1.0,>=0.16.4->transformers) (4.5.0)\n",
            "Requirement already satisfied: charset-normalizer<4,>=2 in /usr/local/lib/python3.10/dist-packages (from requests->transformers) (3.3.1)\n",
            "Requirement already satisfied: idna<4,>=2.5 in /usr/local/lib/python3.10/dist-packages (from requests->transformers) (3.4)\n",
            "Requirement already satisfied: urllib3<3,>=1.21.1 in /usr/local/lib/python3.10/dist-packages (from requests->transformers) (2.0.7)\n",
            "Requirement already satisfied: certifi>=2017.4.17 in /usr/local/lib/python3.10/dist-packages (from requests->transformers) (2023.7.22)\n",
            "time: 17.5 s (started: 2023-10-31 09:18:55 +00:00)\n"
          ]
        }
      ],
      "source": [
        "!pip install transformers\n",
        "import torch\n",
        "from transformers import BertTokenizer, BertModel\n",
        "import pickle\n",
        "# OPTIONAL: if you want to have more information on what's happening, activate the logger as follows\n",
        "import logging\n",
        "#logging.basicConfig(level=logging.INFO)\n",
        "\n",
        "import matplotlib.pyplot as plt\n",
        "# % matplotlib inline\n",
        "\n",
        "# Load pre-trained model tokenizer (vocabulary)\n",
        "tokenizer = BertTokenizer.from_pretrained('bert-base-uncased')"
      ]
    },
    {
      "cell_type": "markdown",
      "source": [
        "### Load Model"
      ],
      "metadata": {
        "id": "YoFZsR9o5Qnh"
      }
    },
    {
      "cell_type": "code",
      "source": [
        "# Load pre-trained model (weights)\n",
        "model = BertModel.from_pretrained('bert-base-uncased',\n",
        "                                  output_hidden_states = True, # Whether the model returns all hidden-states.\n",
        "                                  )\n",
        "\n",
        "# Put the model in \"evaluation\" mode, meaning feed-forward operation.\n",
        "model.eval()\n",
        "\n",
        "# Assuming you have a GPU available, you can set your device like this\n",
        "device = torch.device(\"cuda:0\" if torch.cuda.is_available() else \"cpu\")\n",
        "\n",
        "# Move the model to the GPU\n",
        "model.to(device)\n"
      ],
      "metadata": {
        "colab": {
          "base_uri": "https://localhost:8080/"
        },
        "id": "Fdms6c5C5SyX",
        "outputId": "91b39da3-5e66-4f84-95dc-2c4365076e02"
      },
      "execution_count": null,
      "outputs": [
        {
          "output_type": "execute_result",
          "data": {
            "text/plain": [
              "BertModel(\n",
              "  (embeddings): BertEmbeddings(\n",
              "    (word_embeddings): Embedding(30522, 768, padding_idx=0)\n",
              "    (position_embeddings): Embedding(512, 768)\n",
              "    (token_type_embeddings): Embedding(2, 768)\n",
              "    (LayerNorm): LayerNorm((768,), eps=1e-12, elementwise_affine=True)\n",
              "    (dropout): Dropout(p=0.1, inplace=False)\n",
              "  )\n",
              "  (encoder): BertEncoder(\n",
              "    (layer): ModuleList(\n",
              "      (0-11): 12 x BertLayer(\n",
              "        (attention): BertAttention(\n",
              "          (self): BertSelfAttention(\n",
              "            (query): Linear(in_features=768, out_features=768, bias=True)\n",
              "            (key): Linear(in_features=768, out_features=768, bias=True)\n",
              "            (value): Linear(in_features=768, out_features=768, bias=True)\n",
              "            (dropout): Dropout(p=0.1, inplace=False)\n",
              "          )\n",
              "          (output): BertSelfOutput(\n",
              "            (dense): Linear(in_features=768, out_features=768, bias=True)\n",
              "            (LayerNorm): LayerNorm((768,), eps=1e-12, elementwise_affine=True)\n",
              "            (dropout): Dropout(p=0.1, inplace=False)\n",
              "          )\n",
              "        )\n",
              "        (intermediate): BertIntermediate(\n",
              "          (dense): Linear(in_features=768, out_features=3072, bias=True)\n",
              "          (intermediate_act_fn): GELUActivation()\n",
              "        )\n",
              "        (output): BertOutput(\n",
              "          (dense): Linear(in_features=3072, out_features=768, bias=True)\n",
              "          (LayerNorm): LayerNorm((768,), eps=1e-12, elementwise_affine=True)\n",
              "          (dropout): Dropout(p=0.1, inplace=False)\n",
              "        )\n",
              "      )\n",
              "    )\n",
              "  )\n",
              "  (pooler): BertPooler(\n",
              "    (dense): Linear(in_features=768, out_features=768, bias=True)\n",
              "    (activation): Tanh()\n",
              "  )\n",
              ")"
            ]
          },
          "metadata": {},
          "execution_count": 57
        },
        {
          "output_type": "stream",
          "name": "stdout",
          "text": [
            "time: 4.58 s (started: 2023-10-31 09:19:12 +00:00)\n"
          ]
        }
      ]
    },
    {
      "cell_type": "markdown",
      "source": [
        "### Tokenize Data"
      ],
      "metadata": {
        "id": "oRlI7lgCsaYh"
      }
    },
    {
      "cell_type": "code",
      "source": [
        "train_embeddings = 0\n",
        "output_file = 'book_title_tokenized_embeddings.pkl'\n",
        "# input_file = 'book_title_tokenized_embeddings.pkl'\n",
        "input_file = '/content/drive/Shareddrives/Books_Challenge/book_title_tokenized_embeddings_pd_series.pkl'"
      ],
      "metadata": {
        "colab": {
          "base_uri": "https://localhost:8080/"
        },
        "id": "wUThzLmwsqx7",
        "outputId": "4be4c39f-b04f-4241-dc98-c864d60e974b"
      },
      "execution_count": null,
      "outputs": [
        {
          "output_type": "stream",
          "name": "stdout",
          "text": [
            "time: 571 µs (started: 2023-10-31 09:19:17 +00:00)\n"
          ]
        }
      ]
    },
    {
      "cell_type": "code",
      "source": [
        "if train_embeddings==1:\n",
        "  marked_text = \"[CLS] \" + books[books['isbn'].isin( isbn_filter)].book_title  + \" [SEP]\"\n",
        "  marked_text = marked_text.reset_index(drop=True)\n",
        "  marked_text_embedded = marked_text.apply(lambda x: tokenizer.tokenize(x))\n",
        "  # Embedding into IDs\n",
        "  marked_text_segments_ids = marked_text_embedded.apply(lambda x: [1] * len(x))\n",
        "  marked_text_embedded_ids = marked_text_embedded.apply(lambda x : tokenizer.convert_tokens_to_ids(x))\n",
        "  # Tensorizing Tokens\n",
        "  tokens_tensor = marked_text_embedded_ids.apply(lambda x: torch.tensor([x]))\n",
        "  segments_tensors = marked_text_segments_ids.apply(lambda x: torch.tensor([x]))\n",
        "  # Creating one large list of all tokens to get preds\n",
        "  tokens_list = [tokens_tensor[i] for i in range(len(tokens_tensor))]\n",
        "  segments_list = [segments_tensors[i] for i in range(len(segments_tensors))]"
      ],
      "metadata": {
        "colab": {
          "base_uri": "https://localhost:8080/"
        },
        "id": "ftUQd8FbpGZe",
        "outputId": "3b9ca68e-d228-405a-e9de-80b788731bc1"
      },
      "execution_count": null,
      "outputs": [
        {
          "output_type": "stream",
          "name": "stdout",
          "text": [
            "time: 1.25 ms (started: 2023-10-31 09:19:17 +00:00)\n"
          ]
        }
      ]
    },
    {
      "cell_type": "code",
      "source": [
        "# # Embedding into IDs\n",
        "# marked_text_segments_ids = marked_text_embedded.apply(lambda x: [1] * len(x))\n",
        "# marked_text_embedded_ids = marked_text_embedded.apply(lambda x : tokenizer.convert_tokens_to_ids(x))\n",
        "# # Tensorizing Tokens\n",
        "# tokens_tensor = marked_text_embedded_ids.apply(lambda x: torch.tensor([x]))\n",
        "# segments_tensors = marked_text_segments_ids.apply(lambda x: torch.tensor([x]))\n",
        "# # Creating one large list of all tokens to get preds\n",
        "# tokens_list = [tokens_tensor[i] for i in range(len(tokens_tensor))]\n",
        "# segments_list = [segments_tensors[i] for i in range(len(segments_tensors))]"
      ],
      "metadata": {
        "colab": {
          "base_uri": "https://localhost:8080/"
        },
        "id": "qT2PSrcevfwB",
        "outputId": "e5996a3d-f3c4-4a95-94fb-bfca96cfb834"
      },
      "execution_count": null,
      "outputs": [
        {
          "output_type": "stream",
          "name": "stdout",
          "text": [
            "time: 351 µs (started: 2023-10-31 09:19:17 +00:00)\n"
          ]
        }
      ]
    },
    {
      "cell_type": "markdown",
      "source": [
        "### Generate Encodings"
      ],
      "metadata": {
        "id": "VGnmNqjSvCQe"
      }
    },
    {
      "cell_type": "code",
      "source": [
        "if train_embeddings==1:\n",
        "  with torch.no_grad():\n",
        "      all_hidden_states = []\n",
        "      for i,v in enumerate(zip(tokens_list, segments_list)):\n",
        "          (tokens, segments) = v\n",
        "          outputs = model(tokens.to(device), segments.to(device))\n",
        "\n",
        "          # Evaluating the model will return hidden states from all layers.\n",
        "          hidden_states = outputs[2]\n",
        "\n",
        "          # Append the hidden states for this row to the list\n",
        "          all_hidden_states.append(hidden_states)\n",
        "          if i%1000 == 0:\n",
        "            print(f'Completed % ={i*100/len(tokens_list)}')\n",
        "\n",
        "  filename = \"hidden_states.pkl\"\n",
        "  # Pickle and save the data\n",
        "  with open(filename, \"wb\") as file:\n",
        "      pickle.dump(all_hidden_states, file)\n",
        "  all_hidden_states_embeddings = []\n",
        "  for hidden_states in all_hidden_states:\n",
        "    token_vecs = hidden_states[-2][0]\n",
        "    sentence_embedding = torch.mean(token_vecs, dim=0)\n",
        "    all_hidden_states_embeddings.append(sentence_embedding)\n",
        "  all_hidden_states_embeddings = torch.stack(all_hidden_states_embeddings)\n",
        "  all_hidden_states_embeddings_df = pd.DataFrame(all_hidden_states_embeddings.cpu()).set_index(reference_books_df.isbn)\n",
        "  all_hidden_states_embeddings_df.to_pickle('all_hidden_states_embeddings_df.pkl')"
      ],
      "metadata": {
        "colab": {
          "base_uri": "https://localhost:8080/"
        },
        "id": "0msIHhsn7Mw5",
        "outputId": "6833e9a2-724d-4fc5-dbc3-9d8f6946db7d"
      },
      "execution_count": null,
      "outputs": [
        {
          "output_type": "stream",
          "name": "stdout",
          "text": [
            "time: 1.31 ms (started: 2023-10-31 09:19:17 +00:00)\n"
          ]
        }
      ]
    },
    {
      "cell_type": "markdown",
      "source": [
        "### BERT Utils"
      ],
      "metadata": {
        "id": "5UVBKsJfBE4Z"
      }
    },
    {
      "cell_type": "code",
      "source": [
        "all_hidden_states_embeddings_df = pd.read_pickle('/content/drive/Shareddrives/Books_Challenge/all_hidden_states_embeddings_df_large.pkl')"
      ],
      "metadata": {
        "colab": {
          "base_uri": "https://localhost:8080/"
        },
        "id": "hG-uU_1A-zDy",
        "outputId": "e6a18d87-8854-4e95-c76e-bbcb34706d65"
      },
      "execution_count": null,
      "outputs": [
        {
          "output_type": "stream",
          "name": "stdout",
          "text": [
            "time: 374 ms (started: 2023-10-31 09:19:17 +00:00)\n"
          ]
        }
      ]
    },
    {
      "cell_type": "code",
      "source": [
        "def return_embedding(  query = \"Atomic Physics\"):\n",
        "\n",
        "  marked_text = \"[CLS] \" + query + \" [SEP]\"\n",
        "  marked_text_embedded =  tokenizer.tokenize(marked_text)\n",
        "  # Embedding into IDs\n",
        "  marked_text_segments_ids =  [1] * len(marked_text_embedded)\n",
        "  marked_text_embedded_ids = tokenizer.convert_tokens_to_ids(marked_text_embedded)\n",
        "  # Tensorizing Tokens\n",
        "  tokens_tensor = torch.tensor([marked_text_embedded_ids])\n",
        "  segments_tensors = torch.tensor([marked_text_segments_ids])\n",
        "  with torch.no_grad():\n",
        "        outputs = model(tokens_tensor.to(device), segments_tensors.to(device))\n",
        "\n",
        "        # Evaluating the model will return hidden states from all layers.\n",
        "        hidden_states = outputs[2]\n",
        "  token_vecs = hidden_states[-2][0]\n",
        "  sentence_embedding = torch.mean(token_vecs, dim=0)\n",
        "\n",
        "  return sentence_embedding.cpu()"
      ],
      "metadata": {
        "colab": {
          "base_uri": "https://localhost:8080/"
        },
        "id": "5oxQFv_LXiV6",
        "outputId": "3571aa38-9b6d-4bad-ad6d-255d60e4ddf0"
      },
      "execution_count": null,
      "outputs": [
        {
          "output_type": "stream",
          "name": "stdout",
          "text": [
            "time: 2.16 ms (started: 2023-10-31 09:19:18 +00:00)\n"
          ]
        }
      ]
    },
    {
      "cell_type": "code",
      "source": [
        "def return_cosine_similarity(query =  \"Atomic Physics\", all_hidden_states_embeddings_df= all_hidden_states_embeddings_df):\n",
        "\n",
        "  A = return_embedding(query )\n",
        "  norm_A = np.linalg.norm(A)\n",
        "  A_normalized = A / norm_A\n",
        "  B = all_hidden_states_embeddings_df.to_numpy()\n",
        "  norm_B = np.linalg.norm(B, axis=1, keepdims=True)\n",
        "  B_normalized = B / norm_B\n",
        "  cosine_sim = np.dot(B_normalized, A_normalized)\n",
        "  return cosine_sim"
      ],
      "metadata": {
        "colab": {
          "base_uri": "https://localhost:8080/"
        },
        "id": "ica_CO0z6EA4",
        "outputId": "d9de20b5-c39b-4e07-9f4b-91e5cb8fed75"
      },
      "execution_count": null,
      "outputs": [
        {
          "output_type": "stream",
          "name": "stdout",
          "text": [
            "time: 816 µs (started: 2023-10-31 09:19:18 +00:00)\n"
          ]
        }
      ]
    },
    {
      "cell_type": "code",
      "source": [
        "def return_best_book(query =  \"Atomic Physics\"):\n",
        "  cosine_sim = return_cosine_similarity(query)\n",
        "  if reference_books_df.book_title.str.contains(query).sum() ==0:\n",
        "\n",
        "    i = np.argmax(cosine_sim)\n",
        "    return reference_books_df.iloc[i]\n",
        "  else:\n",
        "    sorted_indices = np.argsort(cosine_sim)\n",
        "    second_highest_index = sorted_indices[-2]\n",
        "    return(reference_books_df.iloc[second_highest_index])"
      ],
      "metadata": {
        "colab": {
          "base_uri": "https://localhost:8080/"
        },
        "id": "stH0IYOp8kzS",
        "outputId": "83edceb1-8c67-4be3-ff56-d6a65b011fff"
      },
      "execution_count": null,
      "outputs": [
        {
          "output_type": "stream",
          "name": "stdout",
          "text": [
            "time: 1.85 ms (started: 2023-10-31 09:19:18 +00:00)\n"
          ]
        }
      ]
    },
    {
      "cell_type": "code",
      "source": [
        "def get_best_book_bert_content(query =  \"Atomic Physics\"):\n",
        "  try:\n",
        "    cosine_sim = return_cosine_similarity(query)\n",
        "    # print(cosine_sim)\n",
        "    if reference_books_df.book_title.str.contains(query).sum() ==0:\n",
        "\n",
        "      i = np.argmax(cosine_sim)\n",
        "      return reference_books_df.iloc[i]['book_title']\n",
        "    else:\n",
        "      sorted_indices = np.argsort(cosine_sim)\n",
        "      second_highest_index = sorted_indices[-2]\n",
        "      return(reference_books_df.iloc[second_highest_index]['book_title'])\n",
        "  except:return''\n",
        "\n"
      ],
      "metadata": {
        "colab": {
          "base_uri": "https://localhost:8080/"
        },
        "id": "BJ7tWsm6ukZE",
        "outputId": "22d30631-2cb8-4def-8d14-b0bf5ea659c7"
      },
      "execution_count": null,
      "outputs": [
        {
          "output_type": "stream",
          "name": "stdout",
          "text": [
            "time: 832 µs (started: 2023-10-31 09:19:18 +00:00)\n"
          ]
        }
      ]
    },
    {
      "cell_type": "code",
      "source": [
        "\n",
        "def get_best_book_big_bert_content(query =  \"Atomic Physics\"):\n",
        "  try:\n",
        "    cosine_sim = return_cosine_similarity(query)\n",
        "    # print(cosine_sim)\n",
        "    if big_reference_books_df.book_title.str.contains(query).sum() ==0:\n",
        "\n",
        "      i = np.argmax(cosine_sim)\n",
        "      return big_reference_books_df.iloc[i]['book_title']\n",
        "    else:\n",
        "      sorted_indices = np.argsort(cosine_sim)\n",
        "      second_highest_index = sorted_indices[-2]\n",
        "      return(big_reference_books_df.iloc[second_highest_index]['book_title'])\n",
        "  except:return''\n"
      ],
      "metadata": {
        "colab": {
          "base_uri": "https://localhost:8080/"
        },
        "id": "UpHg6zDp0mao",
        "outputId": "0fd4e15c-3acb-49f3-b57a-b4c67bb6f849"
      },
      "execution_count": null,
      "outputs": [
        {
          "output_type": "stream",
          "name": "stdout",
          "text": [
            "time: 14.1 ms (started: 2023-10-31 09:19:18 +00:00)\n"
          ]
        }
      ]
    },
    {
      "cell_type": "markdown",
      "source": [
        "### Sample BERT API"
      ],
      "metadata": {
        "id": "UTC8uafnBL6O"
      }
    },
    {
      "cell_type": "code",
      "source": [
        "get_best_book_big_bert_content('Vaclav')"
      ],
      "metadata": {
        "colab": {
          "base_uri": "https://localhost:8080/",
          "height": 36
        },
        "id": "cxsUq2pR9Kqr",
        "outputId": "04e2c47a-0e4d-464e-c401-ecc25ccbb375"
      },
      "execution_count": null,
      "outputs": [
        {
          "output_type": "execute_result",
          "data": {
            "text/plain": [
              "'Rusalka'"
            ],
            "application/vnd.google.colaboratory.intrinsic+json": {
              "type": "string"
            }
          },
          "metadata": {},
          "execution_count": 92
        },
        {
          "output_type": "stream",
          "name": "stdout",
          "text": [
            "time: 479 ms (started: 2023-10-31 10:18:34 +00:00)\n"
          ]
        }
      ]
    },
    {
      "cell_type": "markdown",
      "source": [
        "# Content Based With Colaborative Filtering"
      ],
      "metadata": {
        "id": "HSnWoxiWVplO"
      }
    },
    {
      "cell_type": "markdown",
      "source": [
        "## Data Loading"
      ],
      "metadata": {
        "id": "KslqCbI9eXXJ"
      }
    },
    {
      "cell_type": "code",
      "source": [
        "colab_filtering_embeddings = pd.read_pickle('/content/drive/Shareddrives/Books_Challenge/pt.pkl')\n",
        "all_hidden_states_embeddings = pd.read_pickle('/content/drive/Shareddrives/Books_Challenge/all_hidden_states_embeddings_df.pkl')\n",
        "colab_filtering_isbns = set(colab_filtering_embeddings.index)\n",
        "bert_filtering_isbns = set(all_hidden_states_embeddings.index)\n",
        "print(f'Number of books embedded in colaborative filtering: {len(colab_filtering_isbns)}')\n",
        "print(f'Number of books embedded in content filtering: {len(bert_filtering_isbns)}')\n",
        "intersection_set = colab_filtering_isbns.intersection(bert_filtering_isbns)\n",
        "print(f'Intersection of both filters: {len(intersection_set)}')"
      ],
      "metadata": {
        "colab": {
          "base_uri": "https://localhost:8080/"
        },
        "id": "ZYkGm2GvW5v9",
        "outputId": "b14c5c4a-c3e8-4062-968d-865bf95f5292"
      },
      "execution_count": null,
      "outputs": [
        {
          "output_type": "stream",
          "name": "stdout",
          "text": [
            "Number of books embedded in colaborative filtering: 9882\n",
            "Number of books embedded in content filtering: 4059\n",
            "Intersection of both filters: 4056\n",
            "time: 2.66 s (started: 2023-10-31 09:19:18 +00:00)\n"
          ]
        }
      ]
    },
    {
      "cell_type": "markdown",
      "source": [
        "## Merge Similarity Generator"
      ],
      "metadata": {
        "id": "4eaLZ6P5eg-z"
      }
    },
    {
      "cell_type": "code",
      "source": [
        "colab_filtering_cosine_matrix = colab_filtering_embeddings.loc[list(intersection_set)]\n",
        "bert_filtering_cosine_matrix = all_hidden_states_embeddings.loc[list(intersection_set)]\n",
        "bert_filtering_cosine_matrix = pd.DataFrame(\n",
        "    cosine_similarity(bert_filtering_cosine_matrix),\n",
        "             index =list(intersection_set),\n",
        "             columns =list(intersection_set))\n",
        "\n",
        "colab_filtering_cosine_matrix = pd.DataFrame(\n",
        "    cosine_similarity(colab_filtering_cosine_matrix),\n",
        "             index =list(intersection_set),\n",
        "             columns =list(intersection_set))\n",
        "colab_filter_weight = 0.9\n",
        "bert_filter_weight = 0.1\n",
        "\n",
        "\n",
        "joint_similarity_matrix = colab_filtering_cosine_matrix*colab_filter_weight + \\\n",
        "bert_filtering_cosine_matrix*bert_filter_weight"
      ],
      "metadata": {
        "colab": {
          "base_uri": "https://localhost:8080/"
        },
        "id": "dX4RVs2QWY_x",
        "outputId": "c3e72231-b3b7-47c5-b3fa-19dc05399286"
      },
      "execution_count": null,
      "outputs": [
        {
          "output_type": "stream",
          "name": "stdout",
          "text": [
            "time: 11.8 s (started: 2023-10-31 09:19:21 +00:00)\n"
          ]
        }
      ]
    },
    {
      "cell_type": "code",
      "source": [
        "joint_similarity_matrix"
      ],
      "metadata": {
        "colab": {
          "base_uri": "https://localhost:8080/"
        },
        "id": "JPnm7jiEY7pX",
        "outputId": "bd61c31d-c4e5-4c6e-8839-5851a84a6cbb"
      },
      "execution_count": null,
      "outputs": [
        {
          "output_type": "execute_result",
          "data": {
            "text/plain": [
              "            0449005909  0345434471  0060987529  1885171080  0140430725  \\\n",
              "0449005909    1.000000    0.064025    0.116444    0.054661    0.045274   \n",
              "0345434471    0.064025    1.000000    0.058472    0.059204    0.051508   \n",
              "0060987529    0.116444    0.058472    1.000000    0.069074    0.065139   \n",
              "1885171080    0.054661    0.059204    0.069074    1.000000    0.101777   \n",
              "0140430725    0.045274    0.051508    0.065139    0.101777    1.000000   \n",
              "...                ...         ...         ...         ...         ...   \n",
              "0060558199    0.126292    0.058896    0.145080    0.076588    0.061735   \n",
              "0385475772    0.126565    0.053925    0.101559    0.078012    0.065862   \n",
              "0064402053    0.048529    0.054719    0.065086    0.064962    0.062438   \n",
              "0375724370    0.053799    0.057537    0.065465    0.065343    0.070692   \n",
              "0312890540    0.057244    0.061369    0.062601    0.063061    0.064043   \n",
              "\n",
              "            0679429883  0446364703  0399144463  0425192733  1853260150  ...  \\\n",
              "0449005909    0.113893    0.057449    0.092971    0.055355    0.103421  ...   \n",
              "0345434471    0.056537    0.061752    0.052666    0.060214    0.053119  ...   \n",
              "0060987529    0.092899    0.108517    0.091678    0.091045    0.142768  ...   \n",
              "1885171080    0.069212    0.072662    0.179997    0.070203    0.061385  ...   \n",
              "0140430725    0.056834    0.062929    0.064105    0.070769    0.080331  ...   \n",
              "...                ...         ...         ...         ...         ...  ...   \n",
              "0060558199    0.129690    0.079818    0.100465    0.075850    0.210900  ...   \n",
              "0385475772    0.133770    0.071865    0.094466    0.071573    0.120195  ...   \n",
              "0064402053    0.067053    0.060575    0.060889    0.061696    0.061681  ...   \n",
              "0375724370    0.062534    0.067274    0.064445    0.075191    0.074009  ...   \n",
              "0312890540    0.061886    0.065879    0.057705    0.067213    0.060450  ...   \n",
              "\n",
              "            0399145087  0425155404  0380012863  0140272658  0553294903  \\\n",
              "0449005909    0.095619    0.095582    0.048572    0.045057    0.162569   \n",
              "0345434471    0.061686    0.057989    0.052888    0.053241    0.061265   \n",
              "0060987529    0.059296    0.063995    0.070184    0.052523    0.081177   \n",
              "1885171080    0.068219    0.048940    0.051034    0.064886    0.071122   \n",
              "0140430725    0.074149    0.040385    0.051720    0.135213    0.054344   \n",
              "...                ...         ...         ...         ...         ...   \n",
              "0060558199    0.081377    0.094048    0.053842    0.054672    0.117193   \n",
              "0385475772    0.081720    0.096519    0.048270    0.060524    0.126909   \n",
              "0064402053    0.056797    0.040507    0.051027    0.049962    0.059070   \n",
              "0375724370    0.056738    0.039945    0.050982    0.053595    0.059866   \n",
              "0312890540    0.076276    0.039291    0.044988    0.051507    0.062043   \n",
              "\n",
              "            0060558199  0385475772  0064402053  0375724370  0312890540  \n",
              "0449005909    0.126292    0.126565    0.048529    0.053799    0.057244  \n",
              "0345434471    0.058896    0.053925    0.054719    0.057537    0.061369  \n",
              "0060987529    0.145080    0.101559    0.065086    0.065465    0.062601  \n",
              "1885171080    0.076588    0.078012    0.064962    0.065343    0.063061  \n",
              "0140430725    0.061735    0.065862    0.062438    0.070692    0.064043  \n",
              "...                ...         ...         ...         ...         ...  \n",
              "0060558199    1.000000    0.144651    0.065372    0.069638    0.066568  \n",
              "0385475772    0.144651    1.000000    0.060345    0.065698    0.067041  \n",
              "0064402053    0.065372    0.060345    1.000000    0.062543    0.061896  \n",
              "0375724370    0.069638    0.065698    0.062543    1.000000    0.061487  \n",
              "0312890540    0.066568    0.067041    0.061896    0.061487    1.000000  \n",
              "\n",
              "[4056 rows x 4056 columns]"
            ],
            "text/html": [
              "\n",
              "  <div id=\"df-dc3e6943-dac1-4856-b34b-06208441d581\" class=\"colab-df-container\">\n",
              "    <div>\n",
              "<style scoped>\n",
              "    .dataframe tbody tr th:only-of-type {\n",
              "        vertical-align: middle;\n",
              "    }\n",
              "\n",
              "    .dataframe tbody tr th {\n",
              "        vertical-align: top;\n",
              "    }\n",
              "\n",
              "    .dataframe thead th {\n",
              "        text-align: right;\n",
              "    }\n",
              "</style>\n",
              "<table border=\"1\" class=\"dataframe\">\n",
              "  <thead>\n",
              "    <tr style=\"text-align: right;\">\n",
              "      <th></th>\n",
              "      <th>0449005909</th>\n",
              "      <th>0345434471</th>\n",
              "      <th>0060987529</th>\n",
              "      <th>1885171080</th>\n",
              "      <th>0140430725</th>\n",
              "      <th>0679429883</th>\n",
              "      <th>0446364703</th>\n",
              "      <th>0399144463</th>\n",
              "      <th>0425192733</th>\n",
              "      <th>1853260150</th>\n",
              "      <th>...</th>\n",
              "      <th>0399145087</th>\n",
              "      <th>0425155404</th>\n",
              "      <th>0380012863</th>\n",
              "      <th>0140272658</th>\n",
              "      <th>0553294903</th>\n",
              "      <th>0060558199</th>\n",
              "      <th>0385475772</th>\n",
              "      <th>0064402053</th>\n",
              "      <th>0375724370</th>\n",
              "      <th>0312890540</th>\n",
              "    </tr>\n",
              "  </thead>\n",
              "  <tbody>\n",
              "    <tr>\n",
              "      <th>0449005909</th>\n",
              "      <td>1.000000</td>\n",
              "      <td>0.064025</td>\n",
              "      <td>0.116444</td>\n",
              "      <td>0.054661</td>\n",
              "      <td>0.045274</td>\n",
              "      <td>0.113893</td>\n",
              "      <td>0.057449</td>\n",
              "      <td>0.092971</td>\n",
              "      <td>0.055355</td>\n",
              "      <td>0.103421</td>\n",
              "      <td>...</td>\n",
              "      <td>0.095619</td>\n",
              "      <td>0.095582</td>\n",
              "      <td>0.048572</td>\n",
              "      <td>0.045057</td>\n",
              "      <td>0.162569</td>\n",
              "      <td>0.126292</td>\n",
              "      <td>0.126565</td>\n",
              "      <td>0.048529</td>\n",
              "      <td>0.053799</td>\n",
              "      <td>0.057244</td>\n",
              "    </tr>\n",
              "    <tr>\n",
              "      <th>0345434471</th>\n",
              "      <td>0.064025</td>\n",
              "      <td>1.000000</td>\n",
              "      <td>0.058472</td>\n",
              "      <td>0.059204</td>\n",
              "      <td>0.051508</td>\n",
              "      <td>0.056537</td>\n",
              "      <td>0.061752</td>\n",
              "      <td>0.052666</td>\n",
              "      <td>0.060214</td>\n",
              "      <td>0.053119</td>\n",
              "      <td>...</td>\n",
              "      <td>0.061686</td>\n",
              "      <td>0.057989</td>\n",
              "      <td>0.052888</td>\n",
              "      <td>0.053241</td>\n",
              "      <td>0.061265</td>\n",
              "      <td>0.058896</td>\n",
              "      <td>0.053925</td>\n",
              "      <td>0.054719</td>\n",
              "      <td>0.057537</td>\n",
              "      <td>0.061369</td>\n",
              "    </tr>\n",
              "    <tr>\n",
              "      <th>0060987529</th>\n",
              "      <td>0.116444</td>\n",
              "      <td>0.058472</td>\n",
              "      <td>1.000000</td>\n",
              "      <td>0.069074</td>\n",
              "      <td>0.065139</td>\n",
              "      <td>0.092899</td>\n",
              "      <td>0.108517</td>\n",
              "      <td>0.091678</td>\n",
              "      <td>0.091045</td>\n",
              "      <td>0.142768</td>\n",
              "      <td>...</td>\n",
              "      <td>0.059296</td>\n",
              "      <td>0.063995</td>\n",
              "      <td>0.070184</td>\n",
              "      <td>0.052523</td>\n",
              "      <td>0.081177</td>\n",
              "      <td>0.145080</td>\n",
              "      <td>0.101559</td>\n",
              "      <td>0.065086</td>\n",
              "      <td>0.065465</td>\n",
              "      <td>0.062601</td>\n",
              "    </tr>\n",
              "    <tr>\n",
              "      <th>1885171080</th>\n",
              "      <td>0.054661</td>\n",
              "      <td>0.059204</td>\n",
              "      <td>0.069074</td>\n",
              "      <td>1.000000</td>\n",
              "      <td>0.101777</td>\n",
              "      <td>0.069212</td>\n",
              "      <td>0.072662</td>\n",
              "      <td>0.179997</td>\n",
              "      <td>0.070203</td>\n",
              "      <td>0.061385</td>\n",
              "      <td>...</td>\n",
              "      <td>0.068219</td>\n",
              "      <td>0.048940</td>\n",
              "      <td>0.051034</td>\n",
              "      <td>0.064886</td>\n",
              "      <td>0.071122</td>\n",
              "      <td>0.076588</td>\n",
              "      <td>0.078012</td>\n",
              "      <td>0.064962</td>\n",
              "      <td>0.065343</td>\n",
              "      <td>0.063061</td>\n",
              "    </tr>\n",
              "    <tr>\n",
              "      <th>0140430725</th>\n",
              "      <td>0.045274</td>\n",
              "      <td>0.051508</td>\n",
              "      <td>0.065139</td>\n",
              "      <td>0.101777</td>\n",
              "      <td>1.000000</td>\n",
              "      <td>0.056834</td>\n",
              "      <td>0.062929</td>\n",
              "      <td>0.064105</td>\n",
              "      <td>0.070769</td>\n",
              "      <td>0.080331</td>\n",
              "      <td>...</td>\n",
              "      <td>0.074149</td>\n",
              "      <td>0.040385</td>\n",
              "      <td>0.051720</td>\n",
              "      <td>0.135213</td>\n",
              "      <td>0.054344</td>\n",
              "      <td>0.061735</td>\n",
              "      <td>0.065862</td>\n",
              "      <td>0.062438</td>\n",
              "      <td>0.070692</td>\n",
              "      <td>0.064043</td>\n",
              "    </tr>\n",
              "    <tr>\n",
              "      <th>...</th>\n",
              "      <td>...</td>\n",
              "      <td>...</td>\n",
              "      <td>...</td>\n",
              "      <td>...</td>\n",
              "      <td>...</td>\n",
              "      <td>...</td>\n",
              "      <td>...</td>\n",
              "      <td>...</td>\n",
              "      <td>...</td>\n",
              "      <td>...</td>\n",
              "      <td>...</td>\n",
              "      <td>...</td>\n",
              "      <td>...</td>\n",
              "      <td>...</td>\n",
              "      <td>...</td>\n",
              "      <td>...</td>\n",
              "      <td>...</td>\n",
              "      <td>...</td>\n",
              "      <td>...</td>\n",
              "      <td>...</td>\n",
              "      <td>...</td>\n",
              "    </tr>\n",
              "    <tr>\n",
              "      <th>0060558199</th>\n",
              "      <td>0.126292</td>\n",
              "      <td>0.058896</td>\n",
              "      <td>0.145080</td>\n",
              "      <td>0.076588</td>\n",
              "      <td>0.061735</td>\n",
              "      <td>0.129690</td>\n",
              "      <td>0.079818</td>\n",
              "      <td>0.100465</td>\n",
              "      <td>0.075850</td>\n",
              "      <td>0.210900</td>\n",
              "      <td>...</td>\n",
              "      <td>0.081377</td>\n",
              "      <td>0.094048</td>\n",
              "      <td>0.053842</td>\n",
              "      <td>0.054672</td>\n",
              "      <td>0.117193</td>\n",
              "      <td>1.000000</td>\n",
              "      <td>0.144651</td>\n",
              "      <td>0.065372</td>\n",
              "      <td>0.069638</td>\n",
              "      <td>0.066568</td>\n",
              "    </tr>\n",
              "    <tr>\n",
              "      <th>0385475772</th>\n",
              "      <td>0.126565</td>\n",
              "      <td>0.053925</td>\n",
              "      <td>0.101559</td>\n",
              "      <td>0.078012</td>\n",
              "      <td>0.065862</td>\n",
              "      <td>0.133770</td>\n",
              "      <td>0.071865</td>\n",
              "      <td>0.094466</td>\n",
              "      <td>0.071573</td>\n",
              "      <td>0.120195</td>\n",
              "      <td>...</td>\n",
              "      <td>0.081720</td>\n",
              "      <td>0.096519</td>\n",
              "      <td>0.048270</td>\n",
              "      <td>0.060524</td>\n",
              "      <td>0.126909</td>\n",
              "      <td>0.144651</td>\n",
              "      <td>1.000000</td>\n",
              "      <td>0.060345</td>\n",
              "      <td>0.065698</td>\n",
              "      <td>0.067041</td>\n",
              "    </tr>\n",
              "    <tr>\n",
              "      <th>0064402053</th>\n",
              "      <td>0.048529</td>\n",
              "      <td>0.054719</td>\n",
              "      <td>0.065086</td>\n",
              "      <td>0.064962</td>\n",
              "      <td>0.062438</td>\n",
              "      <td>0.067053</td>\n",
              "      <td>0.060575</td>\n",
              "      <td>0.060889</td>\n",
              "      <td>0.061696</td>\n",
              "      <td>0.061681</td>\n",
              "      <td>...</td>\n",
              "      <td>0.056797</td>\n",
              "      <td>0.040507</td>\n",
              "      <td>0.051027</td>\n",
              "      <td>0.049962</td>\n",
              "      <td>0.059070</td>\n",
              "      <td>0.065372</td>\n",
              "      <td>0.060345</td>\n",
              "      <td>1.000000</td>\n",
              "      <td>0.062543</td>\n",
              "      <td>0.061896</td>\n",
              "    </tr>\n",
              "    <tr>\n",
              "      <th>0375724370</th>\n",
              "      <td>0.053799</td>\n",
              "      <td>0.057537</td>\n",
              "      <td>0.065465</td>\n",
              "      <td>0.065343</td>\n",
              "      <td>0.070692</td>\n",
              "      <td>0.062534</td>\n",
              "      <td>0.067274</td>\n",
              "      <td>0.064445</td>\n",
              "      <td>0.075191</td>\n",
              "      <td>0.074009</td>\n",
              "      <td>...</td>\n",
              "      <td>0.056738</td>\n",
              "      <td>0.039945</td>\n",
              "      <td>0.050982</td>\n",
              "      <td>0.053595</td>\n",
              "      <td>0.059866</td>\n",
              "      <td>0.069638</td>\n",
              "      <td>0.065698</td>\n",
              "      <td>0.062543</td>\n",
              "      <td>1.000000</td>\n",
              "      <td>0.061487</td>\n",
              "    </tr>\n",
              "    <tr>\n",
              "      <th>0312890540</th>\n",
              "      <td>0.057244</td>\n",
              "      <td>0.061369</td>\n",
              "      <td>0.062601</td>\n",
              "      <td>0.063061</td>\n",
              "      <td>0.064043</td>\n",
              "      <td>0.061886</td>\n",
              "      <td>0.065879</td>\n",
              "      <td>0.057705</td>\n",
              "      <td>0.067213</td>\n",
              "      <td>0.060450</td>\n",
              "      <td>...</td>\n",
              "      <td>0.076276</td>\n",
              "      <td>0.039291</td>\n",
              "      <td>0.044988</td>\n",
              "      <td>0.051507</td>\n",
              "      <td>0.062043</td>\n",
              "      <td>0.066568</td>\n",
              "      <td>0.067041</td>\n",
              "      <td>0.061896</td>\n",
              "      <td>0.061487</td>\n",
              "      <td>1.000000</td>\n",
              "    </tr>\n",
              "  </tbody>\n",
              "</table>\n",
              "<p>4056 rows × 4056 columns</p>\n",
              "</div>\n",
              "    <div class=\"colab-df-buttons\">\n",
              "\n",
              "  <div class=\"colab-df-container\">\n",
              "    <button class=\"colab-df-convert\" onclick=\"convertToInteractive('df-dc3e6943-dac1-4856-b34b-06208441d581')\"\n",
              "            title=\"Convert this dataframe to an interactive table.\"\n",
              "            style=\"display:none;\">\n",
              "\n",
              "  <svg xmlns=\"http://www.w3.org/2000/svg\" height=\"24px\" viewBox=\"0 -960 960 960\">\n",
              "    <path d=\"M120-120v-720h720v720H120Zm60-500h600v-160H180v160Zm220 220h160v-160H400v160Zm0 220h160v-160H400v160ZM180-400h160v-160H180v160Zm440 0h160v-160H620v160ZM180-180h160v-160H180v160Zm440 0h160v-160H620v160Z\"/>\n",
              "  </svg>\n",
              "    </button>\n",
              "\n",
              "  <style>\n",
              "    .colab-df-container {\n",
              "      display:flex;\n",
              "      gap: 12px;\n",
              "    }\n",
              "\n",
              "    .colab-df-convert {\n",
              "      background-color: #E8F0FE;\n",
              "      border: none;\n",
              "      border-radius: 50%;\n",
              "      cursor: pointer;\n",
              "      display: none;\n",
              "      fill: #1967D2;\n",
              "      height: 32px;\n",
              "      padding: 0 0 0 0;\n",
              "      width: 32px;\n",
              "    }\n",
              "\n",
              "    .colab-df-convert:hover {\n",
              "      background-color: #E2EBFA;\n",
              "      box-shadow: 0px 1px 2px rgba(60, 64, 67, 0.3), 0px 1px 3px 1px rgba(60, 64, 67, 0.15);\n",
              "      fill: #174EA6;\n",
              "    }\n",
              "\n",
              "    .colab-df-buttons div {\n",
              "      margin-bottom: 4px;\n",
              "    }\n",
              "\n",
              "    [theme=dark] .colab-df-convert {\n",
              "      background-color: #3B4455;\n",
              "      fill: #D2E3FC;\n",
              "    }\n",
              "\n",
              "    [theme=dark] .colab-df-convert:hover {\n",
              "      background-color: #434B5C;\n",
              "      box-shadow: 0px 1px 3px 1px rgba(0, 0, 0, 0.15);\n",
              "      filter: drop-shadow(0px 1px 2px rgba(0, 0, 0, 0.3));\n",
              "      fill: #FFFFFF;\n",
              "    }\n",
              "  </style>\n",
              "\n",
              "    <script>\n",
              "      const buttonEl =\n",
              "        document.querySelector('#df-dc3e6943-dac1-4856-b34b-06208441d581 button.colab-df-convert');\n",
              "      buttonEl.style.display =\n",
              "        google.colab.kernel.accessAllowed ? 'block' : 'none';\n",
              "\n",
              "      async function convertToInteractive(key) {\n",
              "        const element = document.querySelector('#df-dc3e6943-dac1-4856-b34b-06208441d581');\n",
              "        const dataTable =\n",
              "          await google.colab.kernel.invokeFunction('convertToInteractive',\n",
              "                                                    [key], {});\n",
              "        if (!dataTable) return;\n",
              "\n",
              "        const docLinkHtml = 'Like what you see? Visit the ' +\n",
              "          '<a target=\"_blank\" href=https://colab.research.google.com/notebooks/data_table.ipynb>data table notebook</a>'\n",
              "          + ' to learn more about interactive tables.';\n",
              "        element.innerHTML = '';\n",
              "        dataTable['output_type'] = 'display_data';\n",
              "        await google.colab.output.renderOutput(dataTable, element);\n",
              "        const docLink = document.createElement('div');\n",
              "        docLink.innerHTML = docLinkHtml;\n",
              "        element.appendChild(docLink);\n",
              "      }\n",
              "    </script>\n",
              "  </div>\n",
              "\n",
              "\n",
              "<div id=\"df-08619705-d9a9-4bba-8c7b-764e3e4dd37a\">\n",
              "  <button class=\"colab-df-quickchart\" onclick=\"quickchart('df-08619705-d9a9-4bba-8c7b-764e3e4dd37a')\"\n",
              "            title=\"Suggest charts.\"\n",
              "            style=\"display:none;\">\n",
              "\n",
              "<svg xmlns=\"http://www.w3.org/2000/svg\" height=\"24px\"viewBox=\"0 0 24 24\"\n",
              "     width=\"24px\">\n",
              "    <g>\n",
              "        <path d=\"M19 3H5c-1.1 0-2 .9-2 2v14c0 1.1.9 2 2 2h14c1.1 0 2-.9 2-2V5c0-1.1-.9-2-2-2zM9 17H7v-7h2v7zm4 0h-2V7h2v10zm4 0h-2v-4h2v4z\"/>\n",
              "    </g>\n",
              "</svg>\n",
              "  </button>\n",
              "\n",
              "<style>\n",
              "  .colab-df-quickchart {\n",
              "      --bg-color: #E8F0FE;\n",
              "      --fill-color: #1967D2;\n",
              "      --hover-bg-color: #E2EBFA;\n",
              "      --hover-fill-color: #174EA6;\n",
              "      --disabled-fill-color: #AAA;\n",
              "      --disabled-bg-color: #DDD;\n",
              "  }\n",
              "\n",
              "  [theme=dark] .colab-df-quickchart {\n",
              "      --bg-color: #3B4455;\n",
              "      --fill-color: #D2E3FC;\n",
              "      --hover-bg-color: #434B5C;\n",
              "      --hover-fill-color: #FFFFFF;\n",
              "      --disabled-bg-color: #3B4455;\n",
              "      --disabled-fill-color: #666;\n",
              "  }\n",
              "\n",
              "  .colab-df-quickchart {\n",
              "    background-color: var(--bg-color);\n",
              "    border: none;\n",
              "    border-radius: 50%;\n",
              "    cursor: pointer;\n",
              "    display: none;\n",
              "    fill: var(--fill-color);\n",
              "    height: 32px;\n",
              "    padding: 0;\n",
              "    width: 32px;\n",
              "  }\n",
              "\n",
              "  .colab-df-quickchart:hover {\n",
              "    background-color: var(--hover-bg-color);\n",
              "    box-shadow: 0 1px 2px rgba(60, 64, 67, 0.3), 0 1px 3px 1px rgba(60, 64, 67, 0.15);\n",
              "    fill: var(--button-hover-fill-color);\n",
              "  }\n",
              "\n",
              "  .colab-df-quickchart-complete:disabled,\n",
              "  .colab-df-quickchart-complete:disabled:hover {\n",
              "    background-color: var(--disabled-bg-color);\n",
              "    fill: var(--disabled-fill-color);\n",
              "    box-shadow: none;\n",
              "  }\n",
              "\n",
              "  .colab-df-spinner {\n",
              "    border: 2px solid var(--fill-color);\n",
              "    border-color: transparent;\n",
              "    border-bottom-color: var(--fill-color);\n",
              "    animation:\n",
              "      spin 1s steps(1) infinite;\n",
              "  }\n",
              "\n",
              "  @keyframes spin {\n",
              "    0% {\n",
              "      border-color: transparent;\n",
              "      border-bottom-color: var(--fill-color);\n",
              "      border-left-color: var(--fill-color);\n",
              "    }\n",
              "    20% {\n",
              "      border-color: transparent;\n",
              "      border-left-color: var(--fill-color);\n",
              "      border-top-color: var(--fill-color);\n",
              "    }\n",
              "    30% {\n",
              "      border-color: transparent;\n",
              "      border-left-color: var(--fill-color);\n",
              "      border-top-color: var(--fill-color);\n",
              "      border-right-color: var(--fill-color);\n",
              "    }\n",
              "    40% {\n",
              "      border-color: transparent;\n",
              "      border-right-color: var(--fill-color);\n",
              "      border-top-color: var(--fill-color);\n",
              "    }\n",
              "    60% {\n",
              "      border-color: transparent;\n",
              "      border-right-color: var(--fill-color);\n",
              "    }\n",
              "    80% {\n",
              "      border-color: transparent;\n",
              "      border-right-color: var(--fill-color);\n",
              "      border-bottom-color: var(--fill-color);\n",
              "    }\n",
              "    90% {\n",
              "      border-color: transparent;\n",
              "      border-bottom-color: var(--fill-color);\n",
              "    }\n",
              "  }\n",
              "</style>\n",
              "\n",
              "  <script>\n",
              "    async function quickchart(key) {\n",
              "      const quickchartButtonEl =\n",
              "        document.querySelector('#' + key + ' button');\n",
              "      quickchartButtonEl.disabled = true;  // To prevent multiple clicks.\n",
              "      quickchartButtonEl.classList.add('colab-df-spinner');\n",
              "      try {\n",
              "        const charts = await google.colab.kernel.invokeFunction(\n",
              "            'suggestCharts', [key], {});\n",
              "      } catch (error) {\n",
              "        console.error('Error during call to suggestCharts:', error);\n",
              "      }\n",
              "      quickchartButtonEl.classList.remove('colab-df-spinner');\n",
              "      quickchartButtonEl.classList.add('colab-df-quickchart-complete');\n",
              "    }\n",
              "    (() => {\n",
              "      let quickchartButtonEl =\n",
              "        document.querySelector('#df-08619705-d9a9-4bba-8c7b-764e3e4dd37a button');\n",
              "      quickchartButtonEl.style.display =\n",
              "        google.colab.kernel.accessAllowed ? 'block' : 'none';\n",
              "    })();\n",
              "  </script>\n",
              "</div>\n",
              "    </div>\n",
              "  </div>\n"
            ]
          },
          "metadata": {},
          "execution_count": 71
        },
        {
          "output_type": "stream",
          "name": "stdout",
          "text": [
            "time: 50.3 ms (started: 2023-10-31 09:19:33 +00:00)\n"
          ]
        }
      ]
    },
    {
      "cell_type": "markdown",
      "source": [
        "## Merged Approach Utils"
      ],
      "metadata": {
        "id": "iysXz6-uiwks"
      }
    },
    {
      "cell_type": "code",
      "source": [
        "\n",
        "def get_best_book_colab_with_content (query = 'Atomic Physics'):\n",
        "  try:\n",
        "    isbn = title_isbn_map[query]\n",
        "    series = joint_similarity_matrix[isbn]\n",
        "    return (isbn_title_map[series.sort_values().index[-2]])\n",
        "  except:\n",
        "    return ''"
      ],
      "metadata": {
        "colab": {
          "base_uri": "https://localhost:8080/"
        },
        "id": "bSf6eB9be5os",
        "outputId": "9934bf79-10ca-44b0-a160-a7214149033f"
      },
      "execution_count": null,
      "outputs": [
        {
          "output_type": "stream",
          "name": "stdout",
          "text": [
            "time: 748 µs (started: 2023-10-31 09:19:33 +00:00)\n"
          ]
        }
      ]
    },
    {
      "cell_type": "markdown",
      "source": [
        "## Sample Merged Approach API"
      ],
      "metadata": {
        "id": "500Qg2Dqi0de"
      }
    },
    {
      "cell_type": "code",
      "source": [
        "get_best_book_colab_with_content(\"1984\")"
      ],
      "metadata": {
        "colab": {
          "base_uri": "https://localhost:8080/",
          "height": 36
        },
        "id": "MuG01cR9fYvA",
        "outputId": "3b3ffad9-facd-4597-f7c6-61a98867b13c"
      },
      "execution_count": null,
      "outputs": [
        {
          "output_type": "execute_result",
          "data": {
            "text/plain": [
              "'Animal Farm'"
            ],
            "application/vnd.google.colaboratory.intrinsic+json": {
              "type": "string"
            }
          },
          "metadata": {},
          "execution_count": 73
        },
        {
          "output_type": "stream",
          "name": "stdout",
          "text": [
            "time: 7.2 ms (started: 2023-10-31 09:19:33 +00:00)\n"
          ]
        }
      ]
    },
    {
      "cell_type": "markdown",
      "source": [
        "# Performance Validation"
      ],
      "metadata": {
        "id": "ojNTs1i4yQ5a"
      }
    },
    {
      "cell_type": "code",
      "source": [
        "# n = 10\n",
        "# top_users = ratings.groupby('user_id').size().sort_values(ascending=False).index[5:n+5].to_list()"
      ],
      "metadata": {
        "colab": {
          "base_uri": "https://localhost:8080/"
        },
        "id": "RkHK0uyUyVGY",
        "outputId": "f3996aba-d3e3-4d5d-deba-825d60d8ed9e"
      },
      "execution_count": null,
      "outputs": [
        {
          "output_type": "stream",
          "name": "stdout",
          "text": [
            "time: 254 µs (started: 2023-10-31 09:19:33 +00:00)\n"
          ]
        }
      ]
    },
    {
      "cell_type": "code",
      "source": [
        "# ratings_with_name = ratings.merge(books,on='isbn')\n",
        "# ratings_with_name = ratings_with_name[['isbn','user_id','rating', 'book_title']]\n",
        "# top_users_ratings_with_name = ratings_with_name[ratings_with_name['user_id'].isin(top_users)][['user_id','book_title']]\n",
        "# top_users_ratings_with_name = top_users_ratings_with_name.groupby('user_id').agg(['unique'])\n",
        "# top_users_ratings_with_name = pd.DataFrame(top_users_ratings_with_name.to_records())\n",
        "# top_users_ratings_with_name.set_axis(['User', 'Book'], axis=1,inplace=True)\n",
        "# validation_data = top_users_ratings_with_name.explode('Book')\n",
        "# # val_df = pd.read_pickle('/content/drive/Shareddrives/Books_Challenge/validation_data.pkl')"
      ],
      "metadata": {
        "colab": {
          "base_uri": "https://localhost:8080/"
        },
        "id": "MBz9r8PZy86z",
        "outputId": "7c21bfa1-0f2b-4372-fd7d-7f83dbb08ede"
      },
      "execution_count": null,
      "outputs": [
        {
          "output_type": "stream",
          "name": "stdout",
          "text": [
            "time: 336 µs (started: 2023-10-31 09:19:33 +00:00)\n"
          ]
        }
      ]
    },
    {
      "cell_type": "code",
      "source": [
        "# def return_set_stats(A, B):\n",
        "#     TP_B = len(A.intersection(B))\n",
        "#     B.discard(str(user))\n",
        "#     Total_Preds = len(B)\n",
        "#     FP_B = (len(B) - len(A.intersection(B)))\n",
        "#     return int(TP_B),int(FP_B),Total_Preds\n"
      ],
      "metadata": {
        "colab": {
          "base_uri": "https://localhost:8080/"
        },
        "id": "WnLr4j1x2_pB",
        "outputId": "353bb898-7d30-40ce-eeec-6f28c55c9869"
      },
      "execution_count": null,
      "outputs": [
        {
          "output_type": "stream",
          "name": "stdout",
          "text": [
            "time: 685 µs (started: 2023-10-31 09:19:33 +00:00)\n"
          ]
        }
      ]
    },
    {
      "cell_type": "code",
      "source": [
        "# validation_data['cosine_colab'] = validation_data['Book'].apply(lambda x: get_best_book_cosine_colab(x))\n",
        "# validation_data['graph_with_cosine_colab'] = validation_data['Book'].apply(lambda x: get_best_book_graph_with_cosine_colab(x))\n",
        "# validation_data['bert_content'] =  validation_data['Book'].apply(lambda x: get_best_book_bert_content(x))\n",
        "# validation_data['colab_with_content'] =  validation_data['Book'].apply(lambda x: get_best_book_colab_with_content(x))\n",
        "# # validation_data\n",
        "\n",
        "# file_name = \"validation_data.pkl\"\n",
        "# import pickle\n",
        "# with open(file_name, 'wb') as file:\n",
        "#     pickle.dump(validation_data, file)\n",
        "\n",
        "# val_df = validation_data\n",
        "# list_of_stats = []\n",
        "# val_df.reset_index(drop=True, inplace = True)\n",
        "# for user in val_df.User.unique():\n",
        "#     user_df = val_df[val_df['User'] == user]\n",
        "#     number_of_samples = int(user_df.shape[0]/10)\n",
        "#     sample = user_df.sample(number_of_samples)\n",
        "#     A = set(str(user)+sample.Book)\n",
        "#     B = set(str(user)+sample.cosine_colab)\n",
        "#     TP_B,FP_B,Total_Preds = return_set_stats(A,B)\n",
        "#     list_of_stats.append(['M1',TP_B,FP_B,Total_Preds])\n",
        "\n",
        "\n",
        "#     C = set(str(user)+sample.graph_with_cosine_colab)\n",
        "#     TP_B,FP_B,Total_Preds = return_set_stats(A,C)\n",
        "#     list_of_stats.append(['M2',TP_B,FP_B,Total_Preds])\n",
        "\n",
        "\n",
        "#     # D = set(str(user)+sample.bert_content)\n",
        "#     # TP_B,FP_B,Total_Preds = return_set_stats(A,D)\n",
        "#     # list_of_stats.append(['M3',TP_B,FP_B,Total_Preds])\n",
        "\n",
        "#     E = set(str(user)+sample.colab_with_content)\n",
        "#     TP_B,FP_B,Total_Preds = return_set_stats(A,E)\n",
        "#     list_of_stats.append(['M4',TP_B,FP_B,Total_Preds])\n",
        "\n",
        "\n",
        "\n",
        "\n",
        "# val_results_df = pd.DataFrame(np.array(list_of_stats),columns = ['Method', 'True_Pos', 'False_Pos', 'Count'])"
      ],
      "metadata": {
        "colab": {
          "base_uri": "https://localhost:8080/"
        },
        "id": "0Bv0btU634Eh",
        "outputId": "89006f60-0cd0-446a-898e-5dc51022ba9c"
      },
      "execution_count": null,
      "outputs": [
        {
          "output_type": "stream",
          "name": "stdout",
          "text": [
            "time: 361 µs (started: 2023-10-31 09:19:33 +00:00)\n"
          ]
        }
      ]
    },
    {
      "cell_type": "code",
      "source": [
        "# val_results_df"
      ],
      "metadata": {
        "colab": {
          "base_uri": "https://localhost:8080/"
        },
        "id": "ptrVbejI-Ytv",
        "outputId": "8fdb6ae2-93b8-4a61-f069-46c8071bb261"
      },
      "execution_count": null,
      "outputs": [
        {
          "output_type": "stream",
          "name": "stdout",
          "text": [
            "time: 298 µs (started: 2023-10-31 09:19:33 +00:00)\n"
          ]
        }
      ]
    },
    {
      "cell_type": "code",
      "source": [
        "toc = time.time()\n",
        "net_execution_time =  toc - tic"
      ],
      "metadata": {
        "colab": {
          "base_uri": "https://localhost:8080/"
        },
        "id": "DiOpvidpLQ0H",
        "outputId": "885bbe27-0087-47da-9d7c-0967aa802491"
      },
      "execution_count": null,
      "outputs": [
        {
          "output_type": "stream",
          "name": "stdout",
          "text": [
            "time: 565 µs (started: 2023-10-31 09:19:33 +00:00)\n"
          ]
        }
      ]
    }
  ]
}